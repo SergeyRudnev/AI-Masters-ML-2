{
 "cells": [
  {
   "cell_type": "code",
   "execution_count": 1,
   "id": "8b95a5d1",
   "metadata": {},
   "outputs": [],
   "source": [
    "import numpy as np\n",
    "import pandas as pd\n",
    "import catboost\n",
    "import matplotlib.pyplot as plt\n",
    "from sklearn.metrics import roc_auc_score"
   ]
  },
  {
   "cell_type": "code",
   "execution_count": 2,
   "id": "d885e367",
   "metadata": {},
   "outputs": [],
   "source": [
    "df_train = pd.read_csv('1_data/train_data.csv')\n",
    "df_test = pd.read_csv('1_data/test_data.csv')\n",
    "df_train_target = pd.read_csv('1_data/train_target.csv')"
   ]
  },
  {
   "cell_type": "code",
   "execution_count": 3,
   "id": "147e09ab",
   "metadata": {},
   "outputs": [],
   "source": [
    "def creare_features(df_list):\n",
    "    df_tmp = []\n",
    "    for el in df_list:\n",
    "        df_tmp.append(el.copy())\n",
    "   \n",
    "    for df in df_tmp:\n",
    "        \n",
    "        # dummy feats\n",
    "        df['is_dist'] = (df.dist != -1.0).astype(int)\n",
    "        \n",
    "        # time feat\n",
    "        df['due_datetime'] = pd.to_datetime(df.due)\n",
    "        df['day_of_week'] = df.due_datetime.dt.dayofweek\n",
    "        df['hour'] = df.due_datetime.dt.hour\n",
    "        \n",
    "        df['time_as_str'] = df.due.apply(lambda x: x[x.find(' ') + 1:-4])\n",
    "        df['due_timedelta'] = pd.to_timedelta(df.time_as_str)\n",
    "        df['total_seconds'] = df.due_timedelta.dt.total_seconds()\n",
    "        df['total_minutes'] = df.total_seconds // 60\n",
    "        \n",
    "        df.fillna({\n",
    "            'f_class': 'nan',\n",
    "            's_class': 'nan',\n",
    "            't_class': 'nan'\n",
    "        }, inplace=True)\n",
    "        \n",
    "        df.drop(['time_as_str', 'due_timedelta', 'due_datetime', 'due'], inplace=True, axis=1)\n",
    "    \n",
    "    one_hot_columns = ['f_class', 's_class', 't_class', 'day_of_week']\n",
    "    for column in one_hot_columns:\n",
    "        df_tmp[0][column] = df_tmp[0][column].astype('category')\n",
    "        df_tmp[1][column] = df_tmp[1][column].astype('category')\n",
    "        df_tmp[1][column] = (\n",
    "            df_tmp[1][column]\n",
    "            .cat\n",
    "            .set_categories(df_tmp[0][column].cat.categories)\n",
    "        )\n",
    "    dfs = []\n",
    "    for df in df_tmp:\n",
    "        df = pd.get_dummies(df)\n",
    "        dfs.append(df)\n",
    "    \n",
    "    return dfs"
   ]
  },
  {
   "cell_type": "code",
   "execution_count": 4,
   "id": "20f2054a",
   "metadata": {
    "scrolled": true
   },
   "outputs": [],
   "source": [
    "df_train_feat, df_test_feat = creare_features([df_train, df_test])"
   ]
  },
  {
   "cell_type": "code",
   "execution_count": 5,
   "id": "7660d40c",
   "metadata": {},
   "outputs": [
    {
     "data": {
      "text/plain": [
       "(1187461, 26)"
      ]
     },
     "execution_count": 5,
     "metadata": {},
     "output_type": "execute_result"
    }
   ],
   "source": [
    "df_train_feat.shape"
   ]
  },
  {
   "cell_type": "code",
   "execution_count": 6,
   "id": "03d2769e",
   "metadata": {
    "scrolled": true
   },
   "outputs": [
    {
     "data": {
      "text/plain": [
       "Index(['dist', 'lat', 'lon', 'is_dist', 'hour', 'total_seconds',\n",
       "       'total_minutes', 'f_class_business', 'f_class_econom', 'f_class_nan',\n",
       "       'f_class_vip', 's_class_business', 's_class_econom', 's_class_nan',\n",
       "       's_class_vip', 't_class_business', 't_class_econom', 't_class_nan',\n",
       "       't_class_vip', 'day_of_week_0', 'day_of_week_1', 'day_of_week_2',\n",
       "       'day_of_week_3', 'day_of_week_4', 'day_of_week_5', 'day_of_week_6'],\n",
       "      dtype='object')"
      ]
     },
     "execution_count": 6,
     "metadata": {},
     "output_type": "execute_result"
    }
   ],
   "source": [
    "df_train_feat.columns"
   ]
  },
  {
   "cell_type": "code",
   "execution_count": 7,
   "id": "35ae2c58",
   "metadata": {},
   "outputs": [],
   "source": [
    "params = {\n",
    "    'iterations': 2000,\n",
    "    'loss_function': \"Logloss\",\n",
    "    'thread_count': 8,\n",
    "    'depth': 5, \n",
    "    'learning_rate': 0.1, \n",
    "    'random_state': 0,\n",
    "    'eval_metric': 'AUC',\n",
    "}"
   ]
  },
  {
   "cell_type": "code",
   "execution_count": 8,
   "id": "413022bc",
   "metadata": {},
   "outputs": [],
   "source": [
    "train_cols = list(df_train_feat.columns)\n",
    "cat_features = []"
   ]
  },
  {
   "cell_type": "code",
   "execution_count": 9,
   "id": "5183769d",
   "metadata": {},
   "outputs": [],
   "source": [
    "train_pool = catboost.Pool(\n",
    "    df_train_feat.loc[:, train_cols],\n",
    "    label=df_train_target.target,\n",
    "    cat_features=cat_features\n",
    ")"
   ]
  },
  {
   "cell_type": "code",
   "execution_count": 10,
   "id": "08b66605",
   "metadata": {
    "scrolled": true
   },
   "outputs": [
    {
     "name": "stdout",
     "output_type": "stream",
     "text": [
      "0:\ttest: 0.5996243\tbest: 0.5996243 (0)\ttotal: 157ms\tremaining: 5m 14s\n",
      "100:\ttest: 0.6446788\tbest: 0.6446788 (100)\ttotal: 11.1s\tremaining: 3m 28s\n",
      "200:\ttest: 0.6492137\tbest: 0.6492137 (200)\ttotal: 22s\tremaining: 3m 17s\n",
      "300:\ttest: 0.6517526\tbest: 0.6517526 (300)\ttotal: 33.5s\tremaining: 3m 9s\n",
      "400:\ttest: 0.6536391\tbest: 0.6536391 (400)\ttotal: 44.8s\tremaining: 2m 58s\n",
      "500:\ttest: 0.6550691\tbest: 0.6550691 (500)\ttotal: 56.4s\tremaining: 2m 48s\n",
      "600:\ttest: 0.6564732\tbest: 0.6564732 (600)\ttotal: 1m 10s\tremaining: 2m 43s\n",
      "700:\ttest: 0.6578976\tbest: 0.6578976 (700)\ttotal: 1m 23s\tremaining: 2m 34s\n",
      "800:\ttest: 0.6590189\tbest: 0.6590189 (800)\ttotal: 1m 37s\tremaining: 2m 25s\n",
      "900:\ttest: 0.6600594\tbest: 0.6600594 (900)\ttotal: 1m 50s\tremaining: 2m 14s\n",
      "1000:\ttest: 0.6610927\tbest: 0.6610927 (1000)\ttotal: 2m 2s\tremaining: 2m 2s\n",
      "1100:\ttest: 0.6621146\tbest: 0.6621146 (1100)\ttotal: 2m 15s\tremaining: 1m 50s\n",
      "1200:\ttest: 0.6631005\tbest: 0.6631005 (1200)\ttotal: 2m 29s\tremaining: 1m 39s\n",
      "1300:\ttest: 0.6641254\tbest: 0.6641254 (1300)\ttotal: 2m 43s\tremaining: 1m 27s\n",
      "1400:\ttest: 0.6649767\tbest: 0.6649767 (1400)\ttotal: 2m 56s\tremaining: 1m 15s\n",
      "1500:\ttest: 0.6658485\tbest: 0.6658485 (1500)\ttotal: 3m 8s\tremaining: 1m 2s\n",
      "1600:\ttest: 0.6666899\tbest: 0.6666899 (1600)\ttotal: 3m 21s\tremaining: 50.1s\n",
      "1700:\ttest: 0.6675427\tbest: 0.6675427 (1700)\ttotal: 3m 34s\tremaining: 37.7s\n",
      "1800:\ttest: 0.6684221\tbest: 0.6684221 (1800)\ttotal: 3m 47s\tremaining: 25.2s\n",
      "1900:\ttest: 0.6693323\tbest: 0.6693323 (1900)\ttotal: 4m 1s\tremaining: 12.6s\n",
      "1999:\ttest: 0.6701244\tbest: 0.6701244 (1999)\ttotal: 4m 13s\tremaining: 0us\n",
      "\n",
      "bestTest = 0.6701243934\n",
      "bestIteration = 1999\n",
      "\n",
      "0.10000000149011612\n"
     ]
    },
    {
     "data": {
      "text/html": [
       "<div>\n",
       "<style scoped>\n",
       "    .dataframe tbody tr th:only-of-type {\n",
       "        vertical-align: middle;\n",
       "    }\n",
       "\n",
       "    .dataframe tbody tr th {\n",
       "        vertical-align: top;\n",
       "    }\n",
       "\n",
       "    .dataframe thead th {\n",
       "        text-align: right;\n",
       "    }\n",
       "</style>\n",
       "<table border=\"1\" class=\"dataframe\">\n",
       "  <thead>\n",
       "    <tr style=\"text-align: right;\">\n",
       "      <th></th>\n",
       "      <th>Feature Id</th>\n",
       "      <th>Importances</th>\n",
       "    </tr>\n",
       "  </thead>\n",
       "  <tbody>\n",
       "    <tr>\n",
       "      <th>0</th>\n",
       "      <td>dist</td>\n",
       "      <td>28.871311</td>\n",
       "    </tr>\n",
       "    <tr>\n",
       "      <th>1</th>\n",
       "      <td>lon</td>\n",
       "      <td>22.372420</td>\n",
       "    </tr>\n",
       "    <tr>\n",
       "      <th>2</th>\n",
       "      <td>lat</td>\n",
       "      <td>21.261146</td>\n",
       "    </tr>\n",
       "    <tr>\n",
       "      <th>3</th>\n",
       "      <td>total_minutes</td>\n",
       "      <td>6.404010</td>\n",
       "    </tr>\n",
       "    <tr>\n",
       "      <th>4</th>\n",
       "      <td>total_seconds</td>\n",
       "      <td>5.729841</td>\n",
       "    </tr>\n",
       "    <tr>\n",
       "      <th>5</th>\n",
       "      <td>is_dist</td>\n",
       "      <td>3.446398</td>\n",
       "    </tr>\n",
       "    <tr>\n",
       "      <th>6</th>\n",
       "      <td>hour</td>\n",
       "      <td>2.063617</td>\n",
       "    </tr>\n",
       "    <tr>\n",
       "      <th>7</th>\n",
       "      <td>day_of_week_0</td>\n",
       "      <td>1.227531</td>\n",
       "    </tr>\n",
       "    <tr>\n",
       "      <th>8</th>\n",
       "      <td>s_class_nan</td>\n",
       "      <td>0.844484</td>\n",
       "    </tr>\n",
       "    <tr>\n",
       "      <th>9</th>\n",
       "      <td>f_class_vip</td>\n",
       "      <td>0.794046</td>\n",
       "    </tr>\n",
       "    <tr>\n",
       "      <th>10</th>\n",
       "      <td>f_class_nan</td>\n",
       "      <td>0.735331</td>\n",
       "    </tr>\n",
       "    <tr>\n",
       "      <th>11</th>\n",
       "      <td>day_of_week_2</td>\n",
       "      <td>0.680483</td>\n",
       "    </tr>\n",
       "    <tr>\n",
       "      <th>12</th>\n",
       "      <td>day_of_week_4</td>\n",
       "      <td>0.601678</td>\n",
       "    </tr>\n",
       "    <tr>\n",
       "      <th>13</th>\n",
       "      <td>day_of_week_6</td>\n",
       "      <td>0.585000</td>\n",
       "    </tr>\n",
       "    <tr>\n",
       "      <th>14</th>\n",
       "      <td>t_class_nan</td>\n",
       "      <td>0.575327</td>\n",
       "    </tr>\n",
       "    <tr>\n",
       "      <th>15</th>\n",
       "      <td>day_of_week_5</td>\n",
       "      <td>0.479771</td>\n",
       "    </tr>\n",
       "    <tr>\n",
       "      <th>16</th>\n",
       "      <td>s_class_business</td>\n",
       "      <td>0.471053</td>\n",
       "    </tr>\n",
       "    <tr>\n",
       "      <th>17</th>\n",
       "      <td>s_class_vip</td>\n",
       "      <td>0.454349</td>\n",
       "    </tr>\n",
       "    <tr>\n",
       "      <th>18</th>\n",
       "      <td>day_of_week_1</td>\n",
       "      <td>0.442130</td>\n",
       "    </tr>\n",
       "    <tr>\n",
       "      <th>19</th>\n",
       "      <td>day_of_week_3</td>\n",
       "      <td>0.425477</td>\n",
       "    </tr>\n",
       "    <tr>\n",
       "      <th>20</th>\n",
       "      <td>f_class_business</td>\n",
       "      <td>0.411942</td>\n",
       "    </tr>\n",
       "    <tr>\n",
       "      <th>21</th>\n",
       "      <td>t_class_vip</td>\n",
       "      <td>0.392424</td>\n",
       "    </tr>\n",
       "    <tr>\n",
       "      <th>22</th>\n",
       "      <td>s_class_econom</td>\n",
       "      <td>0.310107</td>\n",
       "    </tr>\n",
       "    <tr>\n",
       "      <th>23</th>\n",
       "      <td>f_class_econom</td>\n",
       "      <td>0.243684</td>\n",
       "    </tr>\n",
       "    <tr>\n",
       "      <th>24</th>\n",
       "      <td>t_class_econom</td>\n",
       "      <td>0.094960</td>\n",
       "    </tr>\n",
       "    <tr>\n",
       "      <th>25</th>\n",
       "      <td>t_class_business</td>\n",
       "      <td>0.081476</td>\n",
       "    </tr>\n",
       "  </tbody>\n",
       "</table>\n",
       "</div>"
      ],
      "text/plain": [
       "          Feature Id  Importances\n",
       "0               dist    28.871311\n",
       "1                lon    22.372420\n",
       "2                lat    21.261146\n",
       "3      total_minutes     6.404010\n",
       "4      total_seconds     5.729841\n",
       "5            is_dist     3.446398\n",
       "6               hour     2.063617\n",
       "7      day_of_week_0     1.227531\n",
       "8        s_class_nan     0.844484\n",
       "9        f_class_vip     0.794046\n",
       "10       f_class_nan     0.735331\n",
       "11     day_of_week_2     0.680483\n",
       "12     day_of_week_4     0.601678\n",
       "13     day_of_week_6     0.585000\n",
       "14       t_class_nan     0.575327\n",
       "15     day_of_week_5     0.479771\n",
       "16  s_class_business     0.471053\n",
       "17       s_class_vip     0.454349\n",
       "18     day_of_week_1     0.442130\n",
       "19     day_of_week_3     0.425477\n",
       "20  f_class_business     0.411942\n",
       "21       t_class_vip     0.392424\n",
       "22    s_class_econom     0.310107\n",
       "23    f_class_econom     0.243684\n",
       "24    t_class_econom     0.094960\n",
       "25  t_class_business     0.081476"
      ]
     },
     "execution_count": 10,
     "metadata": {},
     "output_type": "execute_result"
    }
   ],
   "source": [
    "model = catboost.CatBoost(params)\n",
    "model.fit(\n",
    "    train_pool, \n",
    "    eval_set=train_pool,\n",
    "    verbose=100,\n",
    ")\n",
    "\n",
    "print(model.learning_rate_)\n",
    "model.get_feature_importance(train_pool, prettified=True).head(50)"
   ]
  },
  {
   "cell_type": "code",
   "execution_count": 11,
   "id": "34c3faf0",
   "metadata": {},
   "outputs": [],
   "source": [
    "test_pool = catboost.Pool(\n",
    "    df_test_feat.loc[:, train_cols],\n",
    "    cat_features=cat_features\n",
    ")"
   ]
  },
  {
   "cell_type": "code",
   "execution_count": 12,
   "id": "bbf31277",
   "metadata": {},
   "outputs": [],
   "source": [
    "sub = pd.read_csv('1_data/sample_submission.csv')"
   ]
  },
  {
   "cell_type": "code",
   "execution_count": 13,
   "id": "cc3ddadd",
   "metadata": {},
   "outputs": [],
   "source": [
    "sub.target = model.predict(test_pool, prediction_type='Probability')[:, 1]"
   ]
  },
  {
   "cell_type": "code",
   "execution_count": 14,
   "id": "b474ea7d",
   "metadata": {},
   "outputs": [],
   "source": [
    "sub.to_csv('sub_1.csv', index=False)"
   ]
  },
  {
   "cell_type": "code",
   "execution_count": null,
   "id": "835ac107",
   "metadata": {},
   "outputs": [],
   "source": []
  }
 ],
 "metadata": {
  "kernelspec": {
   "display_name": "Python 3 (ipykernel)",
   "language": "python",
   "name": "python3"
  },
  "language_info": {
   "codemirror_mode": {
    "name": "ipython",
    "version": 3
   },
   "file_extension": ".py",
   "mimetype": "text/x-python",
   "name": "python",
   "nbconvert_exporter": "python",
   "pygments_lexer": "ipython3",
   "version": "3.9.7"
  }
 },
 "nbformat": 4,
 "nbformat_minor": 5
}
