{
 "cells": [
  {
   "cell_type": "code",
   "execution_count": 1,
   "id": "135632bc",
   "metadata": {},
   "outputs": [],
   "source": [
    "import pandas as pd\n",
    "import numpy as np\n",
    "import matplotlib.pyplot as plt\n",
    "\n",
    "from scipy.stats import rankdata\n",
    "\n",
    "from sklearn.neighbors import KNeighborsClassifier\n",
    "from sklearn.cluster import KMeans\n",
    "\n",
    "from tqdm import tqdm\n",
    "\n",
    "from geopy.distance import geodesic\n",
    "\n",
    "from scipy.stats.stats import pearsonr\n",
    "from sklearn.metrics import roc_auc_score\n",
    "from sklearn.model_selection import train_test_split\n",
    "from sklearn.preprocessing import OneHotEncoder\n",
    "from sklearn.preprocessing import LabelEncoder\n",
    "\n",
    "import xgboost as xgb\n",
    "from xgboost.sklearn import XGBClassifier\n",
    "import catboost\n",
    "from sklearn.model_selection import GridSearchCV\n",
    "from sklearn.model_selection import RandomizedSearchCV\n",
    "\n",
    "import warnings\n",
    "warnings.filterwarnings(\"ignore\")"
   ]
  },
  {
   "cell_type": "code",
   "execution_count": 2,
   "id": "be8686a0",
   "metadata": {},
   "outputs": [],
   "source": [
    "df_train = pd.read_csv('1_data/train_data.csv')\n",
    "df_test = pd.read_csv('1_data/test_data.csv')\n",
    "target_train = pd.read_csv('1_data/train_target.csv')\n",
    "df_train['target'] = target_train\n",
    "del target_train"
   ]
  },
  {
   "cell_type": "markdown",
   "id": "1c9b0497",
   "metadata": {},
   "source": [
    "# Data processing and feature engineering "
   ]
  },
  {
   "cell_type": "markdown",
   "id": "8c345260",
   "metadata": {},
   "source": [
    "df_train.head()"
   ]
  },
  {
   "cell_type": "markdown",
   "id": "86f1cdae",
   "metadata": {},
   "source": [
    "dist - длина маршрута заказа\n",
    "\n",
    "due - на какое время была заказана машина\n",
    "\n",
    "lon, lat — точка, куда делали заказ(широта, долгота)\n",
    "\n",
    "target - отменит ли заказчик такси до того, как на него откликнется водитель\n",
    "\n",
    "f_class, s_class, t_class - топ-3 класса авто по популярности у пользователя: f_ - топ-1, s_ - топ-2, t_ - топ-3"
   ]
  },
  {
   "cell_type": "markdown",
   "id": "cfd8fe28",
   "metadata": {},
   "source": [
    "# Обработка координат"
   ]
  },
  {
   "cell_type": "code",
   "execution_count": 7,
   "id": "58c7a078",
   "metadata": {},
   "outputs": [
    {
     "data": {
      "image/png": "[encoded data removed]",
      "text/plain": [
       "<Figure size 576x432 with 1 Axes>"
      ]
     },
     "metadata": {
      "needs_background": "light"
     },
     "output_type": "display_data"
    }
   ],
   "source": [
    "plt.figure(figsize=(8, 6))\n",
    "plt.title('Destination points', fontsize=20)\n",
    "plt.scatter(df_train['lon'], df_train['lat'],label = 'train')\n",
    "plt.scatter(df_test['lon'], df_test['lat'],label = 'test')\n",
    "plt.xlabel('lon', fontsize=16)\n",
    "plt.ylabel('lat', fontsize=16)\n",
    "plt.legend(fontsize=16)\n",
    "plt.show()"
   ]
  },
  {
   "cell_type": "markdown",
   "id": "ad3bc720",
   "metadata": {},
   "source": [
    "Заметим, что в данных присутствуют аномальнае значения координат, видимо, эти точки в заказе были выбраны случайно.\n",
    "Точкам (0,0) соответствуют заказы без места назначения."
   ]
  },
  {
   "cell_type": "code",
   "execution_count": 8,
   "id": "966844bc",
   "metadata": {},
   "outputs": [
    {
     "data": {
      "text/html": [
       "<div>\n",
       "<style scoped>\n",
       "    .dataframe tbody tr th:only-of-type {\n",
       "        vertical-align: middle;\n",
       "    }\n",
       "\n",
       "    .dataframe tbody tr th {\n",
       "        vertical-align: top;\n",
       "    }\n",
       "\n",
       "    .dataframe thead th {\n",
       "        text-align: right;\n",
       "    }\n",
       "</style>\n",
       "<table border=\"1\" class=\"dataframe\">\n",
       "  <thead>\n",
       "    <tr style=\"text-align: right;\">\n",
       "      <th></th>\n",
       "      <th>dist</th>\n",
       "      <th>due</th>\n",
       "      <th>f_class</th>\n",
       "      <th>lat</th>\n",
       "      <th>lon</th>\n",
       "      <th>s_class</th>\n",
       "      <th>t_class</th>\n",
       "      <th>target</th>\n",
       "    </tr>\n",
       "  </thead>\n",
       "  <tbody>\n",
       "    <tr>\n",
       "      <th>489459</th>\n",
       "      <td>-1.0</td>\n",
       "      <td>2014-02-04 14:03:17.000</td>\n",
       "      <td>econom</td>\n",
       "      <td>57.019952</td>\n",
       "      <td>40.955469</td>\n",
       "      <td>business</td>\n",
       "      <td>NaN</td>\n",
       "      <td>1</td>\n",
       "    </tr>\n",
       "  </tbody>\n",
       "</table>\n",
       "</div>"
      ],
      "text/plain": [
       "        dist                      due f_class        lat        lon   s_class  \\\n",
       "489459  -1.0  2014-02-04 14:03:17.000  econom  57.019952  40.955469  business   \n",
       "\n",
       "       t_class  target  \n",
       "489459     NaN       1  "
      ]
     },
     "execution_count": 8,
     "metadata": {},
     "output_type": "execute_result"
    }
   ],
   "source": [
    "df_train[(df_train['lon'] > 40) & (df_train['lon'] < 42)]"
   ]
  },
  {
   "cell_type": "code",
   "execution_count": 9,
   "id": "f3f1f7d6",
   "metadata": {},
   "outputs": [
    {
     "data": {
      "text/html": [
       "<div>\n",
       "<style scoped>\n",
       "    .dataframe tbody tr th:only-of-type {\n",
       "        vertical-align: middle;\n",
       "    }\n",
       "\n",
       "    .dataframe tbody tr th {\n",
       "        vertical-align: top;\n",
       "    }\n",
       "\n",
       "    .dataframe thead th {\n",
       "        text-align: right;\n",
       "    }\n",
       "</style>\n",
       "<table border=\"1\" class=\"dataframe\">\n",
       "  <thead>\n",
       "    <tr style=\"text-align: right;\">\n",
       "      <th></th>\n",
       "      <th>dist</th>\n",
       "      <th>due</th>\n",
       "      <th>f_class</th>\n",
       "      <th>lat</th>\n",
       "      <th>lon</th>\n",
       "      <th>s_class</th>\n",
       "      <th>t_class</th>\n",
       "      <th>target</th>\n",
       "    </tr>\n",
       "  </thead>\n",
       "  <tbody>\n",
       "    <tr>\n",
       "      <th>123950</th>\n",
       "      <td>4.149587e+06</td>\n",
       "      <td>2014-01-05 17:50:00.000</td>\n",
       "      <td>econom</td>\n",
       "      <td>52.56223</td>\n",
       "      <td>103.875951</td>\n",
       "      <td>business</td>\n",
       "      <td>NaN</td>\n",
       "      <td>1</td>\n",
       "    </tr>\n",
       "    <tr>\n",
       "      <th>895059</th>\n",
       "      <td>2.618817e+06</td>\n",
       "      <td>2014-01-13 21:00:00.000</td>\n",
       "      <td>econom</td>\n",
       "      <td>53.85986</td>\n",
       "      <td>79.027275</td>\n",
       "      <td>NaN</td>\n",
       "      <td>NaN</td>\n",
       "      <td>1</td>\n",
       "    </tr>\n",
       "    <tr>\n",
       "      <th>1109054</th>\n",
       "      <td>2.633316e+06</td>\n",
       "      <td>2014-01-24 14:40:00.000</td>\n",
       "      <td>econom</td>\n",
       "      <td>53.85986</td>\n",
       "      <td>79.027275</td>\n",
       "      <td>NaN</td>\n",
       "      <td>NaN</td>\n",
       "      <td>1</td>\n",
       "    </tr>\n",
       "  </tbody>\n",
       "</table>\n",
       "</div>"
      ],
      "text/plain": [
       "                 dist                      due f_class       lat         lon  \\\n",
       "123950   4.149587e+06  2014-01-05 17:50:00.000  econom  52.56223  103.875951   \n",
       "895059   2.618817e+06  2014-01-13 21:00:00.000  econom  53.85986   79.027275   \n",
       "1109054  2.633316e+06  2014-01-24 14:40:00.000  econom  53.85986   79.027275   \n",
       "\n",
       "          s_class t_class  target  \n",
       "123950   business     NaN       1  \n",
       "895059        NaN     NaN       1  \n",
       "1109054       NaN     NaN       1  "
      ]
     },
     "execution_count": 9,
     "metadata": {},
     "output_type": "execute_result"
    }
   ],
   "source": [
    "df_train[df_train['lon'] > 60]"
   ]
  },
  {
   "cell_type": "markdown",
   "id": "81292b1c",
   "metadata": {},
   "source": [
    "Заметим, что, как и предполагалось, поездки для аномальных точек были отменены"
   ]
  },
  {
   "cell_type": "markdown",
   "id": "d6de31bc",
   "metadata": {},
   "source": [
    "Также видим, что в тестовой выборке у некоторых точек перепутаны координаты "
   ]
  },
  {
   "cell_type": "markdown",
   "id": "882df257",
   "metadata": {},
   "source": [
    "Найдём для каждой точки координаты ближайшего города. Исправим точки, которые перемутаны. Если точка всё же поставлена случано, то удалим её."
   ]
  },
  {
   "cell_type": "code",
   "execution_count": 3,
   "id": "0a132fd2",
   "metadata": {},
   "outputs": [],
   "source": [
    "def bw(self: pd.Series, a, b):\n",
    "    return (a <= self) & (self <= b)\n",
    "\n",
    "pd.Series.bw = bw\n",
    "\n",
    "def define_city(df):\n",
    "    df['city'] = 'invalid'\n",
    "    df.loc[df.lat.bw(59.4, 60.3) & df.lon.bw(29.5, 30.9), 'city'] = 'spb'\n",
    "    df.loc[df.lat.bw(54.8, 56.5) & df.lon.bw(36.2, 38.3), 'city'] = 'moscow'\n",
    "    df.loc[df.lat.bw(51.5, 51.9) & df.lon.bw(38.8, 39.6), 'city'] = 'voronezh'\n",
    "    df.loc[df.lat.bw(56.1, 56.45) & df.lon.bw(43.6, 44.25), 'city'] = 'nnovgorod'\n",
    "    df.loc[df.lat.bw(55.5, 56) & df.lon.bw(48.8, 49.9), 'city'] = 'kazan'\n",
    "    df.loc[(df.lat == 0) & (df.lon == 0), 'city'] = 'non-defined'\n",
    "    \n",
    "    buf1 = df.loc[df['city'] == 'invalid','lon']\n",
    "    buf2 = df.loc[df['city'] == 'invalid','lat']\n",
    "    df.loc[df['city'] == 'invalid','lat'] = buf1.values\n",
    "    df.loc[df['city'] == 'invalid','lon'] = buf2.values\n",
    "    \n",
    "    df.loc[df.lat.bw(59.4, 60.3) & df.lon.bw(29.5, 30.9), 'city'] = 'spb'\n",
    "    df.loc[df.lat.bw(54.8, 56.5) & df.lon.bw(36.2, 38.3), 'city'] = 'moscow'\n",
    "    df.loc[df.lat.bw(51.5, 51.9) & df.lon.bw(38.8, 39.6), 'city'] = 'voronezh'\n",
    "    df.loc[df.lat.bw(56.1, 56.45) & df.lon.bw(43.6, 44.25), 'city'] = 'nnovgorod'\n",
    "    df.loc[df.lat.bw(55.5, 56) & df.lon.bw(48.8, 49.9), 'city'] = 'kazan'\n",
    "    \n",
    "    buf1 = df.loc[df['city'] == 'invalid','lon']\n",
    "    buf2 = df.loc[df['city'] == 'invalid','lat']\n",
    "    df.loc[df['city'] == 'invalid','lat'] = buf1.values\n",
    "    df.loc[df['city'] == 'invalid','lon'] = buf2.values\n",
    "    del buf1\n",
    "    del buf2"
   ]
  },
  {
   "cell_type": "code",
   "execution_count": 4,
   "id": "c035b3d3",
   "metadata": {},
   "outputs": [],
   "source": [
    "define_city(df_train)"
   ]
  },
  {
   "cell_type": "code",
   "execution_count": 6,
   "id": "ac597be1",
   "metadata": {},
   "outputs": [
    {
     "data": {
      "image/png": "[encoded data removed]",
      "text/plain": [
       "<Figure size 576x432 with 1 Axes>"
      ]
     },
     "metadata": {
      "needs_background": "light"
     },
     "output_type": "display_data"
    }
   ],
   "source": [
    "plt.figure(figsize=(8, 6))\n",
    "plt.title('Destination points train', fontsize=20)\n",
    "for i in df_train['city'].unique():\n",
    "    plt.scatter(df_train.loc[df_train['city'] == i , 'lon'] , df_train.loc[df_train['city'] == i , 'lat'] , label = i)\n",
    "plt.xlabel('lon', fontsize=16)\n",
    "plt.ylabel('lat', fontsize=16)\n",
    "plt.legend(fontsize=16)\n",
    "plt.show()"
   ]
  },
  {
   "cell_type": "code",
   "execution_count": 5,
   "id": "77cb0436",
   "metadata": {},
   "outputs": [],
   "source": [
    "define_city(df_test)"
   ]
  },
  {
   "cell_type": "code",
   "execution_count": 8,
   "id": "955073fe",
   "metadata": {},
   "outputs": [
    {
     "data": {
      "image/png": "[encoded data removed]",
      "text/plain": [
       "<Figure size 576x432 with 1 Axes>"
      ]
     },
     "metadata": {
      "needs_background": "light"
     },
     "output_type": "display_data"
    }
   ],
   "source": [
    "plt.figure(figsize=(8, 6))\n",
    "plt.title('Destination points test', fontsize=20)\n",
    "for i in df_test['city'].unique():\n",
    "    plt.scatter(df_test.loc[df_test['city'] == i , 'lon'] , df_test.loc[df_test['city'] == i , 'lat'] , label = i)\n",
    "plt.xlabel('lon', fontsize=16)\n",
    "plt.ylabel('lat', fontsize=16)\n",
    "plt.legend(fontsize=16)\n",
    "plt.show()"
   ]
  },
  {
   "cell_type": "markdown",
   "id": "1d01fdfa",
   "metadata": {},
   "source": [
    "Таким образом, можем удалить из обучающей выборки ошибочные значения точек, куда делали заказ. В тестовой выборке таким объектам будем присваивать значение 1"
   ]
  },
  {
   "cell_type": "code",
   "execution_count": 6,
   "id": "ea4e8114",
   "metadata": {},
   "outputs": [],
   "source": [
    "df_train.drop(labels = df_train[df_train['city'] == 'invalid'].index, inplace = True)"
   ]
  },
  {
   "cell_type": "code",
   "execution_count": 7,
   "id": "7504610a",
   "metadata": {},
   "outputs": [],
   "source": [
    "df_train = df_train.reset_index(drop = True)"
   ]
  },
  {
   "cell_type": "code",
   "execution_count": 8,
   "id": "9740afc0",
   "metadata": {},
   "outputs": [
    {
     "data": {
      "text/html": [
       "<div>\n",
       "<style scoped>\n",
       "    .dataframe tbody tr th:only-of-type {\n",
       "        vertical-align: middle;\n",
       "    }\n",
       "\n",
       "    .dataframe tbody tr th {\n",
       "        vertical-align: top;\n",
       "    }\n",
       "\n",
       "    .dataframe thead th {\n",
       "        text-align: right;\n",
       "    }\n",
       "</style>\n",
       "<table border=\"1\" class=\"dataframe\">\n",
       "  <thead>\n",
       "    <tr style=\"text-align: right;\">\n",
       "      <th></th>\n",
       "      <th>dist</th>\n",
       "      <th>due</th>\n",
       "      <th>f_class</th>\n",
       "      <th>lat</th>\n",
       "      <th>lon</th>\n",
       "      <th>s_class</th>\n",
       "      <th>t_class</th>\n",
       "      <th>city</th>\n",
       "    </tr>\n",
       "  </thead>\n",
       "  <tbody>\n",
       "  </tbody>\n",
       "</table>\n",
       "</div>"
      ],
      "text/plain": [
       "Empty DataFrame\n",
       "Columns: [dist, due, f_class, lat, lon, s_class, t_class, city]\n",
       "Index: []"
      ]
     },
     "execution_count": 8,
     "metadata": {},
     "output_type": "execute_result"
    }
   ],
   "source": [
    "df_test[df_test['city'] == 'invalid']"
   ]
  },
  {
   "cell_type": "markdown",
   "id": "3577d53a",
   "metadata": {},
   "source": [
    "Добавим признак: расстояние от точки заказа до центра ближайшего города "
   ]
  },
  {
   "cell_type": "code",
   "execution_count": 9,
   "id": "377181d7",
   "metadata": {},
   "outputs": [],
   "source": [
    "city_centers = {'moscow':[37.61556, 55.75222], 'spb':[30.31413, 59.93863], 'voronezh': [39.1843, 51.67204],\n",
    "               'nnovgorod': [44.00205 ,56.32867], 'kazan': [49.12214, 55.78874]}\n",
    "\n",
    "city_names = ['moscow', 'spb', 'voronezh', 'nnovgorod', 'kazan']\n",
    "\n",
    "city_centers_values = np.array([[37.61556, 55.75222], [30.31413, 59.93863], [39.1843, 51.67204],\n",
    "                        [44.00205 ,56.32867], [49.12214, 55.78874]])"
   ]
  },
  {
   "cell_type": "code",
   "execution_count": 10,
   "id": "65ee504b",
   "metadata": {},
   "outputs": [],
   "source": [
    "def euclidean_distance(x, y):\n",
    "    u = np.diagonal((x @ x.T)).reshape(x.shape[0], 1)   # квадраты векторов из матрицы x\n",
    "    v = np.diagonal(y @ y.T).reshape(1, y.shape[0])     # квадраты векторов из матрицы y\n",
    "    # приводим к нужной размерности, так как на выходе должна быть матрица попарных расстояний\n",
    "    u = u @ np.ones(y.shape[0]).reshape(1, y.shape[0])\n",
    "    v = np.ones(x.shape[0]).reshape(x.shape[0], 1) @ v\n",
    "    return np.sqrt(u + v - 2*(x @ y.T))  # вычитаем попарные скалярные произведения векторов из x и векторов из y"
   ]
  },
  {
   "cell_type": "code",
   "execution_count": 11,
   "id": "02ac5871",
   "metadata": {},
   "outputs": [],
   "source": [
    "def nearest_city(a):\n",
    "    return np.min(euclidean_distance(a.reshape(1,-1), city_centers_values))\n",
    "def count_dist_to_nearest_city(df):\n",
    "    df['dist_to_nearest_city'] = np.apply_along_axis(nearest_city, 1, df[['lon','lat']].values) \n",
    "    df.loc[df.lat == 0,'dist_to_nearest_city'] = np.NaN\n",
    "    df['is_NaN_dist_to_nearest_city'] = 0\n",
    "    df.loc[df.dist_to_nearest_city.isna(), 'is_NaN_dist_to_nearest_city'] = 1\n",
    "    df.dist_to_nearest_city.fillna(df.dist_to_nearest_city.mean(), inplace = True)"
   ]
  },
  {
   "cell_type": "code",
   "execution_count": 11,
   "id": "0f167648",
   "metadata": {},
   "outputs": [
    {
     "name": "stdout",
     "output_type": "stream",
     "text": [
      "CPU times: user 33 s, sys: 8.3 ms, total: 33.1 s\n",
      "Wall time: 33.1 s\n"
     ]
    }
   ],
   "source": [
    "%%time\n",
    "\n",
    "count_dist_to_nearest_city(df_train)"
   ]
  },
  {
   "cell_type": "code",
   "execution_count": 12,
   "id": "804a136c",
   "metadata": {},
   "outputs": [
    {
     "name": "stdout",
     "output_type": "stream",
     "text": [
      "CPU times: user 14.3 s, sys: 20 ms, total: 14.4 s\n",
      "Wall time: 14.4 s\n"
     ]
    }
   ],
   "source": [
    "%%time\n",
    "\n",
    "count_dist_to_nearest_city(df_test)"
   ]
  },
  {
   "cell_type": "code",
   "execution_count": 13,
   "id": "e7835c0e",
   "metadata": {},
   "outputs": [],
   "source": [
    "def dist_to_city(df):\n",
    "    for i in tqdm(range(len(city_names))):\n",
    "        def euclid_dist_to_city(a):\n",
    "            return euclidean_distance(a.reshape(1,-1), city_centers_values[i].reshape(1,-1))[0][0]\n",
    "        df['dist_to_'+str(city_names[i])] = np.apply_along_axis(euclid_dist_to_city, 1, df[['lon','lat']].values) \n",
    "        df.loc[df.lat == 0,'dist_to_'+str(city_names[i])] = 0    "
   ]
  },
  {
   "cell_type": "code",
   "execution_count": 14,
   "id": "7a39919f",
   "metadata": {},
   "outputs": [
    {
     "name": "stderr",
     "output_type": "stream",
     "text": [
      "100%|█████████████████████████████████████████████| 5/5 [02:16<00:00, 27.32s/it]\n"
     ]
    }
   ],
   "source": [
    "dist_to_city(df_train)"
   ]
  },
  {
   "cell_type": "code",
   "execution_count": 15,
   "id": "4a5e639e",
   "metadata": {},
   "outputs": [
    {
     "name": "stderr",
     "output_type": "stream",
     "text": [
      "100%|█████████████████████████████████████████████| 5/5 [01:00<00:00, 12.09s/it]\n"
     ]
    }
   ],
   "source": [
    "dist_to_city(df_test)"
   ]
  },
  {
   "cell_type": "code",
   "execution_count": 12,
   "id": "cedb9eeb",
   "metadata": {},
   "outputs": [],
   "source": [
    "def nearest_city_m(a):\n",
    "    def take(b):\n",
    "        return geodesic(a, np.flip(b)).m\n",
    "    return np.min(np.apply_along_axis(take, 1, city_centers_values)) \n",
    "def count_dist_to_nearest_city_m(df):\n",
    "    df['dist_to_nearest_city_m'] = np.apply_along_axis(nearest_city_m, 1, df[['lat','lon']].values)\n",
    "    df.loc[df.lat == 0,'dist_to_nearest_city_m'] = np.NaN\n",
    "    df['is_NaN_dist_to_nearest_city_m'] = 0\n",
    "    df.loc[df.dist_to_nearest_city_m.isna(), 'is_NaN_dist_to_nearest_city_m'] = 1\n",
    "    df.dist_to_nearest_city_m.fillna(df.dist_to_nearest_city_m.mean(), inplace = True)"
   ]
  },
  {
   "cell_type": "code",
   "execution_count": 13,
   "id": "10994886",
   "metadata": {},
   "outputs": [
    {
     "name": "stdout",
     "output_type": "stream",
     "text": [
      "CPU times: user 23min 42s, sys: 21.1 s, total: 24min 4s\n",
      "Wall time: 22min 56s\n"
     ]
    }
   ],
   "source": [
    "%%time\n",
    "\n",
    "count_dist_to_nearest_city_m(df_train)"
   ]
  },
  {
   "cell_type": "code",
   "execution_count": 14,
   "id": "e7e5688d",
   "metadata": {},
   "outputs": [
    {
     "name": "stdout",
     "output_type": "stream",
     "text": [
      "CPU times: user 10min 6s, sys: 9.52 s, total: 10min 16s\n",
      "Wall time: 9min 44s\n"
     ]
    }
   ],
   "source": [
    "%%time\n",
    "\n",
    "count_dist_to_nearest_city_m(df_test)"
   ]
  },
  {
   "cell_type": "code",
   "execution_count": 15,
   "id": "601add83",
   "metadata": {},
   "outputs": [
    {
     "data": {
      "text/plain": [
       "0.08461743416726576"
      ]
     },
     "execution_count": 15,
     "metadata": {},
     "output_type": "execute_result"
    }
   ],
   "source": [
    "pearsonr(df_train['dist_to_nearest_city_m'],df_train['target'])[0]"
   ]
  },
  {
   "cell_type": "markdown",
   "id": "5337a468",
   "metadata": {},
   "source": [
    "Определим, в другой ли город делал заказ человек. Сначала определим для каждого города его диаметр. Вычислительно проще это сделать с помощью вычисления расстояний между точками, которые использовали для определения границ городов. Тогда если длина маршрута превышает этот диаметр, то заказ был сделан в другом городе."
   ]
  },
  {
   "cell_type": "code",
   "execution_count": 17,
   "id": "113eab40",
   "metadata": {},
   "outputs": [],
   "source": [
    "city_borders = {'moscow':np.array([[36.2, 54.8],[38.3, 56.5]]), \n",
    "                'spb':np.array([[29.5, 59.4],[30.9, 60.3]]),\n",
    "                'voronezh': np.array([[38.8, 51.5],[39.6, 51.9]]), \n",
    "                'nnovgorod': np.array([[43.6, 56.1],[44.25, 56.45]]),\n",
    "                'kazan': np.array([[48.8, 55.5],[49.9, 56]])}"
   ]
  },
  {
   "cell_type": "code",
   "execution_count": 18,
   "id": "e9f2eb3a",
   "metadata": {},
   "outputs": [],
   "source": [
    "def to_another_city(df):\n",
    "    df['another_city'] = 0\n",
    "    df.loc[df.lat == 0, 'another_city'] = 2  # 2 - для заказов, в которых не указана точка назначения\n",
    "    df.loc[df.dist == -1,'another_city'] = 3  # 3 - для заказов, в которых не указана длина маршрута\n",
    "    for i in city_names:\n",
    "        borders = city_borders[i]\n",
    "        d = geodesic(np.flip(city_borders[i][0]),np.flip(city_borders[i][1])).m\n",
    "        df.loc[(df.city == i) & (df.dist > d), 'another_city'] = 1"
   ]
  },
  {
   "cell_type": "code",
   "execution_count": 19,
   "id": "7aee8995",
   "metadata": {},
   "outputs": [],
   "source": [
    "to_another_city(df_train)"
   ]
  },
  {
   "cell_type": "code",
   "execution_count": 20,
   "id": "bfcde142",
   "metadata": {},
   "outputs": [],
   "source": [
    "to_another_city(df_test)"
   ]
  },
  {
   "cell_type": "code",
   "execution_count": 25,
   "id": "f894e49b",
   "metadata": {},
   "outputs": [
    {
     "data": {
      "text/plain": [
       "(0.12674865533387403, 0.0)"
      ]
     },
     "execution_count": 25,
     "metadata": {},
     "output_type": "execute_result"
    }
   ],
   "source": [
    "pearsonr(df_train.target, df_train.another_city)"
   ]
  },
  {
   "cell_type": "markdown",
   "id": "f4a07f43",
   "metadata": {},
   "source": [
    "Определим, из какого города сделан заказ, где это возможно. То есть если мы определили, что из другого, то смотрим, к расстоянию между какими городами ближе всего значение dist "
   ]
  },
  {
   "cell_type": "code",
   "execution_count": 21,
   "id": "6a4d19b4",
   "metadata": {},
   "outputs": [
    {
     "data": {
      "text/plain": [
       "{'moscow': [37.61556, 55.75222],\n",
       " 'spb': [30.31413, 59.93863],\n",
       " 'voronezh': [39.1843, 51.67204],\n",
       " 'nnovgorod': [44.00205, 56.32867],\n",
       " 'kazan': [49.12214, 55.78874]}"
      ]
     },
     "execution_count": 21,
     "metadata": {},
     "output_type": "execute_result"
    }
   ],
   "source": [
    "city_centers"
   ]
  },
  {
   "cell_type": "code",
   "execution_count": 22,
   "id": "f4a5cf3a",
   "metadata": {},
   "outputs": [],
   "source": [
    "def city_distances(a):\n",
    "    def func(b):\n",
    "        return geodesic(np.flip(a), np.flip(b)).m\n",
    "    return np.apply_along_axis(func, 1, city_centers_values)"
   ]
  },
  {
   "cell_type": "code",
   "execution_count": 23,
   "id": "63d6add8",
   "metadata": {},
   "outputs": [],
   "source": [
    "city_distances = np.apply_along_axis(city_distances, 1, city_centers_values)"
   ]
  },
  {
   "cell_type": "code",
   "execution_count": 24,
   "id": "c4f12482",
   "metadata": {},
   "outputs": [
    {
     "data": {
      "text/plain": [
       "array([[      0.        ,  636016.66692912,  465752.36349851,\n",
       "         403043.28993595,  721357.34348654],\n",
       "       [ 636016.66692912,       0.        , 1073322.07651671,\n",
       "         898783.47502908, 1203019.49506277],\n",
       "       [ 465752.36349851, 1073322.07651671,       0.        ,\n",
       "         606665.22701872,  798875.85215048],\n",
       "       [ 403043.28993595,  898783.47502908,  606665.22701872,\n",
       "              0.        ,  324507.33194986],\n",
       "       [ 721357.34348654, 1203019.49506277,  798875.85215048,\n",
       "         324507.33194986,       0.        ]])"
      ]
     },
     "execution_count": 24,
     "metadata": {},
     "output_type": "execute_result"
    }
   ],
   "source": [
    "city_distances"
   ]
  },
  {
   "cell_type": "code",
   "execution_count": 25,
   "id": "64c4391a",
   "metadata": {},
   "outputs": [],
   "source": [
    "df_train['from_city'] = df_train['city']\n",
    "\n",
    "for i in range(len(city_names)):\n",
    "    df_city = df_train[(df_train.another_city == 1) & (df_train.city == city_names[i])]\n",
    "    def find_close(a):\n",
    "        return city_names[np.argmin(np.abs(a - city_distances[i]))]\n",
    "    df_train.loc[(df_train.another_city == 1) & (df_train.city == city_names[i]), 'from_city'] = np.apply_along_axis(find_close, 1, df_city.dist.values.reshape(-1,1))\n",
    "    \n",
    "df_train.loc[df_train.dist == -1, 'from_city'] = 'non-defined'"
   ]
  },
  {
   "cell_type": "code",
   "execution_count": 26,
   "id": "954fe353",
   "metadata": {},
   "outputs": [
    {
     "data": {
      "text/plain": [
       "array(['moscow', 'non-defined', 'spb', 'voronezh', 'kazan', 'nnovgorod',\n",
       "       'mos', 'kaz', 'nno', 'vor'], dtype=object)"
      ]
     },
     "execution_count": 26,
     "metadata": {},
     "output_type": "execute_result"
    }
   ],
   "source": [
    "df_train['from_city'].unique()"
   ]
  },
  {
   "cell_type": "code",
   "execution_count": 27,
   "id": "e707550e",
   "metadata": {},
   "outputs": [],
   "source": [
    "map_ = {'moscow': 'moscow', 'non-defined':'non-defined', 'spb':'spb', 'voronezh':'voronezh', 'kazan':'kazan',\n",
    "        'nnovgorod': 'nnovgorod', 'mos': 'moscow', 'kaz': 'kazan', 'nno': 'nnovgorod', 'vor': 'voronezh'}\n",
    "df_train['from_city'] = df_train['from_city'].map(map_)"
   ]
  },
  {
   "cell_type": "code",
   "execution_count": 28,
   "id": "df9035f7",
   "metadata": {},
   "outputs": [
    {
     "data": {
      "text/plain": [
       "array(['moscow', 'non-defined', 'spb', 'voronezh', 'kazan', 'nnovgorod'],\n",
       "      dtype=object)"
      ]
     },
     "execution_count": 28,
     "metadata": {},
     "output_type": "execute_result"
    }
   ],
   "source": [
    "df_train['from_city'].unique()"
   ]
  },
  {
   "cell_type": "code",
   "execution_count": 29,
   "id": "72a6131f",
   "metadata": {},
   "outputs": [],
   "source": [
    "df_test['from_city'] = df_test['city']\n",
    "\n",
    "for i in range(len(city_names)):\n",
    "    df_city = df_test[(df_test.another_city == 1) & (df_test.city == city_names[i])]\n",
    "    def find_close(a):\n",
    "        return city_names[np.argmin(np.abs(a - city_distances[i]))]\n",
    "    df_test.loc[(df_test.another_city == 1) & (df_test.city == city_names[i]), 'from_city'] = np.apply_along_axis(find_close, 1, df_city.dist.values.reshape(-1,1))\n",
    "    \n",
    "df_test.loc[df_test.dist == -1, 'from_city'] = 'non-defined'"
   ]
  },
  {
   "cell_type": "code",
   "execution_count": 30,
   "id": "660c3fad",
   "metadata": {},
   "outputs": [
    {
     "data": {
      "text/plain": [
       "array(['moscow', 'non-defined', 'spb', 'voronezh', 'kazan', 'nnovgorod',\n",
       "       'nnovgoro', 'nno', 'mos', 'nnovgo', 'vorone'], dtype=object)"
      ]
     },
     "execution_count": 30,
     "metadata": {},
     "output_type": "execute_result"
    }
   ],
   "source": [
    "df_test['from_city'].unique()"
   ]
  },
  {
   "cell_type": "code",
   "execution_count": 31,
   "id": "67ca24a9",
   "metadata": {},
   "outputs": [],
   "source": [
    "map_ = {'moscow': 'moscow', 'non-defined':'non-defined', 'spb':'spb', 'voronezh':'voronezh', 'kazan':'kazan',\n",
    "        'nnovgorod': 'nnovgorod', 'nnovgoro': 'nnovgorod', 'nno': 'nnovgorod', 'mos': 'moscow', 'nnovgo': 'nnovgorod','vorone': 'voronezh'}\n",
    "df_test['from_city'] = df_test['from_city'].map(map_)"
   ]
  },
  {
   "cell_type": "code",
   "execution_count": 32,
   "id": "a7dc713c",
   "metadata": {},
   "outputs": [
    {
     "data": {
      "text/plain": [
       "array(['moscow', 'non-defined', 'spb', 'voronezh', 'kazan', 'nnovgorod'],\n",
       "      dtype=object)"
      ]
     },
     "execution_count": 32,
     "metadata": {},
     "output_type": "execute_result"
    }
   ],
   "source": [
    "df_test['from_city'].unique()"
   ]
  },
  {
   "cell_type": "markdown",
   "id": "95b242ba",
   "metadata": {},
   "source": [
    "Количество заказов из этого города"
   ]
  },
  {
   "cell_type": "code",
   "execution_count": 33,
   "id": "ae3f3d13",
   "metadata": {},
   "outputs": [],
   "source": [
    "def number_orders_from(df):\n",
    "    a = dict(df.groupby('from_city')['dist'].count())\n",
    "    df['number_of_orders_from_city'] = df['from_city'].map(a)"
   ]
  },
  {
   "cell_type": "code",
   "execution_count": 34,
   "id": "1ea4e024",
   "metadata": {},
   "outputs": [],
   "source": [
    "number_orders_from(df_train)\n",
    "number_orders_from(df_test)"
   ]
  },
  {
   "cell_type": "markdown",
   "id": "52a3fe84",
   "metadata": {},
   "source": [
    "Количество заказов в этот город"
   ]
  },
  {
   "cell_type": "code",
   "execution_count": 35,
   "id": "a9976f6d",
   "metadata": {},
   "outputs": [],
   "source": [
    "def number_orders_to(df):\n",
    "    a = dict(df.groupby('city')['dist'].count())\n",
    "    df['number_of_orders_to_city'] = df['city'].map(a)"
   ]
  },
  {
   "cell_type": "code",
   "execution_count": 36,
   "id": "5f2027ec",
   "metadata": {},
   "outputs": [],
   "source": [
    "number_orders_to(df_train)\n",
    "number_orders_to(df_test)"
   ]
  },
  {
   "cell_type": "markdown",
   "id": "467c6632",
   "metadata": {},
   "source": [
    "Заменим расстояния на ранги"
   ]
  },
  {
   "cell_type": "code",
   "execution_count": 37,
   "id": "340cd0c0",
   "metadata": {},
   "outputs": [],
   "source": [
    "def ranked_dist_all(df):\n",
    "    df['ranked_dist_all'] = rankdata(df['dist'], method = 'min')"
   ]
  },
  {
   "cell_type": "code",
   "execution_count": 38,
   "id": "71301ce8",
   "metadata": {},
   "outputs": [],
   "source": [
    "ranked_dist_all(df_train)\n",
    "ranked_dist_all(df_test)"
   ]
  },
  {
   "cell_type": "code",
   "execution_count": 39,
   "id": "afba2f80",
   "metadata": {},
   "outputs": [],
   "source": [
    "def ranked_dist_from_city(df):\n",
    "    for i in df['from_city'].unique():\n",
    "        mask = df[df_train['from_city'] == i].index\n",
    "        df.loc[mask, 'ranked_dist_from_city'] = rankdata(df.loc[mask]['dist'], method = 'min')\n",
    "    df['ranked_dist_from_city'] = df['ranked_dist_from_city'].astype('int64')"
   ]
  },
  {
   "cell_type": "code",
   "execution_count": 40,
   "id": "6b4a228f",
   "metadata": {},
   "outputs": [],
   "source": [
    "def ranked_dist_to_city(df):\n",
    "    for i in df['city'].unique():\n",
    "        mask = df[df_train['city'] == i].index\n",
    "        df.loc[mask, 'ranked_dist_to_city'] = rankdata(df.loc[mask]['dist'], method = 'min')\n",
    "    df['ranked_dist_to_city'] = df['ranked_dist_to_city'].astype('int64')"
   ]
  },
  {
   "cell_type": "code",
   "execution_count": 41,
   "id": "0f689753",
   "metadata": {},
   "outputs": [],
   "source": [
    "ranked_dist_from_city(df_train)\n",
    "ranked_dist_from_city(df_test)"
   ]
  },
  {
   "cell_type": "code",
   "execution_count": 42,
   "id": "6fdcc9ca",
   "metadata": {},
   "outputs": [],
   "source": [
    "ranked_dist_to_city(df_train)\n",
    "ranked_dist_to_city(df_test)"
   ]
  },
  {
   "cell_type": "markdown",
   "id": "686e4592",
   "metadata": {},
   "source": [
    "# Класс авто"
   ]
  },
  {
   "cell_type": "code",
   "execution_count": 43,
   "id": "f0545d2d",
   "metadata": {},
   "outputs": [],
   "source": [
    "def fill_nan_class(df):\n",
    "    for i in ['f_class', 's_class', 't_class']:\n",
    "        df[i] = df[i].fillna('non-defined')"
   ]
  },
  {
   "cell_type": "code",
   "execution_count": 44,
   "id": "2eb2caea",
   "metadata": {},
   "outputs": [],
   "source": [
    "fill_nan_class(df_train)\n",
    "fill_nan_class(df_test)"
   ]
  },
  {
   "cell_type": "markdown",
   "id": "d5446828",
   "metadata": {},
   "source": [
    "Количество заказов из этого города такого же класса(f, s t)"
   ]
  },
  {
   "cell_type": "code",
   "execution_count": 45,
   "id": "278342a0",
   "metadata": {},
   "outputs": [],
   "source": [
    "def number_of_orders_from_city_same_class(df):\n",
    "    for j in ['f_class', 's_class', 't_class']:\n",
    "        for i in df[j].unique():\n",
    "            mask = df[df[j] == i].index\n",
    "            a = dict(df.loc[mask].groupby('from_city')['dist'].count())\n",
    "            df.loc[mask, 'number_of_orders_from_city_same_'+j] = df.loc[mask, 'from_city'].map(a)\n",
    "        df['number_of_orders_from_city_same_'+j] = df['number_of_orders_from_city_same_'+j].astype('int64')"
   ]
  },
  {
   "cell_type": "markdown",
   "id": "81e1757e",
   "metadata": {},
   "source": [
    "Количество заказов в этот город такого же класса(f, s t)"
   ]
  },
  {
   "cell_type": "code",
   "execution_count": 46,
   "id": "c5f205a6",
   "metadata": {},
   "outputs": [],
   "source": [
    "def number_of_orders_to_city_same_class(df):\n",
    "    for j in ['f_class', 's_class', 't_class']:\n",
    "        for i in df[j].unique():\n",
    "            mask = df[df[j] == i].index\n",
    "            a = dict(df.loc[mask].groupby('city')['dist'].count())\n",
    "            df.loc[mask, 'number_of_orders_to_city_same_'+j] = df.loc[mask, 'city'].map(a)\n",
    "        df['number_of_orders_to_city_same_'+j] = df['number_of_orders_to_city_same_'+j].astype('int64')"
   ]
  },
  {
   "cell_type": "code",
   "execution_count": 47,
   "id": "f228b452",
   "metadata": {},
   "outputs": [],
   "source": [
    "number_of_orders_from_city_same_class(df_train)\n",
    "number_of_orders_to_city_same_class(df_train)\n",
    "number_of_orders_from_city_same_class(df_test)\n",
    "number_of_orders_to_city_same_class(df_test)"
   ]
  },
  {
   "cell_type": "markdown",
   "id": "d80eb14e",
   "metadata": {},
   "source": [
    "Сформируем рейтинг заказчика по его топ-классам "
   ]
  },
  {
   "cell_type": "code",
   "execution_count": 48,
   "id": "8464c14f",
   "metadata": {},
   "outputs": [],
   "source": [
    "def classes_to_int(df):\n",
    "    '''\n",
    "    f_class:\n",
    "    \n",
    "    econom -> 3*1 \n",
    "    business -> 3*2 \n",
    "    vip -> 3*3 \n",
    "    non-defined -> 0\n",
    "    \n",
    "    s_class:\n",
    "    \n",
    "    econom -> 2*1 \n",
    "    business -> 2*2 \n",
    "    vip -> 2*3 \n",
    "    non-defined -> 0\n",
    "    \n",
    "    t_class:\n",
    "    \n",
    "    econom -> 1 \n",
    "    business -> 2 \n",
    "    vip -> 3 \n",
    "    non-defined -> 0\n",
    "    \n",
    "    '''\n",
    "    for j in range(len(['f_class', 's_class', 't_class'])):\n",
    "        class_to_int = {'non-defined':0*(3-j) , 'econom':1*(3-j), 'business':2*(3-j), 'vip':3*(3-j)} \n",
    "        df[['f_class', 's_class', 't_class'][j]+'_int'] = df[['f_class', 's_class', 't_class'][j]].map(class_to_int)\n",
    "        \n",
    "    df['auto_class_rating'] = df['f_class'+'_int'] + df['s_class'+'_int'] + df['t_class'+'_int']\n",
    "    del df['f_class'+'_int']\n",
    "    del df['s_class'+'_int']\n",
    "    del df['t_class'+'_int']"
   ]
  },
  {
   "cell_type": "code",
   "execution_count": 49,
   "id": "180a53eb",
   "metadata": {},
   "outputs": [],
   "source": [
    "classes_to_int(df_train)\n",
    "classes_to_int(df_test)"
   ]
  },
  {
   "cell_type": "markdown",
   "id": "b9dc46b7",
   "metadata": {},
   "source": [
    "Количество заказов из этого города с таким же рейтингом"
   ]
  },
  {
   "cell_type": "code",
   "execution_count": 50,
   "id": "cf3a9a26",
   "metadata": {},
   "outputs": [],
   "source": [
    "def number_of_orders_from_city_same_class_rating(df):\n",
    "    for i in df['auto_class_rating'].unique():\n",
    "        mask = df[df['auto_class_rating'] == i].index\n",
    "        a = dict(df.loc[mask].groupby('from_city')['dist'].count())\n",
    "        df.loc[mask, 'number_of_orders_from_city_same_class_rating'] = df.loc[mask, 'from_city'].map(a)\n",
    "    df['number_of_orders_from_city_same_class_rating'] = df['number_of_orders_from_city_same_class_rating'].astype('int64')"
   ]
  },
  {
   "cell_type": "code",
   "execution_count": 51,
   "id": "7c67e675",
   "metadata": {},
   "outputs": [],
   "source": [
    "number_of_orders_from_city_same_class_rating(df_train)\n",
    "number_of_orders_from_city_same_class_rating(df_test)"
   ]
  },
  {
   "cell_type": "markdown",
   "id": "ace1a8f8",
   "metadata": {},
   "source": [
    "Количество заказов в этот город с таким же рейтингом"
   ]
  },
  {
   "cell_type": "code",
   "execution_count": 52,
   "id": "33a14746",
   "metadata": {},
   "outputs": [],
   "source": [
    "def number_of_orders_to_city_same_class_rating(df):\n",
    "    for i in df['auto_class_rating'].unique():\n",
    "        mask = df[df['auto_class_rating'] == i].index\n",
    "        a = dict(df.loc[mask].groupby('city')['dist'].count())\n",
    "        df.loc[mask, 'number_of_orders_to_city_same_class_rating'] = df.loc[mask, 'city'].map(a)\n",
    "    df['number_of_orders_to_city_same_class_rating'] = df['number_of_orders_to_city_same_class_rating'].astype('int64')"
   ]
  },
  {
   "cell_type": "code",
   "execution_count": 53,
   "id": "8be612b2",
   "metadata": {},
   "outputs": [],
   "source": [
    "number_of_orders_to_city_same_class_rating(df_train)\n",
    "number_of_orders_to_city_same_class_rating(df_test)"
   ]
  },
  {
   "cell_type": "markdown",
   "id": "ec469acc",
   "metadata": {},
   "source": [
    "Количество заказов из этого города с рейтингом выше"
   ]
  },
  {
   "cell_type": "code",
   "execution_count": 54,
   "id": "786a8193",
   "metadata": {},
   "outputs": [],
   "source": [
    "def number_of_orders_from_city_better_class_rating(df):\n",
    "    for k in df['from_city'].unique():\n",
    "    \n",
    "        mask = df['from_city'] == k\n",
    "    \n",
    "        a = dict(df.loc[mask].groupby('auto_class_rating')['dist'].count())\n",
    "\n",
    "        b = []\n",
    "        for i in range(len(np.sort(df.loc[mask,'auto_class_rating'].unique()))):\n",
    "            sum_ = 0\n",
    "            for j in range(i+1, len(np.sort(df.loc[mask,'auto_class_rating'].unique()))):\n",
    "                sum_ += a[np.sort(df.loc[mask,'auto_class_rating'].unique())[j]] \n",
    "            b.append(sum_)\n",
    "\n",
    "        c = {}\n",
    "        for i in range(len(df.loc[mask,'auto_class_rating'].unique())):\n",
    "            c[np.sort(df.loc[mask,'auto_class_rating'].unique())[i]] = b[i]\n",
    "        df.loc[mask, 'number_of_orders_from_city_better_class_rating'] = df.loc[mask, 'auto_class_rating'].map(c)\n",
    "    df['number_of_orders_from_city_better_class_rating'] = df['number_of_orders_from_city_better_class_rating'].astype('int64')"
   ]
  },
  {
   "cell_type": "markdown",
   "id": "06fc92f4",
   "metadata": {},
   "source": [
    "Количество заказов в этот город с рейтингом выше"
   ]
  },
  {
   "cell_type": "code",
   "execution_count": 55,
   "id": "a88a959a",
   "metadata": {},
   "outputs": [],
   "source": [
    "def number_of_orders_to_city_better_class_rating(df):\n",
    "    for k in df['city'].unique():\n",
    "    \n",
    "        mask = df['city'] == k\n",
    "    \n",
    "        a = dict(df.loc[mask].groupby('auto_class_rating')['dist'].count())\n",
    "\n",
    "        b = []\n",
    "        for i in range(len(np.sort(df.loc[mask,'auto_class_rating'].unique()))):\n",
    "            sum_ = 0\n",
    "            for j in range(i+1, len(np.sort(df.loc[mask,'auto_class_rating'].unique()))):\n",
    "                sum_ += a[np.sort(df.loc[mask,'auto_class_rating'].unique())[j]] \n",
    "            b.append(sum_)\n",
    "\n",
    "        c = {}\n",
    "        for i in range(len(df.loc[mask,'auto_class_rating'].unique())):\n",
    "            c[np.sort(df.loc[mask,'auto_class_rating'].unique())[i]] = b[i]\n",
    "        df.loc[mask, 'number_of_orders_to_city_better_class_rating'] = df.loc[mask, 'auto_class_rating'].map(c) \n",
    "    df['number_of_orders_to_city_better_class_rating'] = df['number_of_orders_to_city_better_class_rating'].astype('int64')"
   ]
  },
  {
   "cell_type": "code",
   "execution_count": 56,
   "id": "6b1fb18c",
   "metadata": {},
   "outputs": [],
   "source": [
    "number_of_orders_from_city_better_class_rating(df_train)\n",
    "number_of_orders_from_city_better_class_rating(df_test)\n",
    "number_of_orders_to_city_better_class_rating(df_train)\n",
    "number_of_orders_to_city_better_class_rating(df_test)"
   ]
  },
  {
   "cell_type": "markdown",
   "id": "badf40f0",
   "metadata": {},
   "source": [
    "Какой процент составляет количество заказов с таким же рейтигом от общего числа заказов из этого города"
   ]
  },
  {
   "cell_type": "code",
   "execution_count": 57,
   "id": "ef8830c1",
   "metadata": {},
   "outputs": [],
   "source": [
    "def num_orders_from_city_same_class_rating_ratio(df):\n",
    "    df['num_orders_from_city_same_class_rating_ratio'] = df['number_of_orders_from_city_same_class_rating'] / df['number_of_orders_from_city']"
   ]
  },
  {
   "cell_type": "code",
   "execution_count": 58,
   "id": "7c4475a0",
   "metadata": {},
   "outputs": [],
   "source": [
    "num_orders_from_city_same_class_rating_ratio(df_train)\n",
    "num_orders_from_city_same_class_rating_ratio(df_test)"
   ]
  },
  {
   "cell_type": "markdown",
   "id": "cd93934e",
   "metadata": {},
   "source": [
    "Какой процент составляет количество заказов с таким же рейтигом от общего числа заказов в этот город"
   ]
  },
  {
   "cell_type": "code",
   "execution_count": 59,
   "id": "9d19dfa9",
   "metadata": {},
   "outputs": [],
   "source": [
    "def num_orders_to_city_same_class_rating_ratio(df):\n",
    "    df['num_orders_to_city_same_class_rating_ratio'] = df['number_of_orders_to_city_same_class_rating'] / df['number_of_orders_to_city']"
   ]
  },
  {
   "cell_type": "code",
   "execution_count": 60,
   "id": "e3698d0e",
   "metadata": {},
   "outputs": [],
   "source": [
    "num_orders_to_city_same_class_rating_ratio(df_train)\n",
    "num_orders_to_city_same_class_rating_ratio(df_test)"
   ]
  },
  {
   "cell_type": "markdown",
   "id": "bbfd52ff",
   "metadata": {},
   "source": [
    "Какой процент составляет количество заказов с рейтигом выше от общего числа заказов из этого города"
   ]
  },
  {
   "cell_type": "code",
   "execution_count": 61,
   "id": "59fc1f79",
   "metadata": {},
   "outputs": [],
   "source": [
    "def num_orders_from_city_better_class_rating_ratio(df):\n",
    "    df['num_orders_from_city_better_class_rating_ratio'] = df['number_of_orders_from_city_better_class_rating'] / df['number_of_orders_from_city']"
   ]
  },
  {
   "cell_type": "code",
   "execution_count": 62,
   "id": "5fb0fa73",
   "metadata": {},
   "outputs": [],
   "source": [
    "num_orders_from_city_better_class_rating_ratio(df_train)\n",
    "num_orders_from_city_better_class_rating_ratio(df_test)"
   ]
  },
  {
   "cell_type": "markdown",
   "id": "96acb2a6",
   "metadata": {},
   "source": [
    "Какой процент составляет количество заказов с рейтигом выше от общего числа заказов в этот город"
   ]
  },
  {
   "cell_type": "code",
   "execution_count": 63,
   "id": "b19d6253",
   "metadata": {},
   "outputs": [],
   "source": [
    "def num_orders_to_city_better_class_rating_ratio(df):\n",
    "    df['num_orders_to_city_better_class_rating_ratio'] = df['number_of_orders_to_city_better_class_rating'] / df['number_of_orders_from_city']"
   ]
  },
  {
   "cell_type": "code",
   "execution_count": 64,
   "id": "680108ec",
   "metadata": {},
   "outputs": [],
   "source": [
    "num_orders_to_city_better_class_rating_ratio(df_train)\n",
    "num_orders_to_city_better_class_rating_ratio(df_test)"
   ]
  },
  {
   "cell_type": "markdown",
   "id": "8c3b32ce",
   "metadata": {},
   "source": [
    "Количество заказов в другой город, в тот же город и неизвестных заказов из этого города"
   ]
  },
  {
   "cell_type": "code",
   "execution_count": 65,
   "id": "50df6bbb",
   "metadata": {},
   "outputs": [],
   "source": [
    "def number_of_orders_from_city_to_another_city(df):\n",
    "    for i in df['another_city'].unique():\n",
    "        mask = df['another_city'] == i\n",
    "        a = dict(df.loc[mask].groupby('from_city')['dist'].count())\n",
    "        df.loc[mask, 'number_of_orders_from_city_to_another_city'] = df.loc[mask, 'from_city'].map(a)\n",
    "    df['number_of_orders_from_city_to_another_city'] = df['number_of_orders_from_city_to_another_city'].astype('int64')"
   ]
  },
  {
   "cell_type": "code",
   "execution_count": 66,
   "id": "c260d1e4",
   "metadata": {},
   "outputs": [],
   "source": [
    "number_of_orders_from_city_to_another_city(df_train)\n",
    "number_of_orders_from_city_to_another_city(df_test)"
   ]
  },
  {
   "cell_type": "markdown",
   "id": "b9647a4c",
   "metadata": {},
   "source": [
    "Количество заказов в другой город, в тот же город и неизвестных заказов в этот город"
   ]
  },
  {
   "cell_type": "code",
   "execution_count": 67,
   "id": "8ecee89e",
   "metadata": {},
   "outputs": [],
   "source": [
    "def number_of_orders_to_city_to_another_city(df):\n",
    "    for i in df['another_city'].unique():\n",
    "        mask = df['another_city'] == i\n",
    "        a = dict(df.loc[mask].groupby('city')['dist'].count())\n",
    "        df.loc[mask, 'number_of_orders_to_city_to_another_city'] = df.loc[mask, 'city'].map(a)\n",
    "    df['number_of_orders_to_city_to_another_city'] = df['number_of_orders_to_city_to_another_city'].astype('int64')"
   ]
  },
  {
   "cell_type": "code",
   "execution_count": 68,
   "id": "b4f8c842",
   "metadata": {},
   "outputs": [],
   "source": [
    "number_of_orders_to_city_to_another_city(df_train)\n",
    "number_of_orders_to_city_to_another_city(df_test)"
   ]
  },
  {
   "cell_type": "markdown",
   "id": "edfa4f83",
   "metadata": {},
   "source": [
    "Количество заказов из этого города, у которых ranked_dist_from_city такой же"
   ]
  },
  {
   "cell_type": "code",
   "execution_count": 69,
   "id": "d4aafa46",
   "metadata": {},
   "outputs": [],
   "source": [
    "def number_of_orders_from_city_same_ranked_dist_from_city(df):\n",
    "    for i in df['from_city'].unique():\n",
    "        mask = df[df['from_city'] == i].index\n",
    "        a = dict(df.loc[mask].groupby('ranked_dist_from_city')['dist'].count())\n",
    "        df.loc[mask, 'number_of_orders_from_city_same_ranked_dist_from_city'] = df.loc[mask, 'ranked_dist_from_city'].map(a)\n",
    "    df['number_of_orders_from_city_same_ranked_dist_from_city'] = df['number_of_orders_from_city_same_ranked_dist_from_city'].astype('int64')"
   ]
  },
  {
   "cell_type": "code",
   "execution_count": 70,
   "id": "0c5391a6",
   "metadata": {},
   "outputs": [],
   "source": [
    "number_of_orders_from_city_same_ranked_dist_from_city(df_train)\n",
    "number_of_orders_from_city_same_ranked_dist_from_city(df_test)"
   ]
  },
  {
   "cell_type": "markdown",
   "id": "087babee",
   "metadata": {},
   "source": [
    "Количество заказов в этот город, у которых ranked_dist_to_city такой же"
   ]
  },
  {
   "cell_type": "code",
   "execution_count": 71,
   "id": "0e87154b",
   "metadata": {},
   "outputs": [],
   "source": [
    "def number_of_orders_to_city_same_ranked_dist_to_city(df):\n",
    "    for i in df['city'].unique():\n",
    "        mask = df[df['city'] == i].index\n",
    "        a = dict(df.loc[mask].groupby('ranked_dist_to_city')['dist'].count())\n",
    "        df.loc[mask, 'number_of_orders_to_city_same_ranked_dist_to_city'] = df.loc[mask, 'ranked_dist_to_city'].map(a)\n",
    "    df['number_of_orders_to_city_same_ranked_dist_to_city'] = df['number_of_orders_to_city_same_ranked_dist_to_city'].astype('int64')"
   ]
  },
  {
   "cell_type": "code",
   "execution_count": 72,
   "id": "15017f1e",
   "metadata": {},
   "outputs": [],
   "source": [
    "number_of_orders_to_city_same_ranked_dist_to_city(df_train)\n",
    "number_of_orders_to_city_same_ranked_dist_to_city(df_test)"
   ]
  },
  {
   "cell_type": "markdown",
   "id": "b754fe9e",
   "metadata": {},
   "source": [
    "Количество заказов, у которых ranked_dist_all такой же "
   ]
  },
  {
   "cell_type": "code",
   "execution_count": 73,
   "id": "b34c2296",
   "metadata": {},
   "outputs": [],
   "source": [
    "def number_of_orders_same_ranked_dist_all(df):   \n",
    "    a = dict(df.groupby('ranked_dist_all')['dist'].count())\n",
    "    df[ 'number_of_orders_same_ranked_dist_all'] = df['ranked_dist_all'].map(a)\n",
    "    df['number_of_orders_same_ranked_dist_all'] = df['number_of_orders_same_ranked_dist_all'].astype('int64')"
   ]
  },
  {
   "cell_type": "code",
   "execution_count": 74,
   "id": "ac4809df",
   "metadata": {},
   "outputs": [],
   "source": [
    "number_of_orders_same_ranked_dist_all(df_train)\n",
    "number_of_orders_same_ranked_dist_all(df_test)"
   ]
  },
  {
   "cell_type": "code",
   "execution_count": null,
   "id": "f16129d6",
   "metadata": {},
   "outputs": [],
   "source": []
  },
  {
   "cell_type": "markdown",
   "id": "e1162547",
   "metadata": {},
   "source": [
    "# Время заказа"
   ]
  },
  {
   "cell_type": "markdown",
   "id": "6ea23604",
   "metadata": {},
   "source": [
    "Количество заказов из этого города в текущий момент"
   ]
  },
  {
   "cell_type": "code",
   "execution_count": 75,
   "id": "8df68696",
   "metadata": {},
   "outputs": [],
   "source": [
    "def number_of_orders_from_city_now(df):\n",
    "    for i in df['from_city'].unique():\n",
    "        mask = df[df['from_city'] == i].index\n",
    "        a = dict(df.loc[mask].groupby('due')['dist'].count())\n",
    "        df.loc[mask, 'number_of_orders_from_city_now'] = df.loc[mask, 'due'].map(a)\n",
    "    df['number_of_orders_from_city_now'] = df['number_of_orders_from_city_now'].astype('int64')"
   ]
  },
  {
   "cell_type": "code",
   "execution_count": 76,
   "id": "515ed994",
   "metadata": {},
   "outputs": [],
   "source": [
    "number_of_orders_from_city_now(df_train)"
   ]
  },
  {
   "cell_type": "code",
   "execution_count": 77,
   "id": "23e35046",
   "metadata": {},
   "outputs": [],
   "source": [
    "number_of_orders_from_city_now(df_test)"
   ]
  },
  {
   "cell_type": "markdown",
   "id": "04e871bd",
   "metadata": {},
   "source": [
    "Количество заказов в этот город в текущий момент"
   ]
  },
  {
   "cell_type": "code",
   "execution_count": 78,
   "id": "1f134260",
   "metadata": {},
   "outputs": [],
   "source": [
    "def number_of_orders_to_city_now(df):\n",
    "    for i in df['city'].unique():\n",
    "        mask = df[df['city'] == i].index\n",
    "        a = dict(df.loc[mask].groupby('due')['dist'].count())\n",
    "        df.loc[mask, 'number_of_orders_to_city_now'] = df.loc[mask, 'due'].map(a)\n",
    "    df['number_of_orders_to_city_now'] = df['number_of_orders_to_city_now'].astype('int64')"
   ]
  },
  {
   "cell_type": "code",
   "execution_count": 79,
   "id": "f24e4636",
   "metadata": {},
   "outputs": [],
   "source": [
    "number_of_orders_to_city_now(df_train)\n",
    "number_of_orders_to_city_now(df_test)"
   ]
  },
  {
   "cell_type": "markdown",
   "id": "ff7fc5dd",
   "metadata": {},
   "source": [
    "Количество заказов из этого города такого же класса(f, s t) в текущий момент"
   ]
  },
  {
   "cell_type": "code",
   "execution_count": 80,
   "id": "c8ebf229",
   "metadata": {},
   "outputs": [],
   "source": [
    "def number_of_orders_from_city_same_class_now(df):\n",
    "    for j in ['f_class', 's_class', 't_class']:\n",
    "        for k in df['from_city'].unique():\n",
    "            for i in df[j].unique():\n",
    "                mask = (df[j] == i) & (df['from_city'] == k)\n",
    "                a = dict(df.loc[mask].groupby('due')['dist'].count())\n",
    "                df.loc[mask, 'number_of_orders_from_city_same_'+j+'_now'] = df.loc[mask, 'due'].map(a)\n",
    "        df['number_of_orders_from_city_same_'+j+'_now'] = df['number_of_orders_from_city_same_'+j+'_now'].astype('int64')"
   ]
  },
  {
   "cell_type": "code",
   "execution_count": 81,
   "id": "c9dd5da6",
   "metadata": {},
   "outputs": [],
   "source": [
    "number_of_orders_from_city_same_class_now(df_train)\n",
    "number_of_orders_from_city_same_class_now(df_test)"
   ]
  },
  {
   "cell_type": "markdown",
   "id": "390830f7",
   "metadata": {},
   "source": [
    "Количество заказов в этот город такого же класса(f, s t) в текущий момент"
   ]
  },
  {
   "cell_type": "code",
   "execution_count": 82,
   "id": "3d215df7",
   "metadata": {},
   "outputs": [],
   "source": [
    "def number_of_orders_to_city_same_class_now(df):\n",
    "    for j in ['f_class', 's_class', 't_class']:\n",
    "        for k in df['city'].unique():\n",
    "            for i in df[j].unique():\n",
    "                mask = (df[j] == i) & (df['city'] == k)\n",
    "                a = dict(df.loc[mask].groupby('due')['dist'].count())\n",
    "                df.loc[mask, 'number_of_orders_to_city_same_'+j+'_now'] = df.loc[mask, 'due'].map(a)\n",
    "        df['number_of_orders_to_city_same_'+j+'_now'] = df['number_of_orders_to_city_same_'+j+'_now'].astype('int64')"
   ]
  },
  {
   "cell_type": "code",
   "execution_count": 83,
   "id": "7a517ba3",
   "metadata": {},
   "outputs": [],
   "source": [
    "number_of_orders_to_city_same_class_now(df_train)\n",
    "number_of_orders_to_city_same_class_now(df_test)"
   ]
  },
  {
   "cell_type": "markdown",
   "id": "a03dee38",
   "metadata": {},
   "source": [
    "Количество заказов такого же рейтинга из этого города в текущий момент"
   ]
  },
  {
   "cell_type": "code",
   "execution_count": 84,
   "id": "8aa23fc7",
   "metadata": {},
   "outputs": [],
   "source": [
    "def number_of_orders_from_city_same_class_rating_now(df):\n",
    "    for k in df['from_city'].unique():\n",
    "        for i in df['auto_class_rating'].unique():\n",
    "            mask = (df['auto_class_rating'] == i) & (df['from_city'] == k)\n",
    "            a = dict(df.loc[mask].groupby('due')['dist'].count())\n",
    "            df.loc[mask, 'number_of_orders_from_city_same_class_rating_now'] = df.loc[mask, 'due'].map(a)\n",
    "    df['number_of_orders_from_city_same_class_rating_now'] = df['number_of_orders_from_city_same_class_rating_now'].astype('int64')"
   ]
  },
  {
   "cell_type": "code",
   "execution_count": 85,
   "id": "64306558",
   "metadata": {},
   "outputs": [],
   "source": [
    "number_of_orders_from_city_same_class_rating_now(df_train)"
   ]
  },
  {
   "cell_type": "code",
   "execution_count": 86,
   "id": "608595fc",
   "metadata": {},
   "outputs": [],
   "source": [
    "number_of_orders_from_city_same_class_rating_now(df_test)"
   ]
  },
  {
   "cell_type": "markdown",
   "id": "281ccee2",
   "metadata": {},
   "source": [
    "Количество заказов такого же рейтинга в этот город в текущий момент"
   ]
  },
  {
   "cell_type": "code",
   "execution_count": 87,
   "id": "3b609d2a",
   "metadata": {},
   "outputs": [],
   "source": [
    "def number_of_orders_to_city_same_class_rating_now(df):\n",
    "    for k in df['city'].unique():\n",
    "        for i in df['auto_class_rating'].unique():\n",
    "            mask = (df['auto_class_rating'] == i) & (df['city'] == k)\n",
    "            a = dict(df.loc[mask].groupby('due')['dist'].count())\n",
    "            df.loc[mask, 'number_of_orders_to_city_same_class_rating_now'] = df.loc[mask, 'due'].map(a)\n",
    "    df['number_of_orders_to_city_same_class_rating_now'] = df['number_of_orders_to_city_same_class_rating_now'].astype('int64')"
   ]
  },
  {
   "cell_type": "code",
   "execution_count": 88,
   "id": "f50c27e9",
   "metadata": {},
   "outputs": [],
   "source": [
    "number_of_orders_to_city_same_class_rating_now(df_train)\n",
    "number_of_orders_to_city_same_class_rating_now(df_test)"
   ]
  },
  {
   "cell_type": "markdown",
   "id": "fcb55316",
   "metadata": {},
   "source": [
    "Какой процент составляет количество заказов с таким же рейтигом от общего числа заказов из этого города в текущий момент"
   ]
  },
  {
   "cell_type": "code",
   "execution_count": 89,
   "id": "5e268ea8",
   "metadata": {},
   "outputs": [],
   "source": [
    "def num_orders_from_city_same_class_rating_ratio_now(df):\n",
    "    df['num_orders_from_city_same_class_rating_ratio_now'] = df['number_of_orders_from_city_same_class_rating_now'] / df['number_of_orders_from_city_now']\n",
    "\n",
    "num_orders_from_city_same_class_rating_ratio_now(df_train)\n",
    "num_orders_from_city_same_class_rating_ratio_now(df_test)"
   ]
  },
  {
   "cell_type": "markdown",
   "id": "9e1799a9",
   "metadata": {},
   "source": [
    "Какой процент составляет количество заказов с таким же рейтигом от общего числа заказов в этот город в текущий момент"
   ]
  },
  {
   "cell_type": "code",
   "execution_count": 90,
   "id": "590c0162",
   "metadata": {},
   "outputs": [],
   "source": [
    "def num_orders_to_city_same_class_rating_ratio_now(df):\n",
    "    df['num_orders_to_city_same_class_rating_ratio_now'] = df['number_of_orders_to_city_same_class_rating_now'] / df['number_of_orders_to_city_now']\n",
    "\n",
    "num_orders_to_city_same_class_rating_ratio_now(df_train)\n",
    "num_orders_to_city_same_class_rating_ratio_now(df_test)"
   ]
  },
  {
   "cell_type": "markdown",
   "id": "dc2248b1",
   "metadata": {},
   "source": [
    "Количество заказов в другой город, в тот же город и неизвестных заказов из этого города в текущий момент"
   ]
  },
  {
   "cell_type": "code",
   "execution_count": 91,
   "id": "a8dd7b8d",
   "metadata": {},
   "outputs": [],
   "source": [
    "def number_of_orders_from_city_to_another_city_now(df):\n",
    "    for i in df['another_city'].unique():\n",
    "        for j in df['from_city'].unique():\n",
    "            mask = (df['another_city'] == i) & (df['from_city'] == j)\n",
    "            a = dict(df.loc[mask].groupby('due')['dist'].count())\n",
    "            df.loc[mask, 'number_of_orders_from_city_to_another_city_now'] = df.loc[mask, 'due'].map(a)\n",
    "    df['number_of_orders_from_city_to_another_city_now'] = df['number_of_orders_from_city_to_another_city_now'].astype('int64')"
   ]
  },
  {
   "cell_type": "code",
   "execution_count": 92,
   "id": "c3ea9f60",
   "metadata": {},
   "outputs": [],
   "source": [
    "number_of_orders_from_city_to_another_city_now(df_train)\n",
    "number_of_orders_from_city_to_another_city_now(df_test)"
   ]
  },
  {
   "cell_type": "markdown",
   "id": "63731297",
   "metadata": {},
   "source": [
    "Количество заказов в другой город, в тот же город и неизвестных заказов в этот город в текущий момент"
   ]
  },
  {
   "cell_type": "code",
   "execution_count": 93,
   "id": "135a71c3",
   "metadata": {},
   "outputs": [],
   "source": [
    "def number_of_orders_to_city_to_another_city_now(df):\n",
    "    for i in df['another_city'].unique():\n",
    "        for j in df['city'].unique():\n",
    "            mask = (df['another_city'] == i) & (df['city'] == j)\n",
    "            a = dict(df.loc[mask].groupby('due')['dist'].count())\n",
    "            df.loc[mask, 'number_of_orders_to_city_to_another_city_now'] = df.loc[mask, 'due'].map(a)\n",
    "    df['number_of_orders_to_city_to_another_city_now'] = df['number_of_orders_to_city_to_another_city_now'].astype('int64')"
   ]
  },
  {
   "cell_type": "code",
   "execution_count": 94,
   "id": "081c70de",
   "metadata": {},
   "outputs": [],
   "source": [
    "number_of_orders_to_city_to_another_city_now(df_train)\n",
    "number_of_orders_to_city_to_another_city_now(df_test)"
   ]
  },
  {
   "cell_type": "markdown",
   "id": "0a4d8079",
   "metadata": {},
   "source": [
    "Было ли сделано в эту точку больше одного заказа"
   ]
  },
  {
   "cell_type": "code",
   "execution_count": 95,
   "id": "ceb713e1",
   "metadata": {},
   "outputs": [],
   "source": [
    "def several_orders_to_this_point(df):\n",
    "    a = dict(df.groupby(['lat', 'lon'])['due'].count())\n",
    "    df['several_orders_to_this_point'] = df[['lat', 'lon']].set_index(['lat','lon']).index.map(a)\n",
    "    df.loc[df['several_orders_to_this_point'] > 1, 'several_orders_to_this_point'] = 0 "
   ]
  },
  {
   "cell_type": "code",
   "execution_count": 96,
   "id": "d78e0b6a",
   "metadata": {},
   "outputs": [],
   "source": [
    "several_orders_to_this_point(df_train)\n",
    "several_orders_to_this_point(df_test)"
   ]
  },
  {
   "cell_type": "markdown",
   "id": "f3b40804",
   "metadata": {},
   "source": [
    "# Находим заказы одних людей"
   ]
  },
  {
   "cell_type": "markdown",
   "id": "0253ea27",
   "metadata": {},
   "source": [
    "Если в одну точку сделано несколько заказов, то ставим 1 посленим заказам, а всем остальным(если их больше 1) 0"
   ]
  },
  {
   "cell_type": "code",
   "execution_count": 97,
   "id": "1ce82b0d",
   "metadata": {},
   "outputs": [],
   "source": [
    "def last_order1(df):\n",
    "    inx = df.groupby(['lat', 'lon'])['due'].transform(max) == df['due']\n",
    "    df.loc[inx, 'last_order1'] = 1\n",
    "    df['last_order1'] = df['last_order1'].fillna(0)\n",
    "    df['last_order1'] = df['last_order1'].astype('int64')"
   ]
  },
  {
   "cell_type": "code",
   "execution_count": 98,
   "id": "3ebb12f1",
   "metadata": {},
   "outputs": [],
   "source": [
    "last_order1(df_train)"
   ]
  },
  {
   "cell_type": "code",
   "execution_count": 99,
   "id": "5b79b4ea",
   "metadata": {},
   "outputs": [],
   "source": [
    "last_order1(df_test)"
   ]
  },
  {
   "cell_type": "markdown",
   "id": "1e017889",
   "metadata": {},
   "source": [
    "У них должны совпадать 'f_class', 's_class', 't_class', 'city', 'from_city', 'dist'"
   ]
  },
  {
   "cell_type": "code",
   "execution_count": 100,
   "id": "0347a22e",
   "metadata": {},
   "outputs": [],
   "source": [
    "def last_order2(df):\n",
    "    inx = df.groupby(['f_class', 's_class', 't_class' , 'city', 'from_city', 'dist'])['due'].transform(max) == df['due']\n",
    "    df.loc[inx, 'last_order2'] = 1\n",
    "    df['last_order2'] = df['last_order2'].fillna(0)\n",
    "    df['last_order2'] = df['last_order2'].astype('int64')"
   ]
  },
  {
   "cell_type": "code",
   "execution_count": 101,
   "id": "e6ac0d73",
   "metadata": {},
   "outputs": [],
   "source": [
    "last_order2(df_train)"
   ]
  },
  {
   "cell_type": "code",
   "execution_count": 102,
   "id": "1f562803",
   "metadata": {},
   "outputs": [],
   "source": [
    "last_order2(df_test)"
   ]
  },
  {
   "cell_type": "markdown",
   "id": "43a069d0",
   "metadata": {},
   "source": [
    "Поделим dist на бины"
   ]
  },
  {
   "cell_type": "code",
   "execution_count": 103,
   "id": "dd3a0659",
   "metadata": {},
   "outputs": [],
   "source": [
    "def cuted_dist_from_city(df):\n",
    "    for i in df['from_city'].unique():\n",
    "        mask = df['from_city'] == i\n",
    "        df.loc[mask, 'cuted_dist_from_city'] = pd.cut(df.loc[mask, 'dist'], int(mask.sum() * 0.1), labels=False)\n",
    "    df['cuted_dist_from_city'] = df['cuted_dist_from_city'].astype('int64')"
   ]
  },
  {
   "cell_type": "code",
   "execution_count": 104,
   "id": "a7108793",
   "metadata": {},
   "outputs": [],
   "source": [
    "cuted_dist_from_city(df_train)\n",
    "cuted_dist_from_city(df_test)"
   ]
  },
  {
   "cell_type": "code",
   "execution_count": 105,
   "id": "b3afe32d",
   "metadata": {},
   "outputs": [],
   "source": [
    "def cuted_dist_to_city(df):\n",
    "    for i in df['city'].unique():\n",
    "        mask = df['city'] == i\n",
    "        if (i == 'non-defined'):\n",
    "            df.loc[mask, 'cuted_dist_to_city'] = 0\n",
    "        else:\n",
    "            df.loc[mask, 'cuted_dist_to_city'] = pd.cut(df.loc[mask, 'dist'], int(mask.sum() * 0.1), labels=False)\n",
    "    df['cuted_dist_to_city'] = df['cuted_dist_to_city'].astype('int64')"
   ]
  },
  {
   "cell_type": "code",
   "execution_count": 106,
   "id": "79bcdcac",
   "metadata": {},
   "outputs": [],
   "source": [
    "cuted_dist_to_city(df_train)\n",
    "cuted_dist_to_city(df_test)"
   ]
  },
  {
   "cell_type": "markdown",
   "id": "ecc41721",
   "metadata": {},
   "source": [
    "У них должны совпадать 'f_class', 's_class', 't_class', 'city', 'from_city', 'lat', 'lon'"
   ]
  },
  {
   "cell_type": "code",
   "execution_count": 107,
   "id": "78cf2cb6",
   "metadata": {},
   "outputs": [],
   "source": [
    "def last_order3(df):\n",
    "    inx = df.groupby(['f_class', 's_class', 't_class' , 'city', 'from_city', 'lat', 'lon'])['due'].transform(max) == df['due']\n",
    "    df.loc[inx, 'last_order3'] = 1\n",
    "    df['last_order3'] = df['last_order3'].fillna(0)\n",
    "    df['last_order3'] = df['last_order3'].astype('int64')"
   ]
  },
  {
   "cell_type": "code",
   "execution_count": 108,
   "id": "58c722ea",
   "metadata": {},
   "outputs": [],
   "source": [
    "last_order3(df_train)\n",
    "last_order3(df_test)"
   ]
  },
  {
   "cell_type": "code",
   "execution_count": 109,
   "id": "95aeb167",
   "metadata": {},
   "outputs": [],
   "source": [
    "def order_time(df):\n",
    "    df.due = df.due.astype('datetime64[ns]')\n",
    "    df.set_index('due',inplace = True)\n",
    "    df[\"minute\"] = df.index.minute\n",
    "    df[\"hour\"] = df.index.hour\n",
    "    df[\"weekday\"] = df.index.weekday\n",
    "    df['is_weekend'] = df.weekday.isin([5,6])*1"
   ]
  },
  {
   "cell_type": "code",
   "execution_count": 110,
   "id": "6a446be9",
   "metadata": {},
   "outputs": [],
   "source": [
    "order_time(df_train)\n",
    "order_time(df_test)"
   ]
  },
  {
   "cell_type": "markdown",
   "id": "6337c965",
   "metadata": {},
   "source": [
    "Час пик или нет"
   ]
  },
  {
   "cell_type": "code",
   "execution_count": 111,
   "id": "cd32ace8",
   "metadata": {},
   "outputs": [],
   "source": [
    "def peak_hour(df):\n",
    "    df['peak_hour'] = 0\n",
    "    df.loc[(df.is_weekend == 0)&(((df.index.hour >= 7) & (df.index.hour <= 11)) | ((df.index.hour >= 17) & (df.index.hour <= 20)) ), 'peak_hour'] = 1"
   ]
  },
  {
   "cell_type": "code",
   "execution_count": 112,
   "id": "d125ba0e",
   "metadata": {},
   "outputs": [],
   "source": [
    "peak_hour(df_train)\n",
    "peak_hour(df_test)"
   ]
  },
  {
   "cell_type": "markdown",
   "id": "e22ff2e7",
   "metadata": {},
   "source": [
    "Время суток"
   ]
  },
  {
   "cell_type": "code",
   "execution_count": 113,
   "id": "9065549e",
   "metadata": {},
   "outputs": [],
   "source": [
    "def time_of_day(df):\n",
    "    df.loc[(df.index.hour >= 7) & (df.index.hour <= 11), 'time_of_day'] = 'morning'\n",
    "    df.loc[(df.index.hour > 11) & (df.index.hour < 17), 'time_of_day'] = 'afternoon'\n",
    "    df.loc[(df.index.hour >= 17) & (df.index.hour <= 20), 'time_of_day'] = 'evening'\n",
    "    df.loc[((df.index.hour > 20) & (df.index.hour <= 23)) | ((df.index.hour >= 0) & (df.index.hour <= 2)), 'time_of_day'] = 'late_evening'\n",
    "    df.loc[(df.index.hour > 2) & (df.index.hour < 7), 'time_of_day'] = 'night'"
   ]
  },
  {
   "cell_type": "code",
   "execution_count": 114,
   "id": "bd3e87f1",
   "metadata": {},
   "outputs": [],
   "source": [
    "time_of_day(df_train)\n",
    "time_of_day(df_test)"
   ]
  },
  {
   "cell_type": "code",
   "execution_count": 115,
   "id": "f9a26985",
   "metadata": {},
   "outputs": [],
   "source": [
    "df_test = df_test.reset_index()\n",
    "df_train = df_train.reset_index()"
   ]
  },
  {
   "cell_type": "markdown",
   "id": "2da3ee16",
   "metadata": {},
   "source": [
    "Сделаем категориальный признак point = lat * lon"
   ]
  },
  {
   "cell_type": "code",
   "execution_count": 59,
   "id": "95ee4256",
   "metadata": {},
   "outputs": [],
   "source": [
    "df_train['point'] = df_train['lat'] * df_train['lon']\n",
    "del df_train['lat']\n",
    "del df_train['lon']\n",
    "df_test['point'] = df_test['lat'] * df_test['lon']\n",
    "del df_test['lat']\n",
    "del df_test['lon']"
   ]
  },
  {
   "cell_type": "code",
   "execution_count": 116,
   "id": "0df65ed0",
   "metadata": {},
   "outputs": [
    {
     "data": {
      "text/plain": [
       "0"
      ]
     },
     "execution_count": 116,
     "metadata": {},
     "output_type": "execute_result"
    }
   ],
   "source": [
    "df_train.isna().sum().sum()"
   ]
  },
  {
   "cell_type": "code",
   "execution_count": 117,
   "id": "07a95dd7",
   "metadata": {},
   "outputs": [
    {
     "data": {
      "text/plain": [
       "0"
      ]
     },
     "execution_count": 117,
     "metadata": {},
     "output_type": "execute_result"
    }
   ],
   "source": [
    "df_test.isna().sum().sum()"
   ]
  },
  {
   "cell_type": "markdown",
   "id": "e393f42f",
   "metadata": {},
   "source": [
    "Сохранение и загрузка признаков. Пропустить, если признаки посчитаны в ноутбуке"
   ]
  },
  {
   "cell_type": "code",
   "execution_count": 70,
   "id": "c7f69b04",
   "metadata": {},
   "outputs": [],
   "source": [
    "#df_train.to_csv('train.csv')\n",
    "#df_test.to_csv('test.csv')"
   ]
  },
  {
   "cell_type": "code",
   "execution_count": 2,
   "id": "4631adfb",
   "metadata": {},
   "outputs": [],
   "source": [
    "df_train = pd.read_csv('train.csv')\n",
    "df_test = pd.read_csv('test.csv')\n",
    "\n",
    "del df_train['Unnamed: 0']\n",
    "del df_test['Unnamed: 0']"
   ]
  },
  {
   "cell_type": "code",
   "execution_count": 4,
   "id": "6e9c6e9f",
   "metadata": {},
   "outputs": [],
   "source": []
  },
  {
   "cell_type": "markdown",
   "id": "afaf44a4",
   "metadata": {},
   "source": [
    "Преобразование типов"
   ]
  },
  {
   "cell_type": "code",
   "execution_count": 402,
   "id": "c71d4845",
   "metadata": {},
   "outputs": [],
   "source": [
    "#for i in ['last_order1', 'last_order2', 'cuted_dist_from_city', 'cuted_dist_to_city', 'last_order3']:\n",
    "#        df_train[i] = df_train[i].astype('int64')"
   ]
  },
  {
   "cell_type": "code",
   "execution_count": 404,
   "id": "06476601",
   "metadata": {},
   "outputs": [],
   "source": [
    "#for i in ['last_order1', 'last_order2', 'cuted_dist_from_city', 'cuted_dist_to_city', 'last_order3']:\n",
    "#        df_test[i] = df_test[i].astype('int64')"
   ]
  },
  {
   "cell_type": "code",
   "execution_count": 471,
   "id": "793646f1",
   "metadata": {},
   "outputs": [],
   "source": [
    "#for i in ['is_NaN_dist_to_nearest_city', 'is_NaN_dist_to_nearest_city_m', 'target']:\n",
    "#    df_train[i] = df_train[i].astype('int64')"
   ]
  },
  {
   "cell_type": "code",
   "execution_count": 3,
   "id": "a4ad24de",
   "metadata": {},
   "outputs": [],
   "source": [
    "for i in df_train.select_dtypes(include=['object']).columns:\n",
    "    df_train[i] = df_train[i].astype('category')\n",
    "    \n",
    "df_train['point'] = df_train['point'].astype('string').astype('category')\n",
    "    \n",
    "for i in df_test.select_dtypes(include=['object']).columns:\n",
    "    df_test[i] = df_test[i].astype('category')\n",
    "    \n",
    "df_test['point'] = df_test['point'].astype('string').astype('category')"
   ]
  },
  {
   "cell_type": "code",
   "execution_count": 4,
   "id": "a76db6d1",
   "metadata": {},
   "outputs": [
    {
     "name": "stdout",
     "output_type": "stream",
     "text": [
      "<class 'pandas.core.frame.DataFrame'>\n",
      "RangeIndex: 1187452 entries, 0 to 1187451\n",
      "Data columns (total 70 columns):\n",
      " #   Column                                                 Non-Null Count    Dtype   \n",
      "---  ------                                                 --------------    -----   \n",
      " 0   dist                                                   1187452 non-null  float64 \n",
      " 1   f_class                                                1187452 non-null  category\n",
      " 2   s_class                                                1187452 non-null  category\n",
      " 3   t_class                                                1187452 non-null  category\n",
      " 4   target                                                 1187452 non-null  int64   \n",
      " 5   city                                                   1187452 non-null  category\n",
      " 6   dist_to_nearest_city                                   1187452 non-null  float64 \n",
      " 7   is_NaN_dist_to_nearest_city                            1187452 non-null  int64   \n",
      " 8   dist_to_moscow                                         1187452 non-null  float64 \n",
      " 9   dist_to_spb                                            1187452 non-null  float64 \n",
      " 10  dist_to_voronezh                                       1187452 non-null  float64 \n",
      " 11  dist_to_nnovgorod                                      1187452 non-null  float64 \n",
      " 12  dist_to_kazan                                          1187452 non-null  float64 \n",
      " 13  another_city                                           1187452 non-null  int64   \n",
      " 14  from_city                                              1187452 non-null  category\n",
      " 15  number_of_orders_from_city                             1187452 non-null  int64   \n",
      " 16  number_of_orders_to_city                               1187452 non-null  int64   \n",
      " 17  ranked_dist_all                                        1187452 non-null  int64   \n",
      " 18  ranked_dist_from_city                                  1187452 non-null  int64   \n",
      " 19  ranked_dist_to_city                                    1187452 non-null  int64   \n",
      " 20  number_of_orders_from_city_same_f_class                1187452 non-null  int64   \n",
      " 21  number_of_orders_from_city_same_s_class                1187452 non-null  int64   \n",
      " 22  number_of_orders_from_city_same_t_class                1187452 non-null  int64   \n",
      " 23  number_of_orders_to_city_same_f_class                  1187452 non-null  int64   \n",
      " 24  number_of_orders_to_city_same_s_class                  1187452 non-null  int64   \n",
      " 25  number_of_orders_to_city_same_t_class                  1187452 non-null  int64   \n",
      " 26  auto_class_rating                                      1187452 non-null  int64   \n",
      " 27  number_of_orders_from_city_same_class_rating           1187452 non-null  int64   \n",
      " 28  number_of_orders_to_city_same_class_rating             1187452 non-null  int64   \n",
      " 29  number_of_orders_from_city_better_class_rating         1187452 non-null  int64   \n",
      " 30  number_of_orders_to_city_better_class_rating           1187452 non-null  int64   \n",
      " 31  num_orders_from_city_same_class_rating_ratio           1187452 non-null  float64 \n",
      " 32  num_orders_to_city_same_class_rating_ratio             1187452 non-null  float64 \n",
      " 33  num_orders_from_city_better_class_rating_ratio         1187452 non-null  float64 \n",
      " 34  num_orders_to_city_better_class_rating_ratio           1187452 non-null  float64 \n",
      " 35  number_of_orders_from_city_to_another_city             1187452 non-null  int64   \n",
      " 36  number_of_orders_to_city_to_another_city               1187452 non-null  int64   \n",
      " 37  number_of_orders_from_city_same_ranked_dist_from_city  1187452 non-null  int64   \n",
      " 38  number_of_orders_to_city_same_ranked_dist_to_city      1187452 non-null  int64   \n",
      " 39  number_of_orders_same_ranked_dist_all                  1187452 non-null  int64   \n",
      " 40  number_of_orders_from_city_now                         1187452 non-null  int64   \n",
      " 41  number_of_orders_to_city_now                           1187452 non-null  int64   \n",
      " 42  number_of_orders_from_city_same_f_class_now            1187452 non-null  int64   \n",
      " 43  number_of_orders_from_city_same_s_class_now            1187452 non-null  int64   \n",
      " 44  number_of_orders_from_city_same_t_class_now            1187452 non-null  int64   \n",
      " 45  number_of_orders_to_city_same_f_class_now              1187452 non-null  int64   \n",
      " 46  number_of_orders_to_city_same_s_class_now              1187452 non-null  int64   \n",
      " 47  number_of_orders_to_city_same_t_class_now              1187452 non-null  int64   \n",
      " 48  number_of_orders_from_city_same_class_rating_now       1187452 non-null  int64   \n",
      " 49  number_of_orders_to_city_same_class_rating_now         1187452 non-null  int64   \n",
      " 50  num_orders_from_city_same_class_rating_ratio_now       1187452 non-null  float64 \n",
      " 51  num_orders_to_city_same_class_rating_ratio_now         1187452 non-null  float64 \n",
      " 52  number_of_orders_from_city_to_another_city_now         1187452 non-null  int64   \n",
      " 53  number_of_orders_to_city_to_another_city_now           1187452 non-null  int64   \n",
      " 54  several_orders_to_this_point                           1187452 non-null  int64   \n",
      " 55  last_order1                                            1187452 non-null  int64   \n",
      " 56  last_order2                                            1187452 non-null  int64   \n",
      " 57  cuted_dist_from_city                                   1187452 non-null  int64   \n",
      " 58  cuted_dist_to_city                                     1187452 non-null  int64   \n",
      " 59  last_order3                                            1187452 non-null  int64   \n",
      " 60  minute                                                 1187452 non-null  int64   \n",
      " 61  hour                                                   1187452 non-null  int64   \n",
      " 62  weekday                                                1187452 non-null  int64   \n",
      " 63  is_weekend                                             1187452 non-null  int64   \n",
      " 64  peak_hour                                              1187452 non-null  int64   \n",
      " 65  time_of_day                                            1187452 non-null  category\n",
      " 66  due                                                    1187452 non-null  category\n",
      " 67  dist_to_nearest_city_m                                 1187452 non-null  float64 \n",
      " 68  is_NaN_dist_to_nearest_city_m                          1187452 non-null  int64   \n",
      " 69  point                                                  1187452 non-null  category\n",
      "dtypes: category(8), float64(14), int64(48)\n",
      "memory usage: 592.8 MB\n"
     ]
    }
   ],
   "source": [
    "df_train.info()"
   ]
  },
  {
   "cell_type": "markdown",
   "id": "1c9c4f4b",
   "metadata": {},
   "source": [
    "# Отбор признаков"
   ]
  },
  {
   "cell_type": "markdown",
   "id": "ff643c44",
   "metadata": {},
   "source": [
    "Убираем признаки, у которых маленькая корреляция с таргетом"
   ]
  },
  {
   "cell_type": "code",
   "execution_count": 5,
   "id": "2da89dd4",
   "metadata": {},
   "outputs": [],
   "source": [
    "y = df_train['target']"
   ]
  },
  {
   "cell_type": "code",
   "execution_count": 6,
   "id": "f62c74d5",
   "metadata": {},
   "outputs": [],
   "source": [
    "df_train.drop(columns = 'target', inplace = True)"
   ]
  },
  {
   "cell_type": "code",
   "execution_count": 7,
   "id": "847029c6",
   "metadata": {},
   "outputs": [
    {
     "name": "stdout",
     "output_type": "stream",
     "text": [
      "START DIMENSION 69\n",
      "END DIMENSION 69\n",
      "deleted features []\n"
     ]
    }
   ],
   "source": [
    "remaining_features = []\n",
    "del_features = []\n",
    "print(\"START DIMENSION\", df_train.shape[1])\n",
    "for i in df_train.columns:\n",
    "    try:\n",
    "        if np.abs(pearsonr(df_train[i], y)[0]) > 0.0:\n",
    "            remaining_features.append(i)\n",
    "        else:\n",
    "            del_features.append(i)\n",
    "    except:\n",
    "        remaining_features.append(i)\n",
    "        continue\n",
    "    \n",
    "TRAIN = df_train[remaining_features]\n",
    "print(\"END DIMENSION\", TRAIN.shape[1])\n",
    "print('deleted features', del_features)"
   ]
  },
  {
   "cell_type": "markdown",
   "id": "372b9c55",
   "metadata": {},
   "source": [
    "# Tuning"
   ]
  },
  {
   "cell_type": "code",
   "execution_count": 8,
   "id": "e3424858",
   "metadata": {},
   "outputs": [],
   "source": [
    "from scipy.stats import randint"
   ]
  },
  {
   "cell_type": "code",
   "execution_count": 9,
   "id": "3dde3d21",
   "metadata": {},
   "outputs": [],
   "source": [
    "cat_features = []\n",
    "for i in range(len(TRAIN.columns)):\n",
    "    if TRAIN.columns[i] in TRAIN.select_dtypes(include=['category']).columns:\n",
    "        cat_features.append(i)"
   ]
  },
  {
   "cell_type": "code",
   "execution_count": 13,
   "id": "93c22b60",
   "metadata": {},
   "outputs": [],
   "source": [
    "cbc = catboost.CatBoostClassifier(iterations = 30, cat_features = cat_features)\n",
    "\n",
    "param_dist = {\"learning_rate\": np.linspace(0,0.2,5),\n",
    "               \"max_depth\": randint(3, 10)}\n",
    "    "
   ]
  },
  {
   "cell_type": "code",
   "execution_count": 14,
   "id": "5be4194d",
   "metadata": {},
   "outputs": [
    {
     "name": "stdout",
     "output_type": "stream",
     "text": [
      "0:\tlearn: 0.6596433\ttotal: 460ms\tremaining: 13.3s\n",
      "1:\tlearn: 0.6306177\ttotal: 799ms\tremaining: 11.2s\n",
      "2:\tlearn: 0.6039915\ttotal: 1.14s\tremaining: 10.2s\n",
      "3:\tlearn: 0.5802644\ttotal: 1.4s\tremaining: 9.12s\n",
      "4:\tlearn: 0.5591315\ttotal: 1.7s\tremaining: 8.49s\n",
      "5:\tlearn: 0.5411657\ttotal: 2.06s\tremaining: 8.24s\n",
      "6:\tlearn: 0.5253825\ttotal: 2.25s\tremaining: 7.41s\n",
      "7:\tlearn: 0.5104973\ttotal: 2.55s\tremaining: 7.02s\n",
      "8:\tlearn: 0.4973468\ttotal: 2.87s\tremaining: 6.71s\n",
      "9:\tlearn: 0.4862175\ttotal: 3.18s\tremaining: 6.37s\n",
      "10:\tlearn: 0.4761530\ttotal: 3.48s\tremaining: 6.02s\n",
      "11:\tlearn: 0.4667532\ttotal: 3.78s\tremaining: 5.67s\n",
      "12:\tlearn: 0.4583408\ttotal: 4.11s\tremaining: 5.37s\n",
      "13:\tlearn: 0.4515473\ttotal: 4.38s\tremaining: 5.01s\n",
      "14:\tlearn: 0.4453240\ttotal: 4.69s\tremaining: 4.69s\n",
      "15:\tlearn: 0.4392209\ttotal: 5s\tremaining: 4.38s\n",
      "16:\tlearn: 0.4341005\ttotal: 5.29s\tremaining: 4.05s\n",
      "17:\tlearn: 0.4294077\ttotal: 5.59s\tremaining: 3.73s\n",
      "18:\tlearn: 0.4250411\ttotal: 5.92s\tremaining: 3.43s\n",
      "19:\tlearn: 0.4212550\ttotal: 6.25s\tremaining: 3.13s\n",
      "20:\tlearn: 0.4179564\ttotal: 6.54s\tremaining: 2.8s\n",
      "21:\tlearn: 0.4151390\ttotal: 6.84s\tremaining: 2.49s\n",
      "22:\tlearn: 0.4125573\ttotal: 7.13s\tremaining: 2.17s\n",
      "23:\tlearn: 0.4099821\ttotal: 7.44s\tremaining: 1.86s\n",
      "24:\tlearn: 0.4077189\ttotal: 7.72s\tremaining: 1.54s\n",
      "25:\tlearn: 0.4056798\ttotal: 8.04s\tremaining: 1.24s\n",
      "26:\tlearn: 0.4037747\ttotal: 8.37s\tremaining: 930ms\n",
      "27:\tlearn: 0.4021351\ttotal: 8.68s\tremaining: 620ms\n",
      "28:\tlearn: 0.4006834\ttotal: 9.02s\tremaining: 311ms\n",
      "29:\tlearn: 0.3994827\ttotal: 9.31s\tremaining: 0us\n",
      "0:\tlearn: 0.6596844\ttotal: 390ms\tremaining: 11.3s\n",
      "1:\tlearn: 0.6306966\ttotal: 737ms\tremaining: 10.3s\n",
      "2:\tlearn: 0.6041050\ttotal: 1.1s\tremaining: 9.92s\n",
      "3:\tlearn: 0.5804033\ttotal: 1.37s\tremaining: 8.93s\n",
      "4:\tlearn: 0.5592722\ttotal: 1.78s\tremaining: 8.9s\n",
      "5:\tlearn: 0.5413003\ttotal: 2.08s\tremaining: 8.33s\n",
      "6:\tlearn: 0.5255150\ttotal: 2.28s\tremaining: 7.5s\n",
      "7:\tlearn: 0.5106074\ttotal: 2.58s\tremaining: 7.09s\n",
      "8:\tlearn: 0.4974523\ttotal: 2.9s\tremaining: 6.77s\n",
      "9:\tlearn: 0.4855908\ttotal: 3.22s\tremaining: 6.44s\n",
      "10:\tlearn: 0.4755719\ttotal: 3.51s\tremaining: 6.06s\n",
      "11:\tlearn: 0.4661936\ttotal: 3.81s\tremaining: 5.72s\n",
      "12:\tlearn: 0.4578379\ttotal: 4.13s\tremaining: 5.4s\n",
      "13:\tlearn: 0.4510621\ttotal: 4.43s\tremaining: 5.06s\n",
      "14:\tlearn: 0.4448530\ttotal: 4.72s\tremaining: 4.72s\n",
      "15:\tlearn: 0.4390285\ttotal: 5.05s\tremaining: 4.42s\n",
      "16:\tlearn: 0.4339338\ttotal: 5.33s\tremaining: 4.07s\n",
      "17:\tlearn: 0.4292553\ttotal: 5.63s\tremaining: 3.75s\n",
      "18:\tlearn: 0.4250129\ttotal: 5.94s\tremaining: 3.44s\n",
      "19:\tlearn: 0.4211925\ttotal: 6.27s\tremaining: 3.13s\n",
      "20:\tlearn: 0.4176349\ttotal: 6.6s\tremaining: 2.83s\n",
      "21:\tlearn: 0.4145790\ttotal: 6.93s\tremaining: 2.52s\n",
      "22:\tlearn: 0.4121112\ttotal: 7.21s\tremaining: 2.19s\n",
      "23:\tlearn: 0.4098365\ttotal: 7.49s\tremaining: 1.87s\n",
      "24:\tlearn: 0.4075880\ttotal: 7.82s\tremaining: 1.56s\n",
      "25:\tlearn: 0.4057852\ttotal: 8.11s\tremaining: 1.25s\n",
      "26:\tlearn: 0.4039810\ttotal: 8.43s\tremaining: 936ms\n",
      "27:\tlearn: 0.4022432\ttotal: 8.73s\tremaining: 624ms\n",
      "28:\tlearn: 0.4008964\ttotal: 9.01s\tremaining: 311ms\n",
      "29:\tlearn: 0.3998920\ttotal: 9.16s\tremaining: 0us\n",
      "0:\tlearn: 0.6596577\ttotal: 499ms\tremaining: 14.5s\n",
      "1:\tlearn: 0.6296506\ttotal: 830ms\tremaining: 11.6s\n",
      "2:\tlearn: 0.6027464\ttotal: 1.41s\tremaining: 12.7s\n",
      "3:\tlearn: 0.5795081\ttotal: 1.64s\tremaining: 10.6s\n",
      "4:\tlearn: 0.5592546\ttotal: 1.97s\tremaining: 9.87s\n",
      "5:\tlearn: 0.5409645\ttotal: 2.26s\tremaining: 9.05s\n",
      "6:\tlearn: 0.5246856\ttotal: 2.56s\tremaining: 8.4s\n",
      "7:\tlearn: 0.5109675\ttotal: 2.72s\tremaining: 7.48s\n",
      "8:\tlearn: 0.4982617\ttotal: 3.05s\tremaining: 7.11s\n",
      "9:\tlearn: 0.4862656\ttotal: 3.35s\tremaining: 6.71s\n",
      "10:\tlearn: 0.4758827\ttotal: 3.66s\tremaining: 6.33s\n",
      "11:\tlearn: 0.4673459\ttotal: 3.96s\tremaining: 5.94s\n",
      "12:\tlearn: 0.4587340\ttotal: 4.28s\tremaining: 5.59s\n",
      "13:\tlearn: 0.4513446\ttotal: 4.61s\tremaining: 5.27s\n",
      "14:\tlearn: 0.4451478\ttotal: 4.9s\tremaining: 4.9s\n",
      "15:\tlearn: 0.4392336\ttotal: 5.19s\tremaining: 4.54s\n",
      "16:\tlearn: 0.4343340\ttotal: 5.47s\tremaining: 4.19s\n",
      "17:\tlearn: 0.4295981\ttotal: 5.82s\tremaining: 3.88s\n",
      "18:\tlearn: 0.4256389\ttotal: 6.11s\tremaining: 3.54s\n",
      "19:\tlearn: 0.4217901\ttotal: 6.45s\tremaining: 3.23s\n",
      "20:\tlearn: 0.4182217\ttotal: 6.76s\tremaining: 2.9s\n",
      "21:\tlearn: 0.4153422\ttotal: 7.05s\tremaining: 2.56s\n",
      "22:\tlearn: 0.4124370\ttotal: 7.37s\tremaining: 2.24s\n",
      "23:\tlearn: 0.4097992\ttotal: 7.7s\tremaining: 1.92s\n",
      "24:\tlearn: 0.4075523\ttotal: 7.99s\tremaining: 1.6s\n",
      "25:\tlearn: 0.4056714\ttotal: 8.3s\tremaining: 1.28s\n",
      "26:\tlearn: 0.4038393\ttotal: 8.56s\tremaining: 951ms\n",
      "27:\tlearn: 0.4022485\ttotal: 8.87s\tremaining: 634ms\n",
      "28:\tlearn: 0.4007937\ttotal: 9.21s\tremaining: 318ms\n",
      "29:\tlearn: 0.3996050\ttotal: 9.51s\tremaining: 0us\n",
      "0:\tlearn: 0.6596723\ttotal: 315ms\tremaining: 9.13s\n",
      "1:\tlearn: 0.6296861\ttotal: 654ms\tremaining: 9.16s\n",
      "2:\tlearn: 0.6030236\ttotal: 1.04s\tremaining: 9.37s\n",
      "3:\tlearn: 0.5797935\ttotal: 1.36s\tremaining: 8.83s\n",
      "4:\tlearn: 0.5587013\ttotal: 1.65s\tremaining: 8.23s\n",
      "5:\tlearn: 0.5401748\ttotal: 1.96s\tremaining: 7.84s\n",
      "6:\tlearn: 0.5244426\ttotal: 2.25s\tremaining: 7.4s\n",
      "7:\tlearn: 0.5106625\ttotal: 2.44s\tremaining: 6.7s\n",
      "8:\tlearn: 0.4975466\ttotal: 2.77s\tremaining: 6.46s\n",
      "9:\tlearn: 0.4860365\ttotal: 3.05s\tremaining: 6.09s\n",
      "10:\tlearn: 0.4757227\ttotal: 3.39s\tremaining: 5.86s\n",
      "11:\tlearn: 0.4664674\ttotal: 3.67s\tremaining: 5.5s\n",
      "12:\tlearn: 0.4586688\ttotal: 4s\tremaining: 5.24s\n",
      "13:\tlearn: 0.4516976\ttotal: 4.31s\tremaining: 4.92s\n",
      "14:\tlearn: 0.4450094\ttotal: 4.63s\tremaining: 4.63s\n",
      "15:\tlearn: 0.4394611\ttotal: 4.93s\tremaining: 4.32s\n",
      "16:\tlearn: 0.4341541\ttotal: 5.26s\tremaining: 4.02s\n",
      "17:\tlearn: 0.4295352\ttotal: 5.57s\tremaining: 3.71s\n",
      "18:\tlearn: 0.4256331\ttotal: 5.91s\tremaining: 3.42s\n",
      "19:\tlearn: 0.4218068\ttotal: 6.22s\tremaining: 3.11s\n",
      "20:\tlearn: 0.4190760\ttotal: 6.34s\tremaining: 2.72s\n",
      "21:\tlearn: 0.4161900\ttotal: 6.67s\tremaining: 2.42s\n",
      "22:\tlearn: 0.4134622\ttotal: 7.03s\tremaining: 2.14s\n",
      "23:\tlearn: 0.4108556\ttotal: 7.37s\tremaining: 1.84s\n",
      "24:\tlearn: 0.4087671\ttotal: 7.71s\tremaining: 1.54s\n",
      "25:\tlearn: 0.4067469\ttotal: 8.01s\tremaining: 1.23s\n",
      "26:\tlearn: 0.4050959\ttotal: 8.38s\tremaining: 931ms\n",
      "27:\tlearn: 0.4034001\ttotal: 8.76s\tremaining: 625ms\n",
      "28:\tlearn: 0.4017360\ttotal: 9.05s\tremaining: 312ms\n",
      "29:\tlearn: 0.4002575\ttotal: 9.4s\tremaining: 0us\n",
      "0:\tlearn: 0.6596916\ttotal: 270ms\tremaining: 7.83s\n",
      "1:\tlearn: 0.6306464\ttotal: 546ms\tremaining: 7.64s\n",
      "2:\tlearn: 0.6047252\ttotal: 850ms\tremaining: 7.65s\n",
      "3:\tlearn: 0.5804456\ttotal: 1.16s\tremaining: 7.56s\n",
      "4:\tlearn: 0.5592650\ttotal: 1.46s\tremaining: 7.3s\n",
      "5:\tlearn: 0.5408477\ttotal: 1.75s\tremaining: 7.02s\n",
      "6:\tlearn: 0.5249874\ttotal: 2.06s\tremaining: 6.78s\n",
      "7:\tlearn: 0.5104843\ttotal: 2.51s\tremaining: 6.89s\n",
      "8:\tlearn: 0.4978679\ttotal: 2.86s\tremaining: 6.68s\n",
      "9:\tlearn: 0.4861742\ttotal: 3.35s\tremaining: 6.7s\n",
      "10:\tlearn: 0.4755665\ttotal: 3.68s\tremaining: 6.36s\n",
      "11:\tlearn: 0.4660841\ttotal: 3.98s\tremaining: 5.98s\n",
      "12:\tlearn: 0.4578980\ttotal: 4.3s\tremaining: 5.62s\n",
      "13:\tlearn: 0.4509784\ttotal: 4.59s\tremaining: 5.25s\n",
      "14:\tlearn: 0.4449025\ttotal: 4.96s\tremaining: 4.96s\n",
      "15:\tlearn: 0.4394007\ttotal: 5.24s\tremaining: 4.58s\n",
      "16:\tlearn: 0.4339176\ttotal: 5.62s\tremaining: 4.3s\n",
      "17:\tlearn: 0.4290593\ttotal: 6.03s\tremaining: 4.02s\n",
      "18:\tlearn: 0.4248458\ttotal: 6.44s\tremaining: 3.73s\n",
      "19:\tlearn: 0.4210604\ttotal: 6.75s\tremaining: 3.38s\n",
      "20:\tlearn: 0.4176752\ttotal: 7.08s\tremaining: 3.03s\n",
      "21:\tlearn: 0.4149234\ttotal: 7.37s\tremaining: 2.68s\n",
      "22:\tlearn: 0.4121642\ttotal: 7.68s\tremaining: 2.34s\n",
      "23:\tlearn: 0.4097605\ttotal: 8.02s\tremaining: 2s\n",
      "24:\tlearn: 0.4074844\ttotal: 8.37s\tremaining: 1.67s\n",
      "25:\tlearn: 0.4056480\ttotal: 8.74s\tremaining: 1.34s\n",
      "26:\tlearn: 0.4039494\ttotal: 9.07s\tremaining: 1.01s\n",
      "27:\tlearn: 0.4022265\ttotal: 9.43s\tremaining: 673ms\n",
      "28:\tlearn: 0.4006628\ttotal: 9.78s\tremaining: 337ms\n",
      "29:\tlearn: 0.3994756\ttotal: 10.1s\tremaining: 0us\n",
      "0:\tlearn: 0.6596433\ttotal: 461ms\tremaining: 13.4s\n",
      "1:\tlearn: 0.6306177\ttotal: 808ms\tremaining: 11.3s\n",
      "2:\tlearn: 0.6039915\ttotal: 1.17s\tremaining: 10.5s\n",
      "3:\tlearn: 0.5802644\ttotal: 1.49s\tremaining: 9.66s\n",
      "4:\tlearn: 0.5591315\ttotal: 1.78s\tremaining: 8.9s\n",
      "5:\tlearn: 0.5411657\ttotal: 2.3s\tremaining: 9.19s\n",
      "6:\tlearn: 0.5253825\ttotal: 2.52s\tremaining: 8.26s\n",
      "7:\tlearn: 0.5104973\ttotal: 2.87s\tremaining: 7.9s\n",
      "8:\tlearn: 0.4973468\ttotal: 3.27s\tremaining: 7.63s\n",
      "9:\tlearn: 0.4862175\ttotal: 3.61s\tremaining: 7.21s\n",
      "10:\tlearn: 0.4761530\ttotal: 3.94s\tremaining: 6.8s\n",
      "11:\tlearn: 0.4667532\ttotal: 4.31s\tremaining: 6.47s\n",
      "12:\tlearn: 0.4583408\ttotal: 4.66s\tremaining: 6.09s\n"
     ]
    },
    {
     "name": "stdout",
     "output_type": "stream",
     "text": [
      "13:\tlearn: 0.4515473\ttotal: 4.92s\tremaining: 5.62s\n",
      "14:\tlearn: 0.4453240\ttotal: 5.2s\tremaining: 5.2s\n",
      "15:\tlearn: 0.4392209\ttotal: 5.53s\tremaining: 4.84s\n",
      "16:\tlearn: 0.4341005\ttotal: 5.8s\tremaining: 4.44s\n",
      "17:\tlearn: 0.4294077\ttotal: 6.11s\tremaining: 4.07s\n",
      "18:\tlearn: 0.4250411\ttotal: 6.44s\tremaining: 3.73s\n",
      "19:\tlearn: 0.4212550\ttotal: 6.76s\tremaining: 3.38s\n",
      "20:\tlearn: 0.4179564\ttotal: 7.05s\tremaining: 3.02s\n",
      "21:\tlearn: 0.4151390\ttotal: 7.35s\tremaining: 2.67s\n",
      "22:\tlearn: 0.4125573\ttotal: 7.67s\tremaining: 2.33s\n",
      "23:\tlearn: 0.4099821\ttotal: 8.02s\tremaining: 2.01s\n",
      "24:\tlearn: 0.4077189\ttotal: 8.33s\tremaining: 1.67s\n",
      "25:\tlearn: 0.4056798\ttotal: 8.63s\tremaining: 1.33s\n",
      "26:\tlearn: 0.4037747\ttotal: 8.94s\tremaining: 993ms\n",
      "27:\tlearn: 0.4021351\ttotal: 9.22s\tremaining: 658ms\n",
      "28:\tlearn: 0.4006834\ttotal: 9.52s\tremaining: 328ms\n",
      "29:\tlearn: 0.3994827\ttotal: 9.86s\tremaining: 0us\n",
      "0:\tlearn: 0.6596844\ttotal: 329ms\tremaining: 9.55s\n",
      "1:\tlearn: 0.6306966\ttotal: 670ms\tremaining: 9.38s\n",
      "2:\tlearn: 0.6041050\ttotal: 1.03s\tremaining: 9.26s\n",
      "3:\tlearn: 0.5804033\ttotal: 1.28s\tremaining: 8.34s\n",
      "4:\tlearn: 0.5592722\ttotal: 1.58s\tremaining: 7.88s\n",
      "5:\tlearn: 0.5413003\ttotal: 1.89s\tremaining: 7.57s\n",
      "6:\tlearn: 0.5255150\ttotal: 2.09s\tremaining: 6.86s\n",
      "7:\tlearn: 0.5106074\ttotal: 2.42s\tremaining: 6.65s\n",
      "8:\tlearn: 0.4974523\ttotal: 2.77s\tremaining: 6.46s\n",
      "9:\tlearn: 0.4855908\ttotal: 3.24s\tremaining: 6.49s\n",
      "10:\tlearn: 0.4755719\ttotal: 3.64s\tremaining: 6.29s\n",
      "11:\tlearn: 0.4661936\ttotal: 3.93s\tremaining: 5.9s\n",
      "12:\tlearn: 0.4578379\ttotal: 4.27s\tremaining: 5.58s\n",
      "13:\tlearn: 0.4510621\ttotal: 4.57s\tremaining: 5.22s\n",
      "14:\tlearn: 0.4448530\ttotal: 4.86s\tremaining: 4.86s\n",
      "15:\tlearn: 0.4390285\ttotal: 5.18s\tremaining: 4.54s\n",
      "16:\tlearn: 0.4339338\ttotal: 5.47s\tremaining: 4.18s\n",
      "17:\tlearn: 0.4292553\ttotal: 5.78s\tremaining: 3.85s\n",
      "18:\tlearn: 0.4250129\ttotal: 6.16s\tremaining: 3.57s\n",
      "19:\tlearn: 0.4211925\ttotal: 6.6s\tremaining: 3.3s\n",
      "20:\tlearn: 0.4176349\ttotal: 6.92s\tremaining: 2.97s\n",
      "21:\tlearn: 0.4145790\ttotal: 7.24s\tremaining: 2.63s\n",
      "22:\tlearn: 0.4121112\ttotal: 7.52s\tremaining: 2.29s\n",
      "23:\tlearn: 0.4098365\ttotal: 7.81s\tremaining: 1.95s\n",
      "24:\tlearn: 0.4075880\ttotal: 8.12s\tremaining: 1.62s\n",
      "25:\tlearn: 0.4057852\ttotal: 8.46s\tremaining: 1.3s\n",
      "26:\tlearn: 0.4039810\ttotal: 8.84s\tremaining: 983ms\n",
      "27:\tlearn: 0.4022432\ttotal: 9.2s\tremaining: 657ms\n",
      "28:\tlearn: 0.4008964\ttotal: 9.49s\tremaining: 327ms\n",
      "29:\tlearn: 0.3998920\ttotal: 9.64s\tremaining: 0us\n",
      "0:\tlearn: 0.6596577\ttotal: 308ms\tremaining: 8.92s\n",
      "1:\tlearn: 0.6296506\ttotal: 627ms\tremaining: 8.78s\n",
      "2:\tlearn: 0.6027464\ttotal: 987ms\tremaining: 8.88s\n",
      "3:\tlearn: 0.5795081\ttotal: 1.22s\tremaining: 7.96s\n",
      "4:\tlearn: 0.5592546\ttotal: 1.53s\tremaining: 7.66s\n",
      "5:\tlearn: 0.5409645\ttotal: 1.83s\tremaining: 7.31s\n",
      "6:\tlearn: 0.5246856\ttotal: 2.11s\tremaining: 6.94s\n",
      "7:\tlearn: 0.5109675\ttotal: 2.28s\tremaining: 6.28s\n",
      "8:\tlearn: 0.4982617\ttotal: 2.6s\tremaining: 6.06s\n",
      "9:\tlearn: 0.4862656\ttotal: 2.91s\tremaining: 5.81s\n",
      "10:\tlearn: 0.4758827\ttotal: 3.22s\tremaining: 5.56s\n",
      "11:\tlearn: 0.4673459\ttotal: 3.51s\tremaining: 5.27s\n",
      "12:\tlearn: 0.4587340\ttotal: 3.85s\tremaining: 5.04s\n",
      "13:\tlearn: 0.4513446\ttotal: 4.22s\tremaining: 4.82s\n",
      "14:\tlearn: 0.4451478\ttotal: 4.52s\tremaining: 4.52s\n",
      "15:\tlearn: 0.4392336\ttotal: 4.87s\tremaining: 4.26s\n",
      "16:\tlearn: 0.4343340\ttotal: 5.17s\tremaining: 3.95s\n",
      "17:\tlearn: 0.4295981\ttotal: 5.51s\tremaining: 3.67s\n",
      "18:\tlearn: 0.4256389\ttotal: 5.96s\tremaining: 3.45s\n",
      "19:\tlearn: 0.4217901\ttotal: 6.35s\tremaining: 3.17s\n",
      "20:\tlearn: 0.4182217\ttotal: 6.93s\tremaining: 2.97s\n",
      "21:\tlearn: 0.4153422\ttotal: 7.21s\tremaining: 2.62s\n",
      "22:\tlearn: 0.4124370\ttotal: 7.56s\tremaining: 2.3s\n",
      "23:\tlearn: 0.4097992\ttotal: 7.91s\tremaining: 1.98s\n",
      "24:\tlearn: 0.4075523\ttotal: 8.44s\tremaining: 1.69s\n",
      "25:\tlearn: 0.4056714\ttotal: 8.76s\tremaining: 1.35s\n",
      "26:\tlearn: 0.4038393\ttotal: 9.07s\tremaining: 1.01s\n",
      "27:\tlearn: 0.4022485\ttotal: 9.38s\tremaining: 670ms\n",
      "28:\tlearn: 0.4007937\ttotal: 9.9s\tremaining: 341ms\n",
      "29:\tlearn: 0.3996050\ttotal: 10.2s\tremaining: 0us\n",
      "0:\tlearn: 0.6596723\ttotal: 323ms\tremaining: 9.36s\n",
      "1:\tlearn: 0.6296861\ttotal: 819ms\tremaining: 11.5s\n",
      "2:\tlearn: 0.6030236\ttotal: 1.23s\tremaining: 11.1s\n",
      "3:\tlearn: 0.5797935\ttotal: 1.61s\tremaining: 10.5s\n",
      "4:\tlearn: 0.5587013\ttotal: 2.14s\tremaining: 10.7s\n",
      "5:\tlearn: 0.5401748\ttotal: 2.45s\tremaining: 9.81s\n",
      "6:\tlearn: 0.5244426\ttotal: 2.77s\tremaining: 9.1s\n",
      "7:\tlearn: 0.5106625\ttotal: 2.94s\tremaining: 8.1s\n",
      "8:\tlearn: 0.4975466\ttotal: 3.47s\tremaining: 8.09s\n",
      "9:\tlearn: 0.4860365\ttotal: 3.77s\tremaining: 7.54s\n",
      "10:\tlearn: 0.4757227\ttotal: 4.1s\tremaining: 7.09s\n",
      "11:\tlearn: 0.4664674\ttotal: 4.54s\tremaining: 6.81s\n",
      "12:\tlearn: 0.4586688\ttotal: 4.89s\tremaining: 6.39s\n",
      "13:\tlearn: 0.4516976\ttotal: 5.19s\tremaining: 5.93s\n",
      "14:\tlearn: 0.4450094\ttotal: 5.53s\tremaining: 5.53s\n",
      "15:\tlearn: 0.4394611\ttotal: 5.89s\tremaining: 5.16s\n",
      "16:\tlearn: 0.4341541\ttotal: 6.23s\tremaining: 4.77s\n",
      "17:\tlearn: 0.4295352\ttotal: 6.74s\tremaining: 4.49s\n",
      "18:\tlearn: 0.4256331\ttotal: 7.18s\tremaining: 4.16s\n",
      "19:\tlearn: 0.4218068\ttotal: 7.49s\tremaining: 3.75s\n",
      "20:\tlearn: 0.4190760\ttotal: 7.62s\tremaining: 3.27s\n",
      "21:\tlearn: 0.4161900\ttotal: 7.94s\tremaining: 2.89s\n",
      "22:\tlearn: 0.4134622\ttotal: 8.23s\tremaining: 2.5s\n",
      "23:\tlearn: 0.4108556\ttotal: 8.58s\tremaining: 2.14s\n",
      "24:\tlearn: 0.4087671\ttotal: 8.86s\tremaining: 1.77s\n",
      "25:\tlearn: 0.4067469\ttotal: 9.15s\tremaining: 1.41s\n",
      "26:\tlearn: 0.4050959\ttotal: 9.45s\tremaining: 1.05s\n",
      "27:\tlearn: 0.4034001\ttotal: 9.75s\tremaining: 697ms\n",
      "28:\tlearn: 0.4017360\ttotal: 10s\tremaining: 346ms\n",
      "29:\tlearn: 0.4002575\ttotal: 10.4s\tremaining: 0us\n",
      "0:\tlearn: 0.6596916\ttotal: 294ms\tremaining: 8.54s\n",
      "1:\tlearn: 0.6306464\ttotal: 577ms\tremaining: 8.08s\n",
      "2:\tlearn: 0.6047252\ttotal: 874ms\tremaining: 7.87s\n",
      "3:\tlearn: 0.5804456\ttotal: 1.2s\tremaining: 7.81s\n",
      "4:\tlearn: 0.5592650\ttotal: 1.5s\tremaining: 7.52s\n",
      "5:\tlearn: 0.5408477\ttotal: 1.79s\tremaining: 7.18s\n",
      "6:\tlearn: 0.5249874\ttotal: 2.1s\tremaining: 6.91s\n",
      "7:\tlearn: 0.5104843\ttotal: 2.42s\tremaining: 6.64s\n",
      "8:\tlearn: 0.4978679\ttotal: 2.71s\tremaining: 6.31s\n",
      "9:\tlearn: 0.4861742\ttotal: 3.05s\tremaining: 6.1s\n",
      "10:\tlearn: 0.4755665\ttotal: 3.36s\tremaining: 5.8s\n",
      "11:\tlearn: 0.4660841\ttotal: 3.66s\tremaining: 5.49s\n",
      "12:\tlearn: 0.4578980\ttotal: 3.98s\tremaining: 5.2s\n",
      "13:\tlearn: 0.4509784\ttotal: 4.26s\tremaining: 4.87s\n",
      "14:\tlearn: 0.4449025\ttotal: 4.58s\tremaining: 4.58s\n",
      "15:\tlearn: 0.4394007\ttotal: 4.86s\tremaining: 4.25s\n",
      "16:\tlearn: 0.4339176\ttotal: 5.19s\tremaining: 3.97s\n",
      "17:\tlearn: 0.4290593\ttotal: 5.52s\tremaining: 3.68s\n",
      "18:\tlearn: 0.4248458\ttotal: 5.88s\tremaining: 3.4s\n",
      "19:\tlearn: 0.4210604\ttotal: 6.19s\tremaining: 3.1s\n",
      "20:\tlearn: 0.4176752\ttotal: 6.59s\tremaining: 2.82s\n",
      "21:\tlearn: 0.4149234\ttotal: 6.89s\tremaining: 2.5s\n",
      "22:\tlearn: 0.4121642\ttotal: 7.25s\tremaining: 2.21s\n",
      "23:\tlearn: 0.4097605\ttotal: 7.56s\tremaining: 1.89s\n",
      "24:\tlearn: 0.4074844\ttotal: 7.87s\tremaining: 1.57s\n",
      "25:\tlearn: 0.4056480\ttotal: 8.22s\tremaining: 1.26s\n",
      "26:\tlearn: 0.4039494\ttotal: 8.59s\tremaining: 954ms\n",
      "27:\tlearn: 0.4022265\ttotal: 8.9s\tremaining: 636ms\n",
      "28:\tlearn: 0.4006628\ttotal: 9.2s\tremaining: 317ms\n",
      "29:\tlearn: 0.3994756\ttotal: 9.57s\tremaining: 0us\n",
      "0:\tlearn: 0.5998875\ttotal: 263ms\tremaining: 7.64s\n",
      "1:\tlearn: 0.5373061\ttotal: 506ms\tremaining: 7.09s\n",
      "2:\tlearn: 0.4923337\ttotal: 781ms\tremaining: 7.03s\n",
      "3:\tlearn: 0.4626479\ttotal: 1.06s\tremaining: 6.91s\n",
      "4:\tlearn: 0.4416870\ttotal: 1.4s\tremaining: 7s\n",
      "5:\tlearn: 0.4274692\ttotal: 1.65s\tremaining: 6.59s\n",
      "6:\tlearn: 0.4166129\ttotal: 1.99s\tremaining: 6.54s\n",
      "7:\tlearn: 0.4096307\ttotal: 2.26s\tremaining: 6.21s\n",
      "8:\tlearn: 0.4044219\ttotal: 2.49s\tremaining: 5.81s\n",
      "9:\tlearn: 0.4001748\ttotal: 2.76s\tremaining: 5.53s\n",
      "10:\tlearn: 0.3975456\ttotal: 3.06s\tremaining: 5.29s\n",
      "11:\tlearn: 0.3953195\ttotal: 3.27s\tremaining: 4.91s\n",
      "12:\tlearn: 0.3920344\ttotal: 3.56s\tremaining: 4.66s\n",
      "13:\tlearn: 0.3896434\ttotal: 3.84s\tremaining: 4.39s\n",
      "14:\tlearn: 0.3876633\ttotal: 4.13s\tremaining: 4.13s\n",
      "15:\tlearn: 0.3862376\ttotal: 4.38s\tremaining: 3.83s\n",
      "16:\tlearn: 0.3851107\ttotal: 4.64s\tremaining: 3.55s\n",
      "17:\tlearn: 0.3843282\ttotal: 4.89s\tremaining: 3.26s\n",
      "18:\tlearn: 0.3837195\ttotal: 5.2s\tremaining: 3.01s\n",
      "19:\tlearn: 0.3832267\ttotal: 5.48s\tremaining: 2.74s\n",
      "20:\tlearn: 0.3826715\ttotal: 5.86s\tremaining: 2.51s\n",
      "21:\tlearn: 0.3823262\ttotal: 6.18s\tremaining: 2.25s\n",
      "22:\tlearn: 0.3821319\ttotal: 6.61s\tremaining: 2.01s\n",
      "23:\tlearn: 0.3817640\ttotal: 6.89s\tremaining: 1.72s\n",
      "24:\tlearn: 0.3814797\ttotal: 7.26s\tremaining: 1.45s\n",
      "25:\tlearn: 0.3811211\ttotal: 7.52s\tremaining: 1.16s\n"
     ]
    },
    {
     "name": "stdout",
     "output_type": "stream",
     "text": [
      "26:\tlearn: 0.3809061\ttotal: 7.76s\tremaining: 862ms\n",
      "27:\tlearn: 0.3806590\ttotal: 7.99s\tremaining: 571ms\n",
      "28:\tlearn: 0.3804924\ttotal: 8.42s\tremaining: 290ms\n",
      "29:\tlearn: 0.3802128\ttotal: 8.7s\tremaining: 0us\n",
      "0:\tlearn: 0.5999877\ttotal: 274ms\tremaining: 7.94s\n",
      "1:\tlearn: 0.5374141\ttotal: 516ms\tremaining: 7.23s\n",
      "2:\tlearn: 0.4919871\ttotal: 751ms\tremaining: 6.76s\n",
      "3:\tlearn: 0.4629307\ttotal: 1.02s\tremaining: 6.62s\n",
      "4:\tlearn: 0.4415047\ttotal: 1.25s\tremaining: 6.26s\n",
      "5:\tlearn: 0.4272732\ttotal: 1.48s\tremaining: 5.91s\n",
      "6:\tlearn: 0.4174093\ttotal: 1.71s\tremaining: 5.62s\n",
      "7:\tlearn: 0.4104587\ttotal: 2.01s\tremaining: 5.52s\n",
      "8:\tlearn: 0.4045677\ttotal: 2.26s\tremaining: 5.27s\n",
      "9:\tlearn: 0.4005220\ttotal: 2.51s\tremaining: 5.03s\n",
      "10:\tlearn: 0.3975757\ttotal: 2.77s\tremaining: 4.78s\n",
      "11:\tlearn: 0.3954802\ttotal: 2.98s\tremaining: 4.47s\n",
      "12:\tlearn: 0.3939686\ttotal: 3.25s\tremaining: 4.24s\n",
      "13:\tlearn: 0.3924275\ttotal: 3.47s\tremaining: 3.97s\n",
      "14:\tlearn: 0.3895571\ttotal: 3.74s\tremaining: 3.74s\n",
      "15:\tlearn: 0.3876341\ttotal: 3.96s\tremaining: 3.47s\n",
      "16:\tlearn: 0.3862464\ttotal: 4.2s\tremaining: 3.21s\n",
      "17:\tlearn: 0.3849837\ttotal: 4.46s\tremaining: 2.97s\n",
      "18:\tlearn: 0.3840180\ttotal: 4.7s\tremaining: 2.72s\n",
      "19:\tlearn: 0.3833745\ttotal: 4.91s\tremaining: 2.46s\n",
      "20:\tlearn: 0.3827956\ttotal: 5.18s\tremaining: 2.22s\n",
      "21:\tlearn: 0.3823046\ttotal: 5.44s\tremaining: 1.98s\n",
      "22:\tlearn: 0.3819174\ttotal: 5.67s\tremaining: 1.72s\n",
      "23:\tlearn: 0.3816466\ttotal: 5.92s\tremaining: 1.48s\n",
      "24:\tlearn: 0.3812629\ttotal: 6.18s\tremaining: 1.24s\n",
      "25:\tlearn: 0.3808949\ttotal: 6.43s\tremaining: 989ms\n",
      "26:\tlearn: 0.3806300\ttotal: 6.69s\tremaining: 743ms\n",
      "27:\tlearn: 0.3803544\ttotal: 6.91s\tremaining: 493ms\n",
      "28:\tlearn: 0.3801577\ttotal: 7.13s\tremaining: 246ms\n",
      "29:\tlearn: 0.3799414\ttotal: 7.39s\tremaining: 0us\n",
      "0:\tlearn: 0.5995564\ttotal: 287ms\tremaining: 8.31s\n",
      "1:\tlearn: 0.5359294\ttotal: 542ms\tremaining: 7.58s\n",
      "2:\tlearn: 0.4912406\ttotal: 814ms\tremaining: 7.32s\n",
      "3:\tlearn: 0.4618603\ttotal: 1.04s\tremaining: 6.76s\n",
      "4:\tlearn: 0.4409336\ttotal: 1.34s\tremaining: 6.7s\n",
      "5:\tlearn: 0.4270255\ttotal: 1.56s\tremaining: 6.23s\n",
      "6:\tlearn: 0.4170297\ttotal: 1.78s\tremaining: 5.85s\n",
      "7:\tlearn: 0.4092748\ttotal: 2.01s\tremaining: 5.54s\n",
      "8:\tlearn: 0.4034145\ttotal: 2.26s\tremaining: 5.27s\n",
      "9:\tlearn: 0.3998187\ttotal: 2.5s\tremaining: 5s\n",
      "10:\tlearn: 0.3966815\ttotal: 2.74s\tremaining: 4.73s\n",
      "11:\tlearn: 0.3943978\ttotal: 2.99s\tremaining: 4.49s\n",
      "12:\tlearn: 0.3928523\ttotal: 3.25s\tremaining: 4.25s\n",
      "13:\tlearn: 0.3901450\ttotal: 3.51s\tremaining: 4.02s\n",
      "14:\tlearn: 0.3879650\ttotal: 3.77s\tremaining: 3.77s\n",
      "15:\tlearn: 0.3864608\ttotal: 3.99s\tremaining: 3.49s\n",
      "16:\tlearn: 0.3852818\ttotal: 4.24s\tremaining: 3.24s\n",
      "17:\tlearn: 0.3844833\ttotal: 4.49s\tremaining: 2.99s\n",
      "18:\tlearn: 0.3837751\ttotal: 4.74s\tremaining: 2.74s\n",
      "19:\tlearn: 0.3830854\ttotal: 4.99s\tremaining: 2.5s\n",
      "20:\tlearn: 0.3826089\ttotal: 5.22s\tremaining: 2.24s\n",
      "21:\tlearn: 0.3822376\ttotal: 5.48s\tremaining: 1.99s\n",
      "22:\tlearn: 0.3819106\ttotal: 5.74s\tremaining: 1.75s\n",
      "23:\tlearn: 0.3815322\ttotal: 6.01s\tremaining: 1.5s\n",
      "24:\tlearn: 0.3811595\ttotal: 6.27s\tremaining: 1.25s\n",
      "25:\tlearn: 0.3808280\ttotal: 6.47s\tremaining: 995ms\n",
      "26:\tlearn: 0.3806109\ttotal: 6.73s\tremaining: 748ms\n",
      "27:\tlearn: 0.3804198\ttotal: 6.99s\tremaining: 499ms\n",
      "28:\tlearn: 0.3802157\ttotal: 7.24s\tremaining: 250ms\n",
      "29:\tlearn: 0.3799855\ttotal: 7.47s\tremaining: 0us\n",
      "0:\tlearn: 0.5995945\ttotal: 353ms\tremaining: 10.2s\n",
      "1:\tlearn: 0.5359556\ttotal: 608ms\tremaining: 8.51s\n",
      "2:\tlearn: 0.4912944\ttotal: 861ms\tremaining: 7.75s\n",
      "3:\tlearn: 0.4619293\ttotal: 1.08s\tremaining: 7.03s\n",
      "4:\tlearn: 0.4405114\ttotal: 1.32s\tremaining: 6.6s\n",
      "5:\tlearn: 0.4265448\ttotal: 1.56s\tremaining: 6.26s\n",
      "6:\tlearn: 0.4167271\ttotal: 1.86s\tremaining: 6.13s\n",
      "7:\tlearn: 0.4091263\ttotal: 2.11s\tremaining: 5.8s\n",
      "8:\tlearn: 0.4039037\ttotal: 2.38s\tremaining: 5.56s\n",
      "9:\tlearn: 0.4002886\ttotal: 2.63s\tremaining: 5.25s\n",
      "10:\tlearn: 0.3971450\ttotal: 2.86s\tremaining: 4.95s\n",
      "11:\tlearn: 0.3951374\ttotal: 3.15s\tremaining: 4.73s\n",
      "12:\tlearn: 0.3930620\ttotal: 3.37s\tremaining: 4.4s\n",
      "13:\tlearn: 0.3903795\ttotal: 3.63s\tremaining: 4.15s\n",
      "14:\tlearn: 0.3881973\ttotal: 3.87s\tremaining: 3.87s\n",
      "15:\tlearn: 0.3866210\ttotal: 4.13s\tremaining: 3.62s\n",
      "16:\tlearn: 0.3854745\ttotal: 4.39s\tremaining: 3.36s\n",
      "17:\tlearn: 0.3845200\ttotal: 4.64s\tremaining: 3.09s\n",
      "18:\tlearn: 0.3837705\ttotal: 4.88s\tremaining: 2.82s\n",
      "19:\tlearn: 0.3831966\ttotal: 5.11s\tremaining: 2.55s\n",
      "20:\tlearn: 0.3826870\ttotal: 5.37s\tremaining: 2.3s\n",
      "21:\tlearn: 0.3823292\ttotal: 5.63s\tremaining: 2.05s\n",
      "22:\tlearn: 0.3820065\ttotal: 5.87s\tremaining: 1.79s\n",
      "23:\tlearn: 0.3817117\ttotal: 6.13s\tremaining: 1.53s\n",
      "24:\tlearn: 0.3813074\ttotal: 6.39s\tremaining: 1.28s\n",
      "25:\tlearn: 0.3810358\ttotal: 6.63s\tremaining: 1.02s\n",
      "26:\tlearn: 0.3807067\ttotal: 6.88s\tremaining: 764ms\n",
      "27:\tlearn: 0.3805112\ttotal: 7.08s\tremaining: 506ms\n",
      "28:\tlearn: 0.3802110\ttotal: 7.31s\tremaining: 252ms\n",
      "29:\tlearn: 0.3800853\ttotal: 7.57s\tremaining: 0us\n",
      "0:\tlearn: 0.5996493\ttotal: 302ms\tremaining: 8.76s\n",
      "1:\tlearn: 0.5371170\ttotal: 540ms\tremaining: 7.56s\n",
      "2:\tlearn: 0.4915466\ttotal: 786ms\tremaining: 7.08s\n",
      "3:\tlearn: 0.4618423\ttotal: 1.09s\tremaining: 7.1s\n",
      "4:\tlearn: 0.4415067\ttotal: 1.36s\tremaining: 6.82s\n",
      "5:\tlearn: 0.4273317\ttotal: 1.6s\tremaining: 6.41s\n",
      "6:\tlearn: 0.4162280\ttotal: 1.87s\tremaining: 6.16s\n",
      "7:\tlearn: 0.4091507\ttotal: 2.07s\tremaining: 5.69s\n",
      "8:\tlearn: 0.4035074\ttotal: 2.32s\tremaining: 5.42s\n",
      "9:\tlearn: 0.3993228\ttotal: 2.57s\tremaining: 5.14s\n",
      "10:\tlearn: 0.3962413\ttotal: 2.81s\tremaining: 4.85s\n",
      "11:\tlearn: 0.3942452\ttotal: 3.06s\tremaining: 4.59s\n",
      "12:\tlearn: 0.3925926\ttotal: 3.29s\tremaining: 4.3s\n",
      "13:\tlearn: 0.3897053\ttotal: 3.57s\tremaining: 4.08s\n",
      "14:\tlearn: 0.3876941\ttotal: 3.8s\tremaining: 3.8s\n",
      "15:\tlearn: 0.3863159\ttotal: 4.05s\tremaining: 3.55s\n",
      "16:\tlearn: 0.3851372\ttotal: 4.27s\tremaining: 3.27s\n",
      "17:\tlearn: 0.3841732\ttotal: 4.53s\tremaining: 3.02s\n",
      "18:\tlearn: 0.3834954\ttotal: 4.75s\tremaining: 2.75s\n",
      "19:\tlearn: 0.3829602\ttotal: 5.02s\tremaining: 2.51s\n",
      "20:\tlearn: 0.3825144\ttotal: 5.29s\tremaining: 2.27s\n",
      "21:\tlearn: 0.3820552\ttotal: 5.58s\tremaining: 2.03s\n",
      "22:\tlearn: 0.3817385\ttotal: 5.79s\tremaining: 1.76s\n",
      "23:\tlearn: 0.3814464\ttotal: 6.05s\tremaining: 1.51s\n",
      "24:\tlearn: 0.3810482\ttotal: 6.31s\tremaining: 1.26s\n",
      "25:\tlearn: 0.3807273\ttotal: 6.55s\tremaining: 1.01s\n",
      "26:\tlearn: 0.3804501\ttotal: 6.78s\tremaining: 753ms\n",
      "27:\tlearn: 0.3801926\ttotal: 7.01s\tremaining: 501ms\n",
      "28:\tlearn: 0.3799772\ttotal: 7.26s\tremaining: 250ms\n",
      "29:\tlearn: 0.3797689\ttotal: 7.5s\tremaining: 0us\n",
      "0:\tlearn: 0.5983833\ttotal: 393ms\tremaining: 11.4s\n",
      "1:\tlearn: 0.5330069\ttotal: 848ms\tremaining: 11.9s\n",
      "2:\tlearn: 0.4905018\ttotal: 1.23s\tremaining: 11.1s\n",
      "3:\tlearn: 0.4611739\ttotal: 1.6s\tremaining: 10.4s\n",
      "4:\tlearn: 0.4397850\ttotal: 2.01s\tremaining: 10s\n",
      "5:\tlearn: 0.4242801\ttotal: 2.41s\tremaining: 9.64s\n",
      "6:\tlearn: 0.4138460\ttotal: 2.77s\tremaining: 9.1s\n",
      "7:\tlearn: 0.4067378\ttotal: 3.15s\tremaining: 8.68s\n",
      "8:\tlearn: 0.4011613\ttotal: 3.55s\tremaining: 8.28s\n",
      "9:\tlearn: 0.3965202\ttotal: 3.95s\tremaining: 7.91s\n",
      "10:\tlearn: 0.3934545\ttotal: 4.34s\tremaining: 7.5s\n",
      "11:\tlearn: 0.3911079\ttotal: 4.75s\tremaining: 7.12s\n",
      "12:\tlearn: 0.3894824\ttotal: 5.13s\tremaining: 6.71s\n",
      "13:\tlearn: 0.3865446\ttotal: 5.57s\tremaining: 6.37s\n",
      "14:\tlearn: 0.3844909\ttotal: 5.99s\tremaining: 5.99s\n",
      "15:\tlearn: 0.3829758\ttotal: 6.38s\tremaining: 5.59s\n",
      "16:\tlearn: 0.3818735\ttotal: 6.75s\tremaining: 5.16s\n",
      "17:\tlearn: 0.3809698\ttotal: 7.16s\tremaining: 4.77s\n",
      "18:\tlearn: 0.3801654\ttotal: 7.57s\tremaining: 4.38s\n",
      "19:\tlearn: 0.3795453\ttotal: 7.96s\tremaining: 3.98s\n",
      "20:\tlearn: 0.3789971\ttotal: 8.32s\tremaining: 3.57s\n",
      "21:\tlearn: 0.3784860\ttotal: 8.7s\tremaining: 3.16s\n",
      "22:\tlearn: 0.3781143\ttotal: 9.11s\tremaining: 2.77s\n",
      "23:\tlearn: 0.3776724\ttotal: 9.5s\tremaining: 2.38s\n",
      "24:\tlearn: 0.3772912\ttotal: 9.88s\tremaining: 1.98s\n",
      "25:\tlearn: 0.3768655\ttotal: 10.3s\tremaining: 1.58s\n",
      "26:\tlearn: 0.3765728\ttotal: 10.6s\tremaining: 1.18s\n",
      "27:\tlearn: 0.3762756\ttotal: 11s\tremaining: 786ms\n",
      "28:\tlearn: 0.3760564\ttotal: 11.4s\tremaining: 393ms\n",
      "29:\tlearn: 0.3758160\ttotal: 11.8s\tremaining: 0us\n",
      "0:\tlearn: 0.5984364\ttotal: 497ms\tremaining: 14.4s\n",
      "1:\tlearn: 0.5376298\ttotal: 716ms\tremaining: 10s\n",
      "2:\tlearn: 0.4930685\ttotal: 1.12s\tremaining: 10.1s\n",
      "3:\tlearn: 0.4610322\ttotal: 1.53s\tremaining: 9.95s\n",
      "4:\tlearn: 0.4397989\ttotal: 1.92s\tremaining: 9.58s\n",
      "5:\tlearn: 0.4249649\ttotal: 2.33s\tremaining: 9.31s\n",
      "6:\tlearn: 0.4138988\ttotal: 2.71s\tremaining: 8.92s\n",
      "7:\tlearn: 0.4067976\ttotal: 3.13s\tremaining: 8.6s\n",
      "8:\tlearn: 0.4009811\ttotal: 3.54s\tremaining: 8.26s\n"
     ]
    },
    {
     "name": "stdout",
     "output_type": "stream",
     "text": [
      "9:\tlearn: 0.3967016\ttotal: 3.92s\tremaining: 7.84s\n",
      "10:\tlearn: 0.3934231\ttotal: 4.32s\tremaining: 7.46s\n",
      "11:\tlearn: 0.3911827\ttotal: 4.7s\tremaining: 7.05s\n",
      "12:\tlearn: 0.3895949\ttotal: 5.11s\tremaining: 6.68s\n",
      "13:\tlearn: 0.3866867\ttotal: 5.55s\tremaining: 6.34s\n",
      "14:\tlearn: 0.3846943\ttotal: 5.93s\tremaining: 5.93s\n",
      "15:\tlearn: 0.3831684\ttotal: 6.33s\tremaining: 5.54s\n",
      "16:\tlearn: 0.3818008\ttotal: 6.71s\tremaining: 5.13s\n",
      "17:\tlearn: 0.3808331\ttotal: 7.13s\tremaining: 4.76s\n",
      "18:\tlearn: 0.3800139\ttotal: 7.54s\tremaining: 4.36s\n",
      "19:\tlearn: 0.3793670\ttotal: 7.92s\tremaining: 3.96s\n",
      "20:\tlearn: 0.3787990\ttotal: 8.29s\tremaining: 3.55s\n",
      "21:\tlearn: 0.3784257\ttotal: 8.68s\tremaining: 3.15s\n",
      "22:\tlearn: 0.3779182\ttotal: 9.07s\tremaining: 2.76s\n",
      "23:\tlearn: 0.3774253\ttotal: 9.47s\tremaining: 2.37s\n",
      "24:\tlearn: 0.3770205\ttotal: 9.83s\tremaining: 1.97s\n",
      "25:\tlearn: 0.3767455\ttotal: 10.2s\tremaining: 1.57s\n",
      "26:\tlearn: 0.3763891\ttotal: 10.6s\tremaining: 1.18s\n",
      "27:\tlearn: 0.3761889\ttotal: 11s\tremaining: 786ms\n",
      "28:\tlearn: 0.3759566\ttotal: 11.4s\tremaining: 393ms\n",
      "29:\tlearn: 0.3758006\ttotal: 11.8s\tremaining: 0us\n",
      "0:\tlearn: 0.5995564\ttotal: 299ms\tremaining: 8.66s\n",
      "1:\tlearn: 0.5345635\ttotal: 660ms\tremaining: 9.23s\n",
      "2:\tlearn: 0.4917872\ttotal: 1.02s\tremaining: 9.2s\n",
      "3:\tlearn: 0.4620734\ttotal: 1.45s\tremaining: 9.45s\n",
      "4:\tlearn: 0.4398215\ttotal: 1.82s\tremaining: 9.12s\n",
      "5:\tlearn: 0.4246101\ttotal: 2.21s\tremaining: 8.86s\n",
      "6:\tlearn: 0.4137586\ttotal: 2.6s\tremaining: 8.55s\n",
      "7:\tlearn: 0.4059154\ttotal: 2.98s\tremaining: 8.2s\n",
      "8:\tlearn: 0.4002576\ttotal: 3.37s\tremaining: 7.86s\n",
      "9:\tlearn: 0.3968752\ttotal: 3.74s\tremaining: 7.47s\n",
      "10:\tlearn: 0.3935382\ttotal: 4.12s\tremaining: 7.11s\n",
      "11:\tlearn: 0.3911703\ttotal: 4.52s\tremaining: 6.78s\n",
      "12:\tlearn: 0.3894414\ttotal: 4.92s\tremaining: 6.43s\n",
      "13:\tlearn: 0.3866045\ttotal: 5.34s\tremaining: 6.11s\n",
      "14:\tlearn: 0.3846399\ttotal: 5.75s\tremaining: 5.75s\n",
      "15:\tlearn: 0.3830670\ttotal: 6.15s\tremaining: 5.38s\n",
      "16:\tlearn: 0.3817631\ttotal: 6.51s\tremaining: 4.98s\n",
      "17:\tlearn: 0.3808445\ttotal: 6.88s\tremaining: 4.59s\n",
      "18:\tlearn: 0.3801195\ttotal: 7.27s\tremaining: 4.21s\n",
      "19:\tlearn: 0.3794531\ttotal: 7.67s\tremaining: 3.83s\n",
      "20:\tlearn: 0.3789414\ttotal: 8.1s\tremaining: 3.47s\n",
      "21:\tlearn: 0.3785343\ttotal: 8.54s\tremaining: 3.1s\n",
      "22:\tlearn: 0.3780034\ttotal: 9.08s\tremaining: 2.76s\n",
      "23:\tlearn: 0.3775379\ttotal: 9.6s\tremaining: 2.4s\n",
      "24:\tlearn: 0.3771182\ttotal: 9.98s\tremaining: 2s\n",
      "25:\tlearn: 0.3767726\ttotal: 10.3s\tremaining: 1.59s\n",
      "26:\tlearn: 0.3764230\ttotal: 10.7s\tremaining: 1.19s\n",
      "27:\tlearn: 0.3761230\ttotal: 11.1s\tremaining: 795ms\n",
      "28:\tlearn: 0.3759153\ttotal: 11.5s\tremaining: 397ms\n",
      "29:\tlearn: 0.3757270\ttotal: 11.9s\tremaining: 0us\n",
      "0:\tlearn: 0.5995945\ttotal: 347ms\tremaining: 10.1s\n",
      "1:\tlearn: 0.5346133\ttotal: 767ms\tremaining: 10.7s\n",
      "2:\tlearn: 0.4914597\ttotal: 1.25s\tremaining: 11.3s\n",
      "3:\tlearn: 0.4633035\ttotal: 1.5s\tremaining: 9.75s\n",
      "4:\tlearn: 0.4401908\ttotal: 1.93s\tremaining: 9.63s\n",
      "5:\tlearn: 0.4246292\ttotal: 2.4s\tremaining: 9.6s\n",
      "6:\tlearn: 0.4133711\ttotal: 2.97s\tremaining: 9.77s\n",
      "7:\tlearn: 0.4064729\ttotal: 3.41s\tremaining: 9.37s\n",
      "8:\tlearn: 0.4009621\ttotal: 3.8s\tremaining: 8.86s\n",
      "9:\tlearn: 0.3967002\ttotal: 4.2s\tremaining: 8.4s\n",
      "10:\tlearn: 0.3937053\ttotal: 4.59s\tremaining: 7.92s\n",
      "11:\tlearn: 0.3916295\ttotal: 4.95s\tremaining: 7.42s\n",
      "12:\tlearn: 0.3897401\ttotal: 5.37s\tremaining: 7.02s\n",
      "13:\tlearn: 0.3869375\ttotal: 5.81s\tremaining: 6.64s\n",
      "14:\tlearn: 0.3849261\ttotal: 6.2s\tremaining: 6.2s\n",
      "15:\tlearn: 0.3833007\ttotal: 6.58s\tremaining: 5.76s\n",
      "16:\tlearn: 0.3821056\ttotal: 6.99s\tremaining: 5.35s\n",
      "17:\tlearn: 0.3810778\ttotal: 7.41s\tremaining: 4.94s\n",
      "18:\tlearn: 0.3803523\ttotal: 7.81s\tremaining: 4.52s\n",
      "19:\tlearn: 0.3797032\ttotal: 8.23s\tremaining: 4.12s\n",
      "20:\tlearn: 0.3791778\ttotal: 8.65s\tremaining: 3.71s\n",
      "21:\tlearn: 0.3786792\ttotal: 9.1s\tremaining: 3.31s\n",
      "22:\tlearn: 0.3781248\ttotal: 9.54s\tremaining: 2.9s\n",
      "23:\tlearn: 0.3776380\ttotal: 9.95s\tremaining: 2.49s\n",
      "24:\tlearn: 0.3772291\ttotal: 10.5s\tremaining: 2.09s\n",
      "25:\tlearn: 0.3768550\ttotal: 10.9s\tremaining: 1.68s\n",
      "26:\tlearn: 0.3765752\ttotal: 11.4s\tremaining: 1.26s\n",
      "27:\tlearn: 0.3762615\ttotal: 11.9s\tremaining: 847ms\n",
      "28:\tlearn: 0.3760625\ttotal: 12.3s\tremaining: 425ms\n",
      "29:\tlearn: 0.3758451\ttotal: 12.8s\tremaining: 0us\n",
      "0:\tlearn: 0.5996493\ttotal: 283ms\tremaining: 8.21s\n",
      "1:\tlearn: 0.5350393\ttotal: 924ms\tremaining: 12.9s\n",
      "2:\tlearn: 0.4920032\ttotal: 1.39s\tremaining: 12.5s\n",
      "3:\tlearn: 0.4602576\ttotal: 1.94s\tremaining: 12.6s\n",
      "4:\tlearn: 0.4384784\ttotal: 2.45s\tremaining: 12.3s\n",
      "5:\tlearn: 0.4235123\ttotal: 2.85s\tremaining: 11.4s\n",
      "6:\tlearn: 0.4136700\ttotal: 3.26s\tremaining: 10.7s\n",
      "7:\tlearn: 0.4059308\ttotal: 3.66s\tremaining: 10.1s\n",
      "8:\tlearn: 0.4009036\ttotal: 4.1s\tremaining: 9.57s\n",
      "9:\tlearn: 0.3970722\ttotal: 4.51s\tremaining: 9.03s\n",
      "10:\tlearn: 0.3937194\ttotal: 4.9s\tremaining: 8.46s\n",
      "11:\tlearn: 0.3914763\ttotal: 5.55s\tremaining: 8.33s\n",
      "12:\tlearn: 0.3896015\ttotal: 5.96s\tremaining: 7.79s\n",
      "13:\tlearn: 0.3867242\ttotal: 6.47s\tremaining: 7.4s\n",
      "14:\tlearn: 0.3844903\ttotal: 6.96s\tremaining: 6.96s\n",
      "15:\tlearn: 0.3828939\ttotal: 7.36s\tremaining: 6.44s\n",
      "16:\tlearn: 0.3817598\ttotal: 7.81s\tremaining: 5.97s\n",
      "17:\tlearn: 0.3806900\ttotal: 8.22s\tremaining: 5.48s\n",
      "18:\tlearn: 0.3799899\ttotal: 8.61s\tremaining: 4.99s\n",
      "19:\tlearn: 0.3792412\ttotal: 9.01s\tremaining: 4.5s\n",
      "20:\tlearn: 0.3787179\ttotal: 9.4s\tremaining: 4.03s\n",
      "21:\tlearn: 0.3781381\ttotal: 9.79s\tremaining: 3.56s\n",
      "22:\tlearn: 0.3776021\ttotal: 10.2s\tremaining: 3.09s\n",
      "23:\tlearn: 0.3771428\ttotal: 10.6s\tremaining: 2.65s\n",
      "24:\tlearn: 0.3767602\ttotal: 11s\tremaining: 2.2s\n",
      "25:\tlearn: 0.3764257\ttotal: 11.5s\tremaining: 1.76s\n",
      "26:\tlearn: 0.3761141\ttotal: 12.1s\tremaining: 1.34s\n",
      "27:\tlearn: 0.3758643\ttotal: 12.6s\tremaining: 903ms\n",
      "28:\tlearn: 0.3756169\ttotal: 13s\tremaining: 449ms\n",
      "29:\tlearn: 0.3754132\ttotal: 13.4s\tremaining: 0us\n",
      "0:\tlearn: 0.5737843\ttotal: 249ms\tremaining: 7.23s\n",
      "1:\tlearn: 0.5037001\ttotal: 492ms\tremaining: 6.89s\n",
      "2:\tlearn: 0.4618516\ttotal: 720ms\tremaining: 6.48s\n",
      "3:\tlearn: 0.4362931\ttotal: 917ms\tremaining: 5.96s\n",
      "4:\tlearn: 0.4191942\ttotal: 1.15s\tremaining: 5.73s\n",
      "5:\tlearn: 0.4097476\ttotal: 1.37s\tremaining: 5.47s\n",
      "6:\tlearn: 0.4028681\ttotal: 1.65s\tremaining: 5.41s\n",
      "7:\tlearn: 0.3985724\ttotal: 1.85s\tremaining: 5.09s\n",
      "8:\tlearn: 0.3960415\ttotal: 2.05s\tremaining: 4.78s\n",
      "9:\tlearn: 0.3934731\ttotal: 2.27s\tremaining: 4.53s\n",
      "10:\tlearn: 0.3900596\ttotal: 2.48s\tremaining: 4.28s\n",
      "11:\tlearn: 0.3877700\ttotal: 2.7s\tremaining: 4.05s\n",
      "12:\tlearn: 0.3861653\ttotal: 2.93s\tremaining: 3.83s\n",
      "13:\tlearn: 0.3850480\ttotal: 3.14s\tremaining: 3.59s\n",
      "14:\tlearn: 0.3842128\ttotal: 3.38s\tremaining: 3.38s\n",
      "15:\tlearn: 0.3836547\ttotal: 3.61s\tremaining: 3.16s\n",
      "16:\tlearn: 0.3832163\ttotal: 3.83s\tremaining: 2.93s\n",
      "17:\tlearn: 0.3828985\ttotal: 4.08s\tremaining: 2.72s\n",
      "18:\tlearn: 0.3825502\ttotal: 4.29s\tremaining: 2.48s\n",
      "19:\tlearn: 0.3822077\ttotal: 4.49s\tremaining: 2.24s\n",
      "20:\tlearn: 0.3817864\ttotal: 4.71s\tremaining: 2.02s\n",
      "21:\tlearn: 0.3815145\ttotal: 4.89s\tremaining: 1.78s\n",
      "22:\tlearn: 0.3811656\ttotal: 5.12s\tremaining: 1.56s\n",
      "23:\tlearn: 0.3809123\ttotal: 5.3s\tremaining: 1.33s\n",
      "24:\tlearn: 0.3806765\ttotal: 5.52s\tremaining: 1.1s\n",
      "25:\tlearn: 0.3805201\ttotal: 5.75s\tremaining: 884ms\n",
      "26:\tlearn: 0.3803593\ttotal: 5.95s\tremaining: 661ms\n",
      "27:\tlearn: 0.3801369\ttotal: 6.16s\tremaining: 440ms\n",
      "28:\tlearn: 0.3800315\ttotal: 6.4s\tremaining: 221ms\n",
      "29:\tlearn: 0.3799193\ttotal: 6.64s\tremaining: 0us\n",
      "0:\tlearn: 0.5739017\ttotal: 253ms\tremaining: 7.33s\n",
      "1:\tlearn: 0.5037321\ttotal: 471ms\tremaining: 6.59s\n",
      "2:\tlearn: 0.4617615\ttotal: 721ms\tremaining: 6.49s\n",
      "3:\tlearn: 0.4358316\ttotal: 938ms\tremaining: 6.09s\n",
      "4:\tlearn: 0.4206019\ttotal: 1.23s\tremaining: 6.15s\n",
      "5:\tlearn: 0.4099857\ttotal: 1.47s\tremaining: 5.88s\n",
      "6:\tlearn: 0.4036722\ttotal: 1.72s\tremaining: 5.66s\n",
      "7:\tlearn: 0.3993988\ttotal: 1.92s\tremaining: 5.28s\n",
      "8:\tlearn: 0.3962697\ttotal: 2.12s\tremaining: 4.95s\n",
      "9:\tlearn: 0.3944106\ttotal: 2.31s\tremaining: 4.62s\n",
      "10:\tlearn: 0.3907087\ttotal: 2.57s\tremaining: 4.45s\n",
      "11:\tlearn: 0.3882937\ttotal: 2.8s\tremaining: 4.19s\n",
      "12:\tlearn: 0.3868111\ttotal: 3.04s\tremaining: 3.97s\n",
      "13:\tlearn: 0.3856203\ttotal: 3.24s\tremaining: 3.71s\n",
      "14:\tlearn: 0.3848049\ttotal: 3.47s\tremaining: 3.47s\n",
      "15:\tlearn: 0.3842618\ttotal: 3.69s\tremaining: 3.23s\n",
      "16:\tlearn: 0.3837179\ttotal: 3.9s\tremaining: 2.98s\n",
      "17:\tlearn: 0.3833670\ttotal: 4.15s\tremaining: 2.77s\n",
      "18:\tlearn: 0.3829343\ttotal: 4.38s\tremaining: 2.54s\n",
      "19:\tlearn: 0.3825703\ttotal: 4.59s\tremaining: 2.3s\n",
      "20:\tlearn: 0.3823029\ttotal: 4.81s\tremaining: 2.06s\n",
      "21:\tlearn: 0.3819879\ttotal: 5.04s\tremaining: 1.83s\n"
     ]
    },
    {
     "name": "stdout",
     "output_type": "stream",
     "text": [
      "22:\tlearn: 0.3817296\ttotal: 5.25s\tremaining: 1.6s\n",
      "23:\tlearn: 0.3815427\ttotal: 5.49s\tremaining: 1.37s\n",
      "24:\tlearn: 0.3813787\ttotal: 5.72s\tremaining: 1.14s\n",
      "25:\tlearn: 0.3812466\ttotal: 5.94s\tremaining: 914ms\n",
      "26:\tlearn: 0.3810532\ttotal: 6.19s\tremaining: 688ms\n",
      "27:\tlearn: 0.3808975\ttotal: 6.38s\tremaining: 456ms\n",
      "28:\tlearn: 0.3806480\ttotal: 6.6s\tremaining: 228ms\n",
      "29:\tlearn: 0.3805076\ttotal: 6.78s\tremaining: 0us\n",
      "0:\tlearn: 0.5731976\ttotal: 284ms\tremaining: 8.24s\n",
      "1:\tlearn: 0.5040773\ttotal: 529ms\tremaining: 7.4s\n",
      "2:\tlearn: 0.4602001\ttotal: 746ms\tremaining: 6.71s\n",
      "3:\tlearn: 0.4351934\ttotal: 971ms\tremaining: 6.31s\n",
      "4:\tlearn: 0.4185711\ttotal: 1.22s\tremaining: 6.09s\n",
      "5:\tlearn: 0.4086449\ttotal: 1.47s\tremaining: 5.87s\n",
      "6:\tlearn: 0.4024761\ttotal: 1.66s\tremaining: 5.46s\n",
      "7:\tlearn: 0.3984513\ttotal: 1.88s\tremaining: 5.16s\n",
      "8:\tlearn: 0.3955085\ttotal: 2.11s\tremaining: 4.92s\n",
      "9:\tlearn: 0.3936765\ttotal: 2.32s\tremaining: 4.65s\n",
      "10:\tlearn: 0.3901745\ttotal: 2.55s\tremaining: 4.41s\n",
      "11:\tlearn: 0.3880978\ttotal: 2.75s\tremaining: 4.13s\n",
      "12:\tlearn: 0.3863767\ttotal: 2.97s\tremaining: 3.89s\n",
      "13:\tlearn: 0.3852083\ttotal: 3.2s\tremaining: 3.66s\n",
      "14:\tlearn: 0.3844422\ttotal: 3.42s\tremaining: 3.42s\n",
      "15:\tlearn: 0.3839051\ttotal: 3.62s\tremaining: 3.17s\n",
      "16:\tlearn: 0.3833919\ttotal: 3.83s\tremaining: 2.92s\n",
      "17:\tlearn: 0.3830058\ttotal: 4.02s\tremaining: 2.68s\n",
      "18:\tlearn: 0.3825172\ttotal: 4.27s\tremaining: 2.47s\n",
      "19:\tlearn: 0.3821866\ttotal: 4.48s\tremaining: 2.24s\n",
      "20:\tlearn: 0.3818517\ttotal: 4.69s\tremaining: 2.01s\n",
      "21:\tlearn: 0.3815240\ttotal: 4.89s\tremaining: 1.78s\n",
      "22:\tlearn: 0.3813211\ttotal: 5.12s\tremaining: 1.56s\n",
      "23:\tlearn: 0.3810184\ttotal: 5.32s\tremaining: 1.33s\n",
      "24:\tlearn: 0.3808598\ttotal: 5.53s\tremaining: 1.1s\n",
      "25:\tlearn: 0.3806626\ttotal: 5.73s\tremaining: 881ms\n",
      "26:\tlearn: 0.3804900\ttotal: 5.93s\tremaining: 659ms\n",
      "27:\tlearn: 0.3803150\ttotal: 6.18s\tremaining: 442ms\n",
      "28:\tlearn: 0.3801673\ttotal: 6.39s\tremaining: 220ms\n",
      "29:\tlearn: 0.3800382\ttotal: 6.59s\tremaining: 0us\n",
      "0:\tlearn: 0.5732488\ttotal: 272ms\tremaining: 7.88s\n",
      "1:\tlearn: 0.5041268\ttotal: 488ms\tremaining: 6.83s\n",
      "2:\tlearn: 0.4600599\ttotal: 739ms\tremaining: 6.65s\n",
      "3:\tlearn: 0.4353612\ttotal: 975ms\tremaining: 6.34s\n",
      "4:\tlearn: 0.4189869\ttotal: 1.19s\tremaining: 5.93s\n",
      "5:\tlearn: 0.4092574\ttotal: 1.39s\tremaining: 5.57s\n",
      "6:\tlearn: 0.4026035\ttotal: 1.67s\tremaining: 5.47s\n",
      "7:\tlearn: 0.3982421\ttotal: 1.85s\tremaining: 5.1s\n",
      "8:\tlearn: 0.3954688\ttotal: 2.06s\tremaining: 4.82s\n",
      "9:\tlearn: 0.3936342\ttotal: 2.26s\tremaining: 4.53s\n",
      "10:\tlearn: 0.3903604\ttotal: 2.51s\tremaining: 4.33s\n",
      "11:\tlearn: 0.3880554\ttotal: 2.71s\tremaining: 4.07s\n",
      "12:\tlearn: 0.3864680\ttotal: 2.93s\tremaining: 3.83s\n",
      "13:\tlearn: 0.3853903\ttotal: 3.15s\tremaining: 3.6s\n",
      "14:\tlearn: 0.3846029\ttotal: 3.34s\tremaining: 3.34s\n",
      "15:\tlearn: 0.3839659\ttotal: 3.57s\tremaining: 3.12s\n",
      "16:\tlearn: 0.3835155\ttotal: 3.77s\tremaining: 2.89s\n",
      "17:\tlearn: 0.3830904\ttotal: 3.97s\tremaining: 2.65s\n",
      "18:\tlearn: 0.3826887\ttotal: 4.2s\tremaining: 2.43s\n",
      "19:\tlearn: 0.3822914\ttotal: 4.4s\tremaining: 2.2s\n",
      "20:\tlearn: 0.3819844\ttotal: 4.6s\tremaining: 1.97s\n",
      "21:\tlearn: 0.3817201\ttotal: 4.8s\tremaining: 1.75s\n",
      "22:\tlearn: 0.3815271\ttotal: 4.99s\tremaining: 1.52s\n",
      "23:\tlearn: 0.3813256\ttotal: 5.23s\tremaining: 1.31s\n",
      "24:\tlearn: 0.3810680\ttotal: 5.42s\tremaining: 1.08s\n",
      "25:\tlearn: 0.3808621\ttotal: 5.63s\tremaining: 867ms\n",
      "26:\tlearn: 0.3806900\ttotal: 5.86s\tremaining: 651ms\n",
      "27:\tlearn: 0.3805429\ttotal: 6.09s\tremaining: 435ms\n",
      "28:\tlearn: 0.3803685\ttotal: 6.3s\tremaining: 217ms\n",
      "29:\tlearn: 0.3801999\ttotal: 6.54s\tremaining: 0us\n",
      "0:\tlearn: 0.5730135\ttotal: 248ms\tremaining: 7.18s\n",
      "1:\tlearn: 0.5038417\ttotal: 486ms\tremaining: 6.81s\n",
      "2:\tlearn: 0.4621437\ttotal: 721ms\tremaining: 6.49s\n",
      "3:\tlearn: 0.4356388\ttotal: 985ms\tremaining: 6.4s\n",
      "4:\tlearn: 0.4190631\ttotal: 1.18s\tremaining: 5.92s\n",
      "5:\tlearn: 0.4093160\ttotal: 1.38s\tremaining: 5.51s\n",
      "6:\tlearn: 0.4019561\ttotal: 1.59s\tremaining: 5.23s\n",
      "7:\tlearn: 0.3979255\ttotal: 1.84s\tremaining: 5.07s\n",
      "8:\tlearn: 0.3950588\ttotal: 2.05s\tremaining: 4.78s\n",
      "9:\tlearn: 0.3932441\ttotal: 2.25s\tremaining: 4.51s\n",
      "10:\tlearn: 0.3898447\ttotal: 2.5s\tremaining: 4.32s\n",
      "11:\tlearn: 0.3875539\ttotal: 2.71s\tremaining: 4.06s\n",
      "12:\tlearn: 0.3860476\ttotal: 2.94s\tremaining: 3.85s\n",
      "13:\tlearn: 0.3849064\ttotal: 3.17s\tremaining: 3.62s\n",
      "14:\tlearn: 0.3841124\ttotal: 3.36s\tremaining: 3.36s\n",
      "15:\tlearn: 0.3835231\ttotal: 3.58s\tremaining: 3.13s\n",
      "16:\tlearn: 0.3831526\ttotal: 3.77s\tremaining: 2.88s\n",
      "17:\tlearn: 0.3827236\ttotal: 3.96s\tremaining: 2.64s\n",
      "18:\tlearn: 0.3821816\ttotal: 4.17s\tremaining: 2.41s\n",
      "19:\tlearn: 0.3819005\ttotal: 4.41s\tremaining: 2.2s\n",
      "20:\tlearn: 0.3815944\ttotal: 4.62s\tremaining: 1.98s\n",
      "21:\tlearn: 0.3812806\ttotal: 4.84s\tremaining: 1.76s\n",
      "22:\tlearn: 0.3810963\ttotal: 5.05s\tremaining: 1.54s\n",
      "23:\tlearn: 0.3808546\ttotal: 5.25s\tremaining: 1.31s\n",
      "24:\tlearn: 0.3806565\ttotal: 5.45s\tremaining: 1.09s\n",
      "25:\tlearn: 0.3802490\ttotal: 5.67s\tremaining: 872ms\n",
      "26:\tlearn: 0.3800552\ttotal: 5.88s\tremaining: 653ms\n",
      "27:\tlearn: 0.3799256\ttotal: 6.12s\tremaining: 437ms\n",
      "28:\tlearn: 0.3797670\ttotal: 6.34s\tremaining: 219ms\n",
      "29:\tlearn: 0.3796277\ttotal: 6.54s\tremaining: 0us\n",
      "0:\tlearn: 0.6022834\ttotal: 217ms\tremaining: 6.3s\n",
      "1:\tlearn: 0.5377689\ttotal: 462ms\tremaining: 6.47s\n",
      "2:\tlearn: 0.4959589\ttotal: 649ms\tremaining: 5.84s\n",
      "3:\tlearn: 0.4657387\ttotal: 886ms\tremaining: 5.76s\n",
      "4:\tlearn: 0.4451229\ttotal: 1.05s\tremaining: 5.28s\n",
      "5:\tlearn: 0.4302274\ttotal: 1.25s\tremaining: 5.01s\n",
      "6:\tlearn: 0.4203354\ttotal: 1.42s\tremaining: 4.68s\n",
      "7:\tlearn: 0.4127638\ttotal: 1.62s\tremaining: 4.46s\n",
      "8:\tlearn: 0.4067433\ttotal: 1.8s\tremaining: 4.19s\n",
      "9:\tlearn: 0.4030513\ttotal: 1.98s\tremaining: 3.97s\n",
      "10:\tlearn: 0.4003611\ttotal: 2.14s\tremaining: 3.7s\n",
      "11:\tlearn: 0.3981925\ttotal: 2.31s\tremaining: 3.47s\n",
      "12:\tlearn: 0.3965667\ttotal: 2.49s\tremaining: 3.25s\n",
      "13:\tlearn: 0.3953380\ttotal: 2.67s\tremaining: 3.05s\n",
      "14:\tlearn: 0.3928638\ttotal: 2.86s\tremaining: 2.86s\n",
      "15:\tlearn: 0.3909168\ttotal: 3.06s\tremaining: 2.67s\n",
      "16:\tlearn: 0.3895094\ttotal: 3.23s\tremaining: 2.47s\n",
      "17:\tlearn: 0.3882850\ttotal: 3.42s\tremaining: 2.28s\n",
      "18:\tlearn: 0.3874021\ttotal: 3.6s\tremaining: 2.08s\n",
      "19:\tlearn: 0.3867503\ttotal: 3.79s\tremaining: 1.9s\n",
      "20:\tlearn: 0.3861422\ttotal: 3.96s\tremaining: 1.7s\n",
      "21:\tlearn: 0.3857535\ttotal: 4.15s\tremaining: 1.51s\n",
      "22:\tlearn: 0.3853365\ttotal: 4.31s\tremaining: 1.31s\n",
      "23:\tlearn: 0.3850970\ttotal: 4.53s\tremaining: 1.13s\n",
      "24:\tlearn: 0.3848393\ttotal: 4.7s\tremaining: 940ms\n",
      "25:\tlearn: 0.3845677\ttotal: 4.88s\tremaining: 751ms\n",
      "26:\tlearn: 0.3843345\ttotal: 5.05s\tremaining: 562ms\n",
      "27:\tlearn: 0.3840213\ttotal: 5.24s\tremaining: 374ms\n",
      "28:\tlearn: 0.3837975\ttotal: 5.41s\tremaining: 187ms\n",
      "29:\tlearn: 0.3834857\ttotal: 5.6s\tremaining: 0us\n",
      "0:\tlearn: 0.6023392\ttotal: 215ms\tremaining: 6.25s\n",
      "1:\tlearn: 0.5378871\ttotal: 441ms\tremaining: 6.17s\n",
      "2:\tlearn: 0.4940923\ttotal: 673ms\tremaining: 6.05s\n",
      "3:\tlearn: 0.4637873\ttotal: 874ms\tremaining: 5.68s\n",
      "4:\tlearn: 0.4435872\ttotal: 1.08s\tremaining: 5.39s\n",
      "5:\tlearn: 0.4296842\ttotal: 1.25s\tremaining: 5.01s\n",
      "6:\tlearn: 0.4190396\ttotal: 1.46s\tremaining: 4.79s\n",
      "7:\tlearn: 0.4120218\ttotal: 1.64s\tremaining: 4.5s\n",
      "8:\tlearn: 0.4072231\ttotal: 1.83s\tremaining: 4.27s\n",
      "9:\tlearn: 0.4032433\ttotal: 2s\tremaining: 4.01s\n",
      "10:\tlearn: 0.4001417\ttotal: 2.2s\tremaining: 3.81s\n",
      "11:\tlearn: 0.3980301\ttotal: 2.36s\tremaining: 3.54s\n",
      "12:\tlearn: 0.3965661\ttotal: 2.58s\tremaining: 3.38s\n",
      "13:\tlearn: 0.3937204\ttotal: 2.79s\tremaining: 3.18s\n",
      "14:\tlearn: 0.3915936\ttotal: 2.97s\tremaining: 2.97s\n",
      "15:\tlearn: 0.3900726\ttotal: 3.16s\tremaining: 2.77s\n",
      "16:\tlearn: 0.3890576\ttotal: 3.34s\tremaining: 2.55s\n",
      "17:\tlearn: 0.3882105\ttotal: 3.52s\tremaining: 2.35s\n",
      "18:\tlearn: 0.3874458\ttotal: 3.69s\tremaining: 2.14s\n",
      "19:\tlearn: 0.3868322\ttotal: 3.87s\tremaining: 1.94s\n",
      "20:\tlearn: 0.3862811\ttotal: 4.05s\tremaining: 1.73s\n",
      "21:\tlearn: 0.3858818\ttotal: 4.22s\tremaining: 1.54s\n",
      "22:\tlearn: 0.3854413\ttotal: 4.39s\tremaining: 1.33s\n",
      "23:\tlearn: 0.3850957\ttotal: 4.57s\tremaining: 1.14s\n",
      "24:\tlearn: 0.3846956\ttotal: 4.74s\tremaining: 948ms\n",
      "25:\tlearn: 0.3844925\ttotal: 4.92s\tremaining: 758ms\n",
      "26:\tlearn: 0.3842838\ttotal: 5.09s\tremaining: 565ms\n",
      "27:\tlearn: 0.3841275\ttotal: 5.28s\tremaining: 377ms\n",
      "28:\tlearn: 0.3838137\ttotal: 5.46s\tremaining: 188ms\n",
      "29:\tlearn: 0.3836090\ttotal: 5.66s\tremaining: 0us\n",
      "0:\tlearn: 0.5999347\ttotal: 224ms\tremaining: 6.5s\n",
      "1:\tlearn: 0.5375934\ttotal: 405ms\tremaining: 5.68s\n",
      "2:\tlearn: 0.4958255\ttotal: 646ms\tremaining: 5.81s\n",
      "3:\tlearn: 0.4655486\ttotal: 888ms\tremaining: 5.77s\n",
      "4:\tlearn: 0.4448334\ttotal: 1.07s\tremaining: 5.34s\n"
     ]
    },
    {
     "name": "stdout",
     "output_type": "stream",
     "text": [
      "5:\tlearn: 0.4299996\ttotal: 1.27s\tremaining: 5.08s\n",
      "6:\tlearn: 0.4194808\ttotal: 1.43s\tremaining: 4.71s\n",
      "7:\tlearn: 0.4121055\ttotal: 1.66s\tremaining: 4.57s\n",
      "8:\tlearn: 0.4067894\ttotal: 1.84s\tremaining: 4.29s\n",
      "9:\tlearn: 0.4031760\ttotal: 2.02s\tremaining: 4.05s\n",
      "10:\tlearn: 0.4004668\ttotal: 2.19s\tremaining: 3.78s\n",
      "11:\tlearn: 0.3982775\ttotal: 2.37s\tremaining: 3.56s\n",
      "12:\tlearn: 0.3967881\ttotal: 2.55s\tremaining: 3.34s\n",
      "13:\tlearn: 0.3938863\ttotal: 2.76s\tremaining: 3.15s\n",
      "14:\tlearn: 0.3918406\ttotal: 2.93s\tremaining: 2.93s\n",
      "15:\tlearn: 0.3902308\ttotal: 3.12s\tremaining: 2.73s\n",
      "16:\tlearn: 0.3890094\ttotal: 3.29s\tremaining: 2.52s\n",
      "17:\tlearn: 0.3881780\ttotal: 3.48s\tremaining: 2.32s\n",
      "18:\tlearn: 0.3874628\ttotal: 3.64s\tremaining: 2.11s\n",
      "19:\tlearn: 0.3868211\ttotal: 3.83s\tremaining: 1.91s\n",
      "20:\tlearn: 0.3863324\ttotal: 4s\tremaining: 1.71s\n",
      "21:\tlearn: 0.3858500\ttotal: 4.2s\tremaining: 1.53s\n",
      "22:\tlearn: 0.3855071\ttotal: 4.37s\tremaining: 1.33s\n",
      "23:\tlearn: 0.3851404\ttotal: 4.55s\tremaining: 1.14s\n",
      "24:\tlearn: 0.3849044\ttotal: 4.73s\tremaining: 946ms\n",
      "25:\tlearn: 0.3845948\ttotal: 4.92s\tremaining: 757ms\n",
      "26:\tlearn: 0.3842856\ttotal: 5.09s\tremaining: 565ms\n",
      "27:\tlearn: 0.3840915\ttotal: 5.27s\tremaining: 377ms\n",
      "28:\tlearn: 0.3838519\ttotal: 5.45s\tremaining: 188ms\n",
      "29:\tlearn: 0.3836617\ttotal: 5.63s\tremaining: 0us\n",
      "0:\tlearn: 0.5999781\ttotal: 232ms\tremaining: 6.72s\n",
      "1:\tlearn: 0.5376448\ttotal: 406ms\tremaining: 5.68s\n",
      "2:\tlearn: 0.4951425\ttotal: 646ms\tremaining: 5.82s\n",
      "3:\tlearn: 0.4644001\ttotal: 874ms\tremaining: 5.68s\n",
      "4:\tlearn: 0.4444715\ttotal: 1.07s\tremaining: 5.36s\n",
      "5:\tlearn: 0.4293948\ttotal: 1.27s\tremaining: 5.09s\n",
      "6:\tlearn: 0.4191166\ttotal: 1.45s\tremaining: 4.75s\n",
      "7:\tlearn: 0.4121456\ttotal: 1.67s\tremaining: 4.58s\n",
      "8:\tlearn: 0.4067808\ttotal: 1.83s\tremaining: 4.28s\n",
      "9:\tlearn: 0.4030162\ttotal: 2.02s\tremaining: 4.04s\n",
      "10:\tlearn: 0.4001955\ttotal: 2.18s\tremaining: 3.77s\n",
      "11:\tlearn: 0.3978078\ttotal: 2.39s\tremaining: 3.58s\n",
      "12:\tlearn: 0.3963221\ttotal: 2.58s\tremaining: 3.37s\n",
      "13:\tlearn: 0.3935391\ttotal: 2.78s\tremaining: 3.18s\n",
      "14:\tlearn: 0.3914882\ttotal: 2.95s\tremaining: 2.95s\n",
      "15:\tlearn: 0.3900442\ttotal: 3.14s\tremaining: 2.75s\n",
      "16:\tlearn: 0.3889159\ttotal: 3.3s\tremaining: 2.53s\n",
      "17:\tlearn: 0.3880939\ttotal: 3.49s\tremaining: 2.33s\n",
      "18:\tlearn: 0.3873651\ttotal: 3.66s\tremaining: 2.12s\n",
      "19:\tlearn: 0.3866600\ttotal: 3.84s\tremaining: 1.92s\n",
      "20:\tlearn: 0.3861914\ttotal: 4.01s\tremaining: 1.72s\n",
      "21:\tlearn: 0.3858299\ttotal: 4.2s\tremaining: 1.53s\n",
      "22:\tlearn: 0.3855467\ttotal: 4.37s\tremaining: 1.33s\n",
      "23:\tlearn: 0.3852906\ttotal: 4.54s\tremaining: 1.14s\n",
      "24:\tlearn: 0.3850041\ttotal: 4.71s\tremaining: 942ms\n",
      "25:\tlearn: 0.3848160\ttotal: 4.89s\tremaining: 753ms\n",
      "26:\tlearn: 0.3844337\ttotal: 5.07s\tremaining: 564ms\n",
      "27:\tlearn: 0.3841288\ttotal: 5.27s\tremaining: 377ms\n",
      "28:\tlearn: 0.3839223\ttotal: 5.45s\tremaining: 188ms\n",
      "29:\tlearn: 0.3837192\ttotal: 5.64s\tremaining: 0us\n",
      "0:\tlearn: 0.6017007\ttotal: 223ms\tremaining: 6.46s\n",
      "1:\tlearn: 0.5374027\ttotal: 457ms\tremaining: 6.39s\n",
      "2:\tlearn: 0.4954447\ttotal: 632ms\tremaining: 5.68s\n",
      "3:\tlearn: 0.4649480\ttotal: 822ms\tremaining: 5.34s\n",
      "4:\tlearn: 0.4445197\ttotal: 1.03s\tremaining: 5.15s\n",
      "5:\tlearn: 0.4296909\ttotal: 1.23s\tremaining: 4.91s\n",
      "6:\tlearn: 0.4190602\ttotal: 1.46s\tremaining: 4.8s\n",
      "7:\tlearn: 0.4120326\ttotal: 1.64s\tremaining: 4.51s\n",
      "8:\tlearn: 0.4061347\ttotal: 1.84s\tremaining: 4.3s\n",
      "9:\tlearn: 0.4025532\ttotal: 2.01s\tremaining: 4.02s\n",
      "10:\tlearn: 0.3999087\ttotal: 2.2s\tremaining: 3.8s\n",
      "11:\tlearn: 0.3976865\ttotal: 2.36s\tremaining: 3.55s\n",
      "12:\tlearn: 0.3947600\ttotal: 2.57s\tremaining: 3.36s\n",
      "13:\tlearn: 0.3922006\ttotal: 2.75s\tremaining: 3.14s\n",
      "14:\tlearn: 0.3903725\ttotal: 2.94s\tremaining: 2.94s\n",
      "15:\tlearn: 0.3890690\ttotal: 3.12s\tremaining: 2.73s\n",
      "16:\tlearn: 0.3881303\ttotal: 3.31s\tremaining: 2.53s\n",
      "17:\tlearn: 0.3872707\ttotal: 3.47s\tremaining: 2.32s\n",
      "18:\tlearn: 0.3866323\ttotal: 3.66s\tremaining: 2.12s\n",
      "19:\tlearn: 0.3861295\ttotal: 3.83s\tremaining: 1.92s\n",
      "20:\tlearn: 0.3856039\ttotal: 4.02s\tremaining: 1.72s\n",
      "21:\tlearn: 0.3853040\ttotal: 4.2s\tremaining: 1.53s\n",
      "22:\tlearn: 0.3849844\ttotal: 4.41s\tremaining: 1.34s\n",
      "23:\tlearn: 0.3847338\ttotal: 4.57s\tremaining: 1.14s\n",
      "24:\tlearn: 0.3845008\ttotal: 4.75s\tremaining: 950ms\n",
      "25:\tlearn: 0.3842522\ttotal: 4.91s\tremaining: 756ms\n",
      "26:\tlearn: 0.3840022\ttotal: 5.1s\tremaining: 566ms\n",
      "27:\tlearn: 0.3837334\ttotal: 5.28s\tremaining: 377ms\n",
      "28:\tlearn: 0.3834651\ttotal: 5.46s\tremaining: 188ms\n",
      "29:\tlearn: 0.3832556\ttotal: 5.62s\tremaining: 0us\n",
      "0:\tlearn: 0.5983833\ttotal: 395ms\tremaining: 11.4s\n",
      "1:\tlearn: 0.5330069\ttotal: 877ms\tremaining: 12.3s\n",
      "2:\tlearn: 0.4905018\ttotal: 1.26s\tremaining: 11.3s\n",
      "3:\tlearn: 0.4611739\ttotal: 1.65s\tremaining: 10.7s\n",
      "4:\tlearn: 0.4397850\ttotal: 2.04s\tremaining: 10.2s\n",
      "5:\tlearn: 0.4242801\ttotal: 2.44s\tremaining: 9.78s\n",
      "6:\tlearn: 0.4138460\ttotal: 2.81s\tremaining: 9.25s\n",
      "7:\tlearn: 0.4067378\ttotal: 3.2s\tremaining: 8.8s\n",
      "8:\tlearn: 0.4011613\ttotal: 3.61s\tremaining: 8.43s\n",
      "9:\tlearn: 0.3965202\ttotal: 4.01s\tremaining: 8.03s\n",
      "10:\tlearn: 0.3934545\ttotal: 4.41s\tremaining: 7.62s\n",
      "11:\tlearn: 0.3911079\ttotal: 4.81s\tremaining: 7.22s\n",
      "12:\tlearn: 0.3894824\ttotal: 5.2s\tremaining: 6.8s\n",
      "13:\tlearn: 0.3865446\ttotal: 5.64s\tremaining: 6.45s\n",
      "14:\tlearn: 0.3844909\ttotal: 6.06s\tremaining: 6.06s\n",
      "15:\tlearn: 0.3829758\ttotal: 6.47s\tremaining: 5.67s\n",
      "16:\tlearn: 0.3818735\ttotal: 6.84s\tremaining: 5.24s\n",
      "17:\tlearn: 0.3809698\ttotal: 7.24s\tremaining: 4.83s\n",
      "18:\tlearn: 0.3801654\ttotal: 7.66s\tremaining: 4.43s\n",
      "19:\tlearn: 0.3795453\ttotal: 8.06s\tremaining: 4.03s\n",
      "20:\tlearn: 0.3789971\ttotal: 8.43s\tremaining: 3.61s\n",
      "21:\tlearn: 0.3784860\ttotal: 8.82s\tremaining: 3.21s\n",
      "22:\tlearn: 0.3781143\ttotal: 9.22s\tremaining: 2.81s\n",
      "23:\tlearn: 0.3776724\ttotal: 9.64s\tremaining: 2.41s\n",
      "24:\tlearn: 0.3772912\ttotal: 10s\tremaining: 2.01s\n",
      "25:\tlearn: 0.3768655\ttotal: 10.4s\tremaining: 1.6s\n",
      "26:\tlearn: 0.3765728\ttotal: 10.8s\tremaining: 1.2s\n",
      "27:\tlearn: 0.3762756\ttotal: 11.2s\tremaining: 798ms\n",
      "28:\tlearn: 0.3760564\ttotal: 11.6s\tremaining: 398ms\n",
      "29:\tlearn: 0.3758160\ttotal: 12s\tremaining: 0us\n",
      "0:\tlearn: 0.5984364\ttotal: 426ms\tremaining: 12.3s\n",
      "1:\tlearn: 0.5376298\ttotal: 649ms\tremaining: 9.09s\n",
      "2:\tlearn: 0.4930685\ttotal: 1.05s\tremaining: 9.5s\n",
      "3:\tlearn: 0.4610322\ttotal: 1.48s\tremaining: 9.6s\n",
      "4:\tlearn: 0.4397989\ttotal: 1.88s\tremaining: 9.4s\n",
      "5:\tlearn: 0.4249649\ttotal: 2.28s\tremaining: 9.1s\n",
      "6:\tlearn: 0.4138988\ttotal: 2.66s\tremaining: 8.74s\n",
      "7:\tlearn: 0.4067976\ttotal: 3.07s\tremaining: 8.44s\n",
      "8:\tlearn: 0.4009811\ttotal: 3.49s\tremaining: 8.14s\n",
      "9:\tlearn: 0.3967016\ttotal: 3.87s\tremaining: 7.75s\n",
      "10:\tlearn: 0.3934231\ttotal: 4.26s\tremaining: 7.36s\n",
      "11:\tlearn: 0.3911827\ttotal: 4.64s\tremaining: 6.96s\n",
      "12:\tlearn: 0.3895949\ttotal: 5.03s\tremaining: 6.58s\n",
      "13:\tlearn: 0.3866867\ttotal: 5.47s\tremaining: 6.25s\n",
      "14:\tlearn: 0.3846943\ttotal: 5.86s\tremaining: 5.86s\n",
      "15:\tlearn: 0.3831684\ttotal: 6.28s\tremaining: 5.5s\n",
      "16:\tlearn: 0.3818008\ttotal: 6.68s\tremaining: 5.11s\n",
      "17:\tlearn: 0.3808331\ttotal: 7.08s\tremaining: 4.72s\n",
      "18:\tlearn: 0.3800139\ttotal: 7.48s\tremaining: 4.33s\n",
      "19:\tlearn: 0.3793670\ttotal: 7.87s\tremaining: 3.93s\n",
      "20:\tlearn: 0.3787990\ttotal: 8.26s\tremaining: 3.54s\n",
      "21:\tlearn: 0.3784257\ttotal: 8.65s\tremaining: 3.15s\n",
      "22:\tlearn: 0.3779182\ttotal: 9.07s\tremaining: 2.76s\n",
      "23:\tlearn: 0.3774253\ttotal: 9.46s\tremaining: 2.36s\n",
      "24:\tlearn: 0.3770205\ttotal: 9.84s\tremaining: 1.97s\n",
      "25:\tlearn: 0.3767455\ttotal: 10.3s\tremaining: 1.58s\n",
      "26:\tlearn: 0.3763891\ttotal: 10.7s\tremaining: 1.19s\n",
      "27:\tlearn: 0.3761889\ttotal: 11s\tremaining: 788ms\n",
      "28:\tlearn: 0.3759566\ttotal: 11.4s\tremaining: 394ms\n",
      "29:\tlearn: 0.3758006\ttotal: 11.8s\tremaining: 0us\n",
      "0:\tlearn: 0.5995564\ttotal: 335ms\tremaining: 9.72s\n",
      "1:\tlearn: 0.5345635\ttotal: 706ms\tremaining: 9.89s\n",
      "2:\tlearn: 0.4917872\ttotal: 1.07s\tremaining: 9.59s\n",
      "3:\tlearn: 0.4620734\ttotal: 1.5s\tremaining: 9.76s\n",
      "4:\tlearn: 0.4398215\ttotal: 1.89s\tremaining: 9.44s\n",
      "5:\tlearn: 0.4246101\ttotal: 2.29s\tremaining: 9.17s\n",
      "6:\tlearn: 0.4137586\ttotal: 2.69s\tremaining: 8.86s\n",
      "7:\tlearn: 0.4059154\ttotal: 3.08s\tremaining: 8.46s\n",
      "8:\tlearn: 0.4002576\ttotal: 3.47s\tremaining: 8.1s\n",
      "9:\tlearn: 0.3968752\ttotal: 3.85s\tremaining: 7.7s\n",
      "10:\tlearn: 0.3935382\ttotal: 4.25s\tremaining: 7.34s\n",
      "11:\tlearn: 0.3911703\ttotal: 4.67s\tremaining: 7s\n",
      "12:\tlearn: 0.3894414\ttotal: 5.08s\tremaining: 6.64s\n",
      "13:\tlearn: 0.3866045\ttotal: 5.53s\tremaining: 6.32s\n",
      "14:\tlearn: 0.3846399\ttotal: 5.93s\tremaining: 5.93s\n",
      "15:\tlearn: 0.3830670\ttotal: 6.34s\tremaining: 5.55s\n",
      "16:\tlearn: 0.3817631\ttotal: 6.72s\tremaining: 5.14s\n",
      "17:\tlearn: 0.3808445\ttotal: 7.1s\tremaining: 4.73s\n"
     ]
    },
    {
     "name": "stdout",
     "output_type": "stream",
     "text": [
      "18:\tlearn: 0.3801195\ttotal: 7.53s\tremaining: 4.36s\n",
      "19:\tlearn: 0.3794531\ttotal: 7.96s\tremaining: 3.98s\n",
      "20:\tlearn: 0.3789414\ttotal: 8.36s\tremaining: 3.58s\n",
      "21:\tlearn: 0.3785343\ttotal: 8.74s\tremaining: 3.18s\n",
      "22:\tlearn: 0.3780034\ttotal: 9.17s\tremaining: 2.79s\n",
      "23:\tlearn: 0.3775379\ttotal: 9.57s\tremaining: 2.39s\n",
      "24:\tlearn: 0.3771182\ttotal: 9.96s\tremaining: 1.99s\n",
      "25:\tlearn: 0.3767726\ttotal: 10.3s\tremaining: 1.59s\n",
      "26:\tlearn: 0.3764230\ttotal: 10.7s\tremaining: 1.19s\n",
      "27:\tlearn: 0.3761230\ttotal: 11.1s\tremaining: 794ms\n",
      "28:\tlearn: 0.3759153\ttotal: 11.5s\tremaining: 396ms\n",
      "29:\tlearn: 0.3757270\ttotal: 11.9s\tremaining: 0us\n",
      "0:\tlearn: 0.5995945\ttotal: 333ms\tremaining: 9.65s\n",
      "1:\tlearn: 0.5346133\ttotal: 712ms\tremaining: 9.97s\n",
      "2:\tlearn: 0.4914597\ttotal: 1.08s\tremaining: 9.75s\n",
      "3:\tlearn: 0.4633035\ttotal: 1.24s\tremaining: 8.05s\n",
      "4:\tlearn: 0.4401908\ttotal: 1.63s\tremaining: 8.13s\n",
      "5:\tlearn: 0.4246292\ttotal: 2.02s\tremaining: 8.1s\n",
      "6:\tlearn: 0.4133711\ttotal: 2.48s\tremaining: 8.17s\n",
      "7:\tlearn: 0.4064729\ttotal: 2.88s\tremaining: 7.91s\n",
      "8:\tlearn: 0.4009621\ttotal: 3.25s\tremaining: 7.58s\n",
      "9:\tlearn: 0.3967002\ttotal: 3.65s\tremaining: 7.29s\n",
      "10:\tlearn: 0.3937053\ttotal: 4.02s\tremaining: 6.95s\n",
      "11:\tlearn: 0.3916295\ttotal: 4.39s\tremaining: 6.59s\n",
      "12:\tlearn: 0.3897401\ttotal: 4.81s\tremaining: 6.29s\n",
      "13:\tlearn: 0.3869375\ttotal: 5.23s\tremaining: 5.98s\n",
      "14:\tlearn: 0.3849261\ttotal: 5.63s\tremaining: 5.63s\n",
      "15:\tlearn: 0.3833007\ttotal: 6.02s\tremaining: 5.27s\n",
      "16:\tlearn: 0.3821056\ttotal: 6.43s\tremaining: 4.92s\n",
      "17:\tlearn: 0.3810778\ttotal: 6.82s\tremaining: 4.54s\n",
      "18:\tlearn: 0.3803523\ttotal: 7.2s\tremaining: 4.17s\n",
      "19:\tlearn: 0.3797032\ttotal: 7.6s\tremaining: 3.8s\n",
      "20:\tlearn: 0.3791778\ttotal: 8s\tremaining: 3.43s\n",
      "21:\tlearn: 0.3786792\ttotal: 8.4s\tremaining: 3.06s\n",
      "22:\tlearn: 0.3781248\ttotal: 8.79s\tremaining: 2.68s\n",
      "23:\tlearn: 0.3776380\ttotal: 9.2s\tremaining: 2.3s\n",
      "24:\tlearn: 0.3772291\ttotal: 9.62s\tremaining: 1.92s\n",
      "25:\tlearn: 0.3768550\ttotal: 10s\tremaining: 1.54s\n",
      "26:\tlearn: 0.3765752\ttotal: 10.4s\tremaining: 1.16s\n",
      "27:\tlearn: 0.3762615\ttotal: 10.8s\tremaining: 774ms\n",
      "28:\tlearn: 0.3760625\ttotal: 11.2s\tremaining: 387ms\n",
      "29:\tlearn: 0.3758451\ttotal: 11.7s\tremaining: 0us\n",
      "0:\tlearn: 0.5996493\ttotal: 290ms\tremaining: 8.41s\n",
      "1:\tlearn: 0.5350393\ttotal: 694ms\tremaining: 9.71s\n",
      "2:\tlearn: 0.4920032\ttotal: 1.1s\tremaining: 9.92s\n",
      "3:\tlearn: 0.4602576\ttotal: 1.5s\tremaining: 9.73s\n",
      "4:\tlearn: 0.4384784\ttotal: 1.98s\tremaining: 9.88s\n",
      "5:\tlearn: 0.4235123\ttotal: 2.42s\tremaining: 9.69s\n",
      "6:\tlearn: 0.4136700\ttotal: 2.91s\tremaining: 9.57s\n",
      "7:\tlearn: 0.4059308\ttotal: 3.42s\tremaining: 9.41s\n",
      "8:\tlearn: 0.4009036\ttotal: 3.89s\tremaining: 9.08s\n",
      "9:\tlearn: 0.3970722\ttotal: 4.37s\tremaining: 8.74s\n",
      "10:\tlearn: 0.3937194\ttotal: 4.82s\tremaining: 8.33s\n",
      "11:\tlearn: 0.3914763\ttotal: 5.26s\tremaining: 7.89s\n",
      "12:\tlearn: 0.3896015\ttotal: 5.77s\tremaining: 7.55s\n",
      "13:\tlearn: 0.3867242\ttotal: 6.25s\tremaining: 7.14s\n",
      "14:\tlearn: 0.3844903\ttotal: 6.7s\tremaining: 6.7s\n",
      "15:\tlearn: 0.3828939\ttotal: 7.13s\tremaining: 6.24s\n",
      "16:\tlearn: 0.3817598\ttotal: 7.54s\tremaining: 5.77s\n",
      "17:\tlearn: 0.3806900\ttotal: 7.99s\tremaining: 5.33s\n",
      "18:\tlearn: 0.3799899\ttotal: 8.49s\tremaining: 4.91s\n",
      "19:\tlearn: 0.3792412\ttotal: 8.95s\tremaining: 4.47s\n",
      "20:\tlearn: 0.3787179\ttotal: 9.33s\tremaining: 4s\n",
      "21:\tlearn: 0.3781381\ttotal: 9.86s\tremaining: 3.59s\n",
      "22:\tlearn: 0.3776021\ttotal: 10.5s\tremaining: 3.18s\n",
      "23:\tlearn: 0.3771428\ttotal: 11s\tremaining: 2.74s\n",
      "24:\tlearn: 0.3767602\ttotal: 11.5s\tremaining: 2.31s\n",
      "25:\tlearn: 0.3764257\ttotal: 12s\tremaining: 1.85s\n",
      "26:\tlearn: 0.3761141\ttotal: 12.5s\tremaining: 1.39s\n",
      "27:\tlearn: 0.3758643\ttotal: 13s\tremaining: 931ms\n",
      "28:\tlearn: 0.3756169\ttotal: 13.5s\tremaining: 466ms\n",
      "29:\tlearn: 0.3754132\ttotal: 14s\tremaining: 0us\n",
      "0:\tlearn: 0.6281104\ttotal: 557ms\tremaining: 16.1s\n",
      "1:\tlearn: 0.5773192\ttotal: 1.08s\tremaining: 15.2s\n",
      "2:\tlearn: 0.5366230\ttotal: 1.67s\tremaining: 15s\n",
      "3:\tlearn: 0.5068805\ttotal: 2.17s\tremaining: 14.1s\n",
      "4:\tlearn: 0.4822736\ttotal: 2.69s\tremaining: 13.4s\n",
      "5:\tlearn: 0.4626050\ttotal: 3.21s\tremaining: 12.8s\n",
      "6:\tlearn: 0.4479595\ttotal: 3.79s\tremaining: 12.5s\n",
      "7:\tlearn: 0.4358856\ttotal: 4.33s\tremaining: 11.9s\n",
      "8:\tlearn: 0.4260309\ttotal: 4.8s\tremaining: 11.2s\n",
      "9:\tlearn: 0.4188404\ttotal: 5.25s\tremaining: 10.5s\n",
      "10:\tlearn: 0.4131077\ttotal: 5.75s\tremaining: 9.93s\n",
      "11:\tlearn: 0.4081369\ttotal: 6.26s\tremaining: 9.39s\n",
      "12:\tlearn: 0.4040041\ttotal: 6.76s\tremaining: 8.84s\n",
      "13:\tlearn: 0.4007994\ttotal: 7.28s\tremaining: 8.32s\n",
      "14:\tlearn: 0.3981108\ttotal: 7.75s\tremaining: 7.75s\n",
      "15:\tlearn: 0.3959141\ttotal: 8.27s\tremaining: 7.24s\n",
      "16:\tlearn: 0.3939492\ttotal: 8.79s\tremaining: 6.72s\n",
      "17:\tlearn: 0.3924186\ttotal: 9.31s\tremaining: 6.21s\n",
      "18:\tlearn: 0.3911290\ttotal: 9.8s\tremaining: 5.67s\n",
      "19:\tlearn: 0.3901706\ttotal: 10.3s\tremaining: 5.14s\n",
      "20:\tlearn: 0.3882955\ttotal: 10.8s\tremaining: 4.63s\n",
      "21:\tlearn: 0.3868247\ttotal: 11.3s\tremaining: 4.11s\n",
      "22:\tlearn: 0.3855592\ttotal: 11.8s\tremaining: 3.59s\n",
      "23:\tlearn: 0.3845227\ttotal: 12.3s\tremaining: 3.07s\n",
      "24:\tlearn: 0.3835019\ttotal: 12.8s\tremaining: 2.55s\n",
      "25:\tlearn: 0.3827750\ttotal: 13.3s\tremaining: 2.04s\n",
      "26:\tlearn: 0.3820320\ttotal: 13.8s\tremaining: 1.53s\n",
      "27:\tlearn: 0.3814598\ttotal: 14.3s\tremaining: 1.02s\n",
      "28:\tlearn: 0.3809646\ttotal: 14.8s\tremaining: 512ms\n",
      "29:\tlearn: 0.3804876\ttotal: 15.4s\tremaining: 0us\n",
      "0:\tlearn: 0.6281836\ttotal: 572ms\tremaining: 16.6s\n",
      "1:\tlearn: 0.5774519\ttotal: 1.05s\tremaining: 14.7s\n",
      "2:\tlearn: 0.5368519\ttotal: 1.59s\tremaining: 14.3s\n",
      "3:\tlearn: 0.5059121\ttotal: 2.07s\tremaining: 13.5s\n",
      "4:\tlearn: 0.4813275\ttotal: 2.6s\tremaining: 13s\n",
      "5:\tlearn: 0.4618808\ttotal: 3.1s\tremaining: 12.4s\n",
      "6:\tlearn: 0.4473309\ttotal: 3.63s\tremaining: 11.9s\n",
      "7:\tlearn: 0.4351737\ttotal: 4.11s\tremaining: 11.3s\n",
      "8:\tlearn: 0.4256629\ttotal: 4.62s\tremaining: 10.8s\n",
      "9:\tlearn: 0.4188420\ttotal: 4.92s\tremaining: 9.85s\n",
      "10:\tlearn: 0.4132416\ttotal: 5.41s\tremaining: 9.35s\n",
      "11:\tlearn: 0.4081016\ttotal: 5.96s\tremaining: 8.94s\n",
      "12:\tlearn: 0.4040449\ttotal: 6.49s\tremaining: 8.48s\n",
      "13:\tlearn: 0.4006162\ttotal: 6.99s\tremaining: 7.99s\n",
      "14:\tlearn: 0.3981927\ttotal: 7.45s\tremaining: 7.45s\n",
      "15:\tlearn: 0.3957589\ttotal: 7.94s\tremaining: 6.95s\n",
      "16:\tlearn: 0.3938773\ttotal: 8.56s\tremaining: 6.55s\n",
      "17:\tlearn: 0.3924500\ttotal: 9.07s\tremaining: 6.05s\n",
      "18:\tlearn: 0.3911299\ttotal: 9.64s\tremaining: 5.58s\n",
      "19:\tlearn: 0.3901713\ttotal: 10.2s\tremaining: 5.09s\n",
      "20:\tlearn: 0.3881565\ttotal: 10.8s\tremaining: 4.61s\n",
      "21:\tlearn: 0.3865333\ttotal: 11.2s\tremaining: 4.08s\n",
      "22:\tlearn: 0.3852225\ttotal: 11.7s\tremaining: 3.56s\n",
      "23:\tlearn: 0.3841622\ttotal: 12.3s\tremaining: 3.07s\n",
      "24:\tlearn: 0.3832304\ttotal: 12.8s\tremaining: 2.57s\n",
      "25:\tlearn: 0.3824875\ttotal: 13.4s\tremaining: 2.06s\n",
      "26:\tlearn: 0.3818131\ttotal: 13.9s\tremaining: 1.54s\n",
      "27:\tlearn: 0.3812794\ttotal: 14.3s\tremaining: 1.02s\n",
      "28:\tlearn: 0.3807547\ttotal: 14.8s\tremaining: 511ms\n",
      "29:\tlearn: 0.3803424\ttotal: 15.3s\tremaining: 0us\n",
      "0:\tlearn: 0.6284670\ttotal: 427ms\tremaining: 12.4s\n",
      "1:\tlearn: 0.5777319\ttotal: 897ms\tremaining: 12.6s\n",
      "2:\tlearn: 0.5373990\ttotal: 1.34s\tremaining: 12.1s\n",
      "3:\tlearn: 0.5074039\ttotal: 1.64s\tremaining: 10.7s\n",
      "4:\tlearn: 0.4819977\ttotal: 2.08s\tremaining: 10.4s\n",
      "5:\tlearn: 0.4628275\ttotal: 2.44s\tremaining: 9.77s\n",
      "6:\tlearn: 0.4483511\ttotal: 2.96s\tremaining: 9.71s\n",
      "7:\tlearn: 0.4368431\ttotal: 3.32s\tremaining: 9.13s\n",
      "8:\tlearn: 0.4268463\ttotal: 3.7s\tremaining: 8.63s\n",
      "9:\tlearn: 0.4187083\ttotal: 4.06s\tremaining: 8.13s\n",
      "10:\tlearn: 0.4123040\ttotal: 4.44s\tremaining: 7.68s\n",
      "11:\tlearn: 0.4075383\ttotal: 4.82s\tremaining: 7.23s\n",
      "12:\tlearn: 0.4039473\ttotal: 5.16s\tremaining: 6.75s\n",
      "13:\tlearn: 0.4005485\ttotal: 5.63s\tremaining: 6.44s\n",
      "14:\tlearn: 0.3978790\ttotal: 6.14s\tremaining: 6.14s\n",
      "15:\tlearn: 0.3956835\ttotal: 6.59s\tremaining: 5.77s\n",
      "16:\tlearn: 0.3939576\ttotal: 7.05s\tremaining: 5.39s\n",
      "17:\tlearn: 0.3928798\ttotal: 7.26s\tremaining: 4.84s\n",
      "18:\tlearn: 0.3921049\ttotal: 7.42s\tremaining: 4.3s\n",
      "19:\tlearn: 0.3911615\ttotal: 7.86s\tremaining: 3.93s\n",
      "20:\tlearn: 0.3891030\ttotal: 8.26s\tremaining: 3.54s\n",
      "21:\tlearn: 0.3875438\ttotal: 8.64s\tremaining: 3.14s\n",
      "22:\tlearn: 0.3860884\ttotal: 9.04s\tremaining: 2.75s\n",
      "23:\tlearn: 0.3849491\ttotal: 9.43s\tremaining: 2.36s\n",
      "24:\tlearn: 0.3838507\ttotal: 9.82s\tremaining: 1.96s\n",
      "25:\tlearn: 0.3830520\ttotal: 10.2s\tremaining: 1.57s\n",
      "26:\tlearn: 0.3823042\ttotal: 10.6s\tremaining: 1.18s\n",
      "27:\tlearn: 0.3817067\ttotal: 11s\tremaining: 787ms\n",
      "28:\tlearn: 0.3812060\ttotal: 11.4s\tremaining: 393ms\n",
      "29:\tlearn: 0.3807399\ttotal: 11.8s\tremaining: 0us\n",
      "0:\tlearn: 0.6284943\ttotal: 535ms\tremaining: 15.5s\n"
     ]
    },
    {
     "name": "stdout",
     "output_type": "stream",
     "text": [
      "1:\tlearn: 0.5779127\ttotal: 1.07s\tremaining: 15s\n",
      "2:\tlearn: 0.5389648\ttotal: 1.54s\tremaining: 13.8s\n",
      "3:\tlearn: 0.5072095\ttotal: 2.03s\tremaining: 13.2s\n",
      "4:\tlearn: 0.4822722\ttotal: 2.42s\tremaining: 12.1s\n",
      "5:\tlearn: 0.4634851\ttotal: 2.85s\tremaining: 11.4s\n",
      "6:\tlearn: 0.4478205\ttotal: 3.23s\tremaining: 10.6s\n",
      "7:\tlearn: 0.4358638\ttotal: 3.67s\tremaining: 10.1s\n",
      "8:\tlearn: 0.4268355\ttotal: 3.99s\tremaining: 9.31s\n",
      "9:\tlearn: 0.4197169\ttotal: 4.46s\tremaining: 8.91s\n",
      "10:\tlearn: 0.4140772\ttotal: 4.83s\tremaining: 8.34s\n",
      "11:\tlearn: 0.4087001\ttotal: 5.19s\tremaining: 7.78s\n",
      "12:\tlearn: 0.4046365\ttotal: 5.57s\tremaining: 7.28s\n",
      "13:\tlearn: 0.4013498\ttotal: 5.9s\tremaining: 6.75s\n",
      "14:\tlearn: 0.3986986\ttotal: 6.32s\tremaining: 6.32s\n",
      "15:\tlearn: 0.3966203\ttotal: 6.7s\tremaining: 5.86s\n",
      "16:\tlearn: 0.3945620\ttotal: 7.07s\tremaining: 5.4s\n",
      "17:\tlearn: 0.3931695\ttotal: 7.42s\tremaining: 4.95s\n",
      "18:\tlearn: 0.3918507\ttotal: 7.76s\tremaining: 4.5s\n",
      "19:\tlearn: 0.3906858\ttotal: 8.12s\tremaining: 4.06s\n",
      "20:\tlearn: 0.3886639\ttotal: 8.49s\tremaining: 3.64s\n",
      "21:\tlearn: 0.3872135\ttotal: 8.86s\tremaining: 3.22s\n",
      "22:\tlearn: 0.3857537\ttotal: 9.25s\tremaining: 2.81s\n",
      "23:\tlearn: 0.3847609\ttotal: 9.6s\tremaining: 2.4s\n",
      "24:\tlearn: 0.3837659\ttotal: 10s\tremaining: 2s\n",
      "25:\tlearn: 0.3829106\ttotal: 10.4s\tremaining: 1.6s\n",
      "26:\tlearn: 0.3823147\ttotal: 10.8s\tremaining: 1.2s\n",
      "27:\tlearn: 0.3816697\ttotal: 11.1s\tremaining: 795ms\n",
      "28:\tlearn: 0.3811872\ttotal: 11.5s\tremaining: 397ms\n",
      "29:\tlearn: 0.3807368\ttotal: 11.9s\tremaining: 0us\n",
      "0:\tlearn: 0.6285318\ttotal: 270ms\tremaining: 7.83s\n",
      "1:\tlearn: 0.5776080\ttotal: 622ms\tremaining: 8.71s\n",
      "2:\tlearn: 0.5374039\ttotal: 1.03s\tremaining: 9.3s\n",
      "3:\tlearn: 0.5063035\ttotal: 1.38s\tremaining: 8.98s\n",
      "4:\tlearn: 0.4825873\ttotal: 1.74s\tremaining: 8.72s\n",
      "5:\tlearn: 0.4630614\ttotal: 2.1s\tremaining: 8.4s\n",
      "6:\tlearn: 0.4473238\ttotal: 2.42s\tremaining: 7.96s\n",
      "7:\tlearn: 0.4356556\ttotal: 2.77s\tremaining: 7.62s\n",
      "8:\tlearn: 0.4264562\ttotal: 3.14s\tremaining: 7.33s\n",
      "9:\tlearn: 0.4192191\ttotal: 3.48s\tremaining: 6.96s\n",
      "10:\tlearn: 0.4126936\ttotal: 3.84s\tremaining: 6.64s\n",
      "11:\tlearn: 0.4079600\ttotal: 4.18s\tremaining: 6.28s\n",
      "12:\tlearn: 0.4036137\ttotal: 4.53s\tremaining: 5.92s\n",
      "13:\tlearn: 0.4005535\ttotal: 4.86s\tremaining: 5.55s\n",
      "14:\tlearn: 0.3983600\ttotal: 5.12s\tremaining: 5.12s\n",
      "15:\tlearn: 0.3959001\ttotal: 5.49s\tremaining: 4.81s\n",
      "16:\tlearn: 0.3939956\ttotal: 5.83s\tremaining: 4.46s\n",
      "17:\tlearn: 0.3924204\ttotal: 6.2s\tremaining: 4.13s\n",
      "18:\tlearn: 0.3912557\ttotal: 6.55s\tremaining: 3.79s\n",
      "19:\tlearn: 0.3903025\ttotal: 6.9s\tremaining: 3.45s\n",
      "20:\tlearn: 0.3883620\ttotal: 7.26s\tremaining: 3.11s\n",
      "21:\tlearn: 0.3866606\ttotal: 7.63s\tremaining: 2.77s\n",
      "22:\tlearn: 0.3854283\ttotal: 8s\tremaining: 2.43s\n",
      "23:\tlearn: 0.3842096\ttotal: 8.35s\tremaining: 2.09s\n",
      "24:\tlearn: 0.3832897\ttotal: 8.7s\tremaining: 1.74s\n",
      "25:\tlearn: 0.3825090\ttotal: 9.07s\tremaining: 1.4s\n",
      "26:\tlearn: 0.3817941\ttotal: 9.44s\tremaining: 1.05s\n",
      "27:\tlearn: 0.3812357\ttotal: 9.78s\tremaining: 698ms\n",
      "28:\tlearn: 0.3807496\ttotal: 10.1s\tremaining: 350ms\n",
      "29:\tlearn: 0.3802991\ttotal: 10.5s\tremaining: 0us\n",
      "0:\tlearn: 0.5733117\ttotal: 266ms\tremaining: 7.72s\n",
      "1:\tlearn: 0.5029549\ttotal: 493ms\tremaining: 6.9s\n",
      "2:\tlearn: 0.4610257\ttotal: 772ms\tremaining: 6.95s\n",
      "3:\tlearn: 0.4356417\ttotal: 1.06s\tremaining: 6.87s\n",
      "4:\tlearn: 0.4183442\ttotal: 1.35s\tremaining: 6.78s\n",
      "5:\tlearn: 0.4089778\ttotal: 1.59s\tremaining: 6.37s\n",
      "6:\tlearn: 0.4018940\ttotal: 1.82s\tremaining: 5.98s\n",
      "7:\tlearn: 0.3973098\ttotal: 2.09s\tremaining: 5.75s\n",
      "8:\tlearn: 0.3943529\ttotal: 2.38s\tremaining: 5.54s\n",
      "9:\tlearn: 0.3923398\ttotal: 2.64s\tremaining: 5.27s\n",
      "10:\tlearn: 0.3890681\ttotal: 2.92s\tremaining: 5.05s\n",
      "11:\tlearn: 0.3870277\ttotal: 3.16s\tremaining: 4.74s\n",
      "12:\tlearn: 0.3854897\ttotal: 3.44s\tremaining: 4.5s\n",
      "13:\tlearn: 0.3843161\ttotal: 3.65s\tremaining: 4.18s\n",
      "14:\tlearn: 0.3834954\ttotal: 3.89s\tremaining: 3.89s\n",
      "15:\tlearn: 0.3829659\ttotal: 4.18s\tremaining: 3.66s\n",
      "16:\tlearn: 0.3824575\ttotal: 4.43s\tremaining: 3.39s\n",
      "17:\tlearn: 0.3821587\ttotal: 4.69s\tremaining: 3.13s\n",
      "18:\tlearn: 0.3818029\ttotal: 4.96s\tremaining: 2.87s\n",
      "19:\tlearn: 0.3813384\ttotal: 5.18s\tremaining: 2.59s\n",
      "20:\tlearn: 0.3809511\ttotal: 5.42s\tremaining: 2.32s\n",
      "21:\tlearn: 0.3807274\ttotal: 5.66s\tremaining: 2.06s\n",
      "22:\tlearn: 0.3803369\ttotal: 5.95s\tremaining: 1.81s\n",
      "23:\tlearn: 0.3800795\ttotal: 6.19s\tremaining: 1.55s\n",
      "24:\tlearn: 0.3798733\ttotal: 6.45s\tremaining: 1.29s\n",
      "25:\tlearn: 0.3796378\ttotal: 6.72s\tremaining: 1.03s\n",
      "26:\tlearn: 0.3794110\ttotal: 6.97s\tremaining: 774ms\n",
      "27:\tlearn: 0.3791693\ttotal: 7.23s\tremaining: 516ms\n",
      "28:\tlearn: 0.3789972\ttotal: 7.46s\tremaining: 257ms\n",
      "29:\tlearn: 0.3787939\ttotal: 7.7s\tremaining: 0us\n",
      "0:\tlearn: 0.5734364\ttotal: 282ms\tremaining: 8.18s\n",
      "1:\tlearn: 0.5030789\ttotal: 532ms\tremaining: 7.45s\n",
      "2:\tlearn: 0.4612297\ttotal: 824ms\tremaining: 7.42s\n",
      "3:\tlearn: 0.4357625\ttotal: 1.08s\tremaining: 7.05s\n",
      "4:\tlearn: 0.4184349\ttotal: 1.34s\tremaining: 6.68s\n",
      "5:\tlearn: 0.4086350\ttotal: 1.61s\tremaining: 6.45s\n",
      "6:\tlearn: 0.4016474\ttotal: 1.86s\tremaining: 6.12s\n",
      "7:\tlearn: 0.3971073\ttotal: 2.12s\tremaining: 5.83s\n",
      "8:\tlearn: 0.3944655\ttotal: 2.35s\tremaining: 5.5s\n",
      "9:\tlearn: 0.3904899\ttotal: 2.65s\tremaining: 5.29s\n",
      "10:\tlearn: 0.3875925\ttotal: 2.94s\tremaining: 5.07s\n",
      "11:\tlearn: 0.3858471\ttotal: 3.27s\tremaining: 4.91s\n",
      "12:\tlearn: 0.3846123\ttotal: 3.51s\tremaining: 4.59s\n",
      "13:\tlearn: 0.3836670\ttotal: 3.84s\tremaining: 4.39s\n",
      "14:\tlearn: 0.3829772\ttotal: 4.09s\tremaining: 4.09s\n",
      "15:\tlearn: 0.3824275\ttotal: 4.36s\tremaining: 3.82s\n",
      "16:\tlearn: 0.3820495\ttotal: 4.63s\tremaining: 3.54s\n",
      "17:\tlearn: 0.3815558\ttotal: 4.92s\tremaining: 3.28s\n",
      "18:\tlearn: 0.3811002\ttotal: 5.19s\tremaining: 3.01s\n",
      "19:\tlearn: 0.3807207\ttotal: 5.43s\tremaining: 2.72s\n",
      "20:\tlearn: 0.3804698\ttotal: 5.71s\tremaining: 2.45s\n",
      "21:\tlearn: 0.3800827\ttotal: 6.1s\tremaining: 2.22s\n",
      "22:\tlearn: 0.3798567\ttotal: 6.41s\tremaining: 1.95s\n",
      "23:\tlearn: 0.3795752\ttotal: 6.65s\tremaining: 1.66s\n",
      "24:\tlearn: 0.3793326\ttotal: 6.9s\tremaining: 1.38s\n",
      "25:\tlearn: 0.3791126\ttotal: 7.21s\tremaining: 1.11s\n",
      "26:\tlearn: 0.3789693\ttotal: 7.46s\tremaining: 829ms\n",
      "27:\tlearn: 0.3788179\ttotal: 7.75s\tremaining: 554ms\n",
      "28:\tlearn: 0.3787240\ttotal: 8.01s\tremaining: 276ms\n",
      "29:\tlearn: 0.3785987\ttotal: 8.27s\tremaining: 0us\n",
      "0:\tlearn: 0.5728953\ttotal: 321ms\tremaining: 9.32s\n",
      "1:\tlearn: 0.5020264\ttotal: 592ms\tremaining: 8.29s\n",
      "2:\tlearn: 0.4618089\ttotal: 798ms\tremaining: 7.18s\n",
      "3:\tlearn: 0.4364694\ttotal: 1.06s\tremaining: 6.9s\n",
      "4:\tlearn: 0.4193528\ttotal: 1.3s\tremaining: 6.52s\n",
      "5:\tlearn: 0.4083658\ttotal: 1.57s\tremaining: 6.27s\n",
      "6:\tlearn: 0.4022565\ttotal: 1.84s\tremaining: 6.05s\n",
      "7:\tlearn: 0.3976500\ttotal: 2.1s\tremaining: 5.77s\n",
      "8:\tlearn: 0.3950546\ttotal: 2.36s\tremaining: 5.52s\n",
      "9:\tlearn: 0.3931923\ttotal: 2.62s\tremaining: 5.23s\n",
      "10:\tlearn: 0.3892365\ttotal: 2.89s\tremaining: 5s\n",
      "11:\tlearn: 0.3869186\ttotal: 3.13s\tremaining: 4.7s\n",
      "12:\tlearn: 0.3851180\ttotal: 3.42s\tremaining: 4.47s\n",
      "13:\tlearn: 0.3839257\ttotal: 3.65s\tremaining: 4.17s\n",
      "14:\tlearn: 0.3830907\ttotal: 3.92s\tremaining: 3.92s\n",
      "15:\tlearn: 0.3824843\ttotal: 4.17s\tremaining: 3.65s\n",
      "16:\tlearn: 0.3820072\ttotal: 4.44s\tremaining: 3.4s\n",
      "17:\tlearn: 0.3817385\ttotal: 4.71s\tremaining: 3.14s\n",
      "18:\tlearn: 0.3811823\ttotal: 4.95s\tremaining: 2.87s\n",
      "19:\tlearn: 0.3807899\ttotal: 5.21s\tremaining: 2.6s\n",
      "20:\tlearn: 0.3805474\ttotal: 5.49s\tremaining: 2.35s\n",
      "21:\tlearn: 0.3802237\ttotal: 5.74s\tremaining: 2.09s\n",
      "22:\tlearn: 0.3800058\ttotal: 5.97s\tremaining: 1.82s\n",
      "23:\tlearn: 0.3797681\ttotal: 6.21s\tremaining: 1.55s\n",
      "24:\tlearn: 0.3795850\ttotal: 6.49s\tremaining: 1.3s\n",
      "25:\tlearn: 0.3792521\ttotal: 6.75s\tremaining: 1.04s\n",
      "26:\tlearn: 0.3790420\ttotal: 7.01s\tremaining: 779ms\n",
      "27:\tlearn: 0.3788270\ttotal: 7.29s\tremaining: 521ms\n",
      "28:\tlearn: 0.3786941\ttotal: 7.54s\tremaining: 260ms\n",
      "29:\tlearn: 0.3785652\ttotal: 7.79s\tremaining: 0us\n",
      "0:\tlearn: 0.5729423\ttotal: 304ms\tremaining: 8.81s\n",
      "1:\tlearn: 0.5022391\ttotal: 567ms\tremaining: 7.94s\n",
      "2:\tlearn: 0.4607075\ttotal: 847ms\tremaining: 7.63s\n",
      "3:\tlearn: 0.4339389\ttotal: 1.07s\tremaining: 6.97s\n",
      "4:\tlearn: 0.4172732\ttotal: 1.34s\tremaining: 6.71s\n",
      "5:\tlearn: 0.4085407\ttotal: 1.6s\tremaining: 6.4s\n",
      "6:\tlearn: 0.4018160\ttotal: 1.87s\tremaining: 6.13s\n",
      "7:\tlearn: 0.3973775\ttotal: 2.11s\tremaining: 5.8s\n",
      "8:\tlearn: 0.3945660\ttotal: 2.36s\tremaining: 5.5s\n",
      "9:\tlearn: 0.3921353\ttotal: 2.61s\tremaining: 5.23s\n",
      "10:\tlearn: 0.3889013\ttotal: 2.87s\tremaining: 4.95s\n",
      "11:\tlearn: 0.3866299\ttotal: 3.14s\tremaining: 4.72s\n",
      "12:\tlearn: 0.3851144\ttotal: 3.36s\tremaining: 4.4s\n",
      "13:\tlearn: 0.3841482\ttotal: 3.63s\tremaining: 4.14s\n"
     ]
    },
    {
     "name": "stdout",
     "output_type": "stream",
     "text": [
      "14:\tlearn: 0.3832847\ttotal: 3.87s\tremaining: 3.87s\n",
      "15:\tlearn: 0.3827215\ttotal: 4.12s\tremaining: 3.6s\n",
      "16:\tlearn: 0.3822911\ttotal: 4.39s\tremaining: 3.35s\n",
      "17:\tlearn: 0.3819039\ttotal: 4.64s\tremaining: 3.09s\n",
      "18:\tlearn: 0.3815920\ttotal: 4.89s\tremaining: 2.83s\n",
      "19:\tlearn: 0.3811379\ttotal: 5.16s\tremaining: 2.58s\n",
      "20:\tlearn: 0.3806940\ttotal: 5.4s\tremaining: 2.31s\n",
      "21:\tlearn: 0.3803677\ttotal: 5.64s\tremaining: 2.05s\n",
      "22:\tlearn: 0.3801417\ttotal: 5.9s\tremaining: 1.79s\n",
      "23:\tlearn: 0.3798639\ttotal: 6.13s\tremaining: 1.53s\n",
      "24:\tlearn: 0.3797048\ttotal: 6.39s\tremaining: 1.28s\n",
      "25:\tlearn: 0.3793648\ttotal: 6.67s\tremaining: 1.03s\n",
      "26:\tlearn: 0.3791640\ttotal: 6.9s\tremaining: 767ms\n",
      "27:\tlearn: 0.3790510\ttotal: 7.16s\tremaining: 511ms\n",
      "28:\tlearn: 0.3788287\ttotal: 7.37s\tremaining: 254ms\n",
      "29:\tlearn: 0.3786654\ttotal: 7.61s\tremaining: 0us\n",
      "0:\tlearn: 0.5730135\ttotal: 277ms\tremaining: 8.04s\n",
      "1:\tlearn: 0.5030908\ttotal: 498ms\tremaining: 6.97s\n",
      "2:\tlearn: 0.4583563\ttotal: 774ms\tremaining: 6.97s\n",
      "3:\tlearn: 0.4324910\ttotal: 1.09s\tremaining: 7.08s\n",
      "4:\tlearn: 0.4171547\ttotal: 1.37s\tremaining: 6.86s\n",
      "5:\tlearn: 0.4066544\ttotal: 1.63s\tremaining: 6.53s\n",
      "6:\tlearn: 0.4001179\ttotal: 1.89s\tremaining: 6.2s\n",
      "7:\tlearn: 0.3960474\ttotal: 2.14s\tremaining: 5.89s\n",
      "8:\tlearn: 0.3936392\ttotal: 2.39s\tremaining: 5.57s\n",
      "9:\tlearn: 0.3915853\ttotal: 2.65s\tremaining: 5.3s\n",
      "10:\tlearn: 0.3883166\ttotal: 2.93s\tremaining: 5.07s\n",
      "11:\tlearn: 0.3861335\ttotal: 3.16s\tremaining: 4.75s\n",
      "12:\tlearn: 0.3846169\ttotal: 3.39s\tremaining: 4.44s\n",
      "13:\tlearn: 0.3835957\ttotal: 3.67s\tremaining: 4.19s\n",
      "14:\tlearn: 0.3827204\ttotal: 3.89s\tremaining: 3.89s\n",
      "15:\tlearn: 0.3822184\ttotal: 4.15s\tremaining: 3.63s\n",
      "16:\tlearn: 0.3817901\ttotal: 4.42s\tremaining: 3.38s\n",
      "17:\tlearn: 0.3814227\ttotal: 4.67s\tremaining: 3.11s\n",
      "18:\tlearn: 0.3809974\ttotal: 4.9s\tremaining: 2.84s\n",
      "19:\tlearn: 0.3804750\ttotal: 5.17s\tremaining: 2.58s\n",
      "20:\tlearn: 0.3801079\ttotal: 5.38s\tremaining: 2.31s\n",
      "21:\tlearn: 0.3798801\ttotal: 5.64s\tremaining: 2.05s\n",
      "22:\tlearn: 0.3796590\ttotal: 5.89s\tremaining: 1.79s\n",
      "23:\tlearn: 0.3794736\ttotal: 6.15s\tremaining: 1.54s\n",
      "24:\tlearn: 0.3792253\ttotal: 6.38s\tremaining: 1.28s\n",
      "25:\tlearn: 0.3790475\ttotal: 6.65s\tremaining: 1.02s\n",
      "26:\tlearn: 0.3788394\ttotal: 6.89s\tremaining: 765ms\n",
      "27:\tlearn: 0.3787253\ttotal: 7.14s\tremaining: 510ms\n",
      "28:\tlearn: 0.3784833\ttotal: 7.37s\tremaining: 254ms\n",
      "29:\tlearn: 0.3783626\ttotal: 7.64s\tremaining: 0us\n",
      "0:\tlearn: 0.6284439\ttotal: 302ms\tremaining: 8.76s\n",
      "1:\tlearn: 0.5789586\ttotal: 620ms\tremaining: 8.68s\n",
      "2:\tlearn: 0.5391541\ttotal: 891ms\tremaining: 8.02s\n",
      "3:\tlearn: 0.5082481\ttotal: 1.17s\tremaining: 7.58s\n",
      "4:\tlearn: 0.4833402\ttotal: 1.47s\tremaining: 7.34s\n",
      "5:\tlearn: 0.4650028\ttotal: 1.8s\tremaining: 7.19s\n",
      "6:\tlearn: 0.4499544\ttotal: 2.09s\tremaining: 6.86s\n",
      "7:\tlearn: 0.4374743\ttotal: 2.38s\tremaining: 6.56s\n",
      "8:\tlearn: 0.4279088\ttotal: 2.67s\tremaining: 6.23s\n",
      "9:\tlearn: 0.4206791\ttotal: 2.97s\tremaining: 5.93s\n",
      "10:\tlearn: 0.4148268\ttotal: 3.24s\tremaining: 5.6s\n",
      "11:\tlearn: 0.4096253\ttotal: 3.52s\tremaining: 5.29s\n",
      "12:\tlearn: 0.4058637\ttotal: 3.79s\tremaining: 4.96s\n",
      "13:\tlearn: 0.4023567\ttotal: 4.08s\tremaining: 4.66s\n",
      "14:\tlearn: 0.3998989\ttotal: 4.35s\tremaining: 4.35s\n",
      "15:\tlearn: 0.3978405\ttotal: 4.63s\tremaining: 4.05s\n",
      "16:\tlearn: 0.3959356\ttotal: 4.93s\tremaining: 3.77s\n",
      "17:\tlearn: 0.3944033\ttotal: 5.21s\tremaining: 3.48s\n",
      "18:\tlearn: 0.3931323\ttotal: 5.5s\tremaining: 3.18s\n",
      "19:\tlearn: 0.3919359\ttotal: 5.79s\tremaining: 2.9s\n",
      "20:\tlearn: 0.3899841\ttotal: 6.11s\tremaining: 2.62s\n",
      "21:\tlearn: 0.3884850\ttotal: 6.38s\tremaining: 2.32s\n",
      "22:\tlearn: 0.3872283\ttotal: 6.65s\tremaining: 2.02s\n",
      "23:\tlearn: 0.3860722\ttotal: 6.92s\tremaining: 1.73s\n",
      "24:\tlearn: 0.3852234\ttotal: 7.18s\tremaining: 1.44s\n",
      "25:\tlearn: 0.3844600\ttotal: 7.47s\tremaining: 1.15s\n",
      "26:\tlearn: 0.3838056\ttotal: 7.72s\tremaining: 858ms\n",
      "27:\tlearn: 0.3832342\ttotal: 8.03s\tremaining: 573ms\n",
      "28:\tlearn: 0.3827939\ttotal: 8.31s\tremaining: 287ms\n",
      "29:\tlearn: 0.3823633\ttotal: 8.61s\tremaining: 0us\n",
      "0:\tlearn: 0.6285201\ttotal: 313ms\tremaining: 9.07s\n",
      "1:\tlearn: 0.5788181\ttotal: 621ms\tremaining: 8.69s\n",
      "2:\tlearn: 0.5389825\ttotal: 897ms\tremaining: 8.07s\n",
      "3:\tlearn: 0.5075175\ttotal: 1.18s\tremaining: 7.7s\n",
      "4:\tlearn: 0.4839523\ttotal: 1.47s\tremaining: 7.33s\n",
      "5:\tlearn: 0.4646386\ttotal: 1.79s\tremaining: 7.18s\n",
      "6:\tlearn: 0.4493453\ttotal: 2.15s\tremaining: 7.05s\n",
      "7:\tlearn: 0.4384420\ttotal: 2.3s\tremaining: 6.33s\n",
      "8:\tlearn: 0.4289259\ttotal: 2.58s\tremaining: 6.03s\n",
      "9:\tlearn: 0.4214791\ttotal: 2.85s\tremaining: 5.7s\n",
      "10:\tlearn: 0.4147873\ttotal: 3.15s\tremaining: 5.44s\n",
      "11:\tlearn: 0.4096871\ttotal: 3.42s\tremaining: 5.12s\n",
      "12:\tlearn: 0.4059444\ttotal: 3.71s\tremaining: 4.85s\n",
      "13:\tlearn: 0.4023989\ttotal: 3.97s\tremaining: 4.54s\n",
      "14:\tlearn: 0.3997239\ttotal: 4.26s\tremaining: 4.26s\n",
      "15:\tlearn: 0.3975998\ttotal: 4.54s\tremaining: 3.98s\n",
      "16:\tlearn: 0.3958897\ttotal: 4.81s\tremaining: 3.68s\n",
      "17:\tlearn: 0.3942708\ttotal: 5.06s\tremaining: 3.37s\n",
      "18:\tlearn: 0.3931470\ttotal: 5.32s\tremaining: 3.08s\n",
      "19:\tlearn: 0.3918847\ttotal: 5.62s\tremaining: 2.81s\n",
      "20:\tlearn: 0.3900864\ttotal: 5.95s\tremaining: 2.55s\n",
      "21:\tlearn: 0.3885435\ttotal: 6.24s\tremaining: 2.27s\n",
      "22:\tlearn: 0.3871179\ttotal: 6.55s\tremaining: 1.99s\n",
      "23:\tlearn: 0.3860425\ttotal: 6.87s\tremaining: 1.72s\n",
      "24:\tlearn: 0.3851155\ttotal: 7.14s\tremaining: 1.43s\n",
      "25:\tlearn: 0.3843081\ttotal: 7.42s\tremaining: 1.14s\n",
      "26:\tlearn: 0.3837036\ttotal: 7.71s\tremaining: 857ms\n",
      "27:\tlearn: 0.3831338\ttotal: 8.01s\tremaining: 572ms\n",
      "28:\tlearn: 0.3826608\ttotal: 8.28s\tremaining: 286ms\n",
      "29:\tlearn: 0.3822535\ttotal: 8.56s\tremaining: 0us\n",
      "0:\tlearn: 0.6284670\ttotal: 303ms\tremaining: 8.79s\n",
      "1:\tlearn: 0.5779075\ttotal: 580ms\tremaining: 8.12s\n",
      "2:\tlearn: 0.5393569\ttotal: 814ms\tremaining: 7.33s\n",
      "3:\tlearn: 0.5077985\ttotal: 1.1s\tremaining: 7.17s\n",
      "4:\tlearn: 0.4834598\ttotal: 1.39s\tremaining: 6.94s\n",
      "5:\tlearn: 0.4648884\ttotal: 1.66s\tremaining: 6.64s\n",
      "6:\tlearn: 0.4491167\ttotal: 1.96s\tremaining: 6.43s\n",
      "7:\tlearn: 0.4375229\ttotal: 2.29s\tremaining: 6.29s\n",
      "8:\tlearn: 0.4281848\ttotal: 2.55s\tremaining: 5.96s\n",
      "9:\tlearn: 0.4203612\ttotal: 2.86s\tremaining: 5.72s\n",
      "10:\tlearn: 0.4146397\ttotal: 3.15s\tremaining: 5.45s\n",
      "11:\tlearn: 0.4097006\ttotal: 3.45s\tremaining: 5.18s\n",
      "12:\tlearn: 0.4060290\ttotal: 3.68s\tremaining: 4.81s\n",
      "13:\tlearn: 0.4026278\ttotal: 3.98s\tremaining: 4.55s\n",
      "14:\tlearn: 0.4001638\ttotal: 4.27s\tremaining: 4.27s\n",
      "15:\tlearn: 0.3978969\ttotal: 4.56s\tremaining: 3.99s\n",
      "16:\tlearn: 0.3958719\ttotal: 4.85s\tremaining: 3.71s\n",
      "17:\tlearn: 0.3943515\ttotal: 5.14s\tremaining: 3.43s\n",
      "18:\tlearn: 0.3928655\ttotal: 5.44s\tremaining: 3.15s\n",
      "19:\tlearn: 0.3918661\ttotal: 5.74s\tremaining: 2.87s\n",
      "20:\tlearn: 0.3899376\ttotal: 6.07s\tremaining: 2.6s\n",
      "21:\tlearn: 0.3884478\ttotal: 6.34s\tremaining: 2.31s\n",
      "22:\tlearn: 0.3871040\ttotal: 6.65s\tremaining: 2.02s\n",
      "23:\tlearn: 0.3860783\ttotal: 6.95s\tremaining: 1.74s\n",
      "24:\tlearn: 0.3851666\ttotal: 7.21s\tremaining: 1.44s\n",
      "25:\tlearn: 0.3844115\ttotal: 7.54s\tremaining: 1.16s\n",
      "26:\tlearn: 0.3837651\ttotal: 7.88s\tremaining: 876ms\n",
      "27:\tlearn: 0.3832445\ttotal: 8.21s\tremaining: 587ms\n",
      "28:\tlearn: 0.3827852\ttotal: 8.51s\tremaining: 293ms\n",
      "29:\tlearn: 0.3823409\ttotal: 8.8s\tremaining: 0us\n",
      "0:\tlearn: 0.6284943\ttotal: 387ms\tremaining: 11.2s\n",
      "1:\tlearn: 0.5780925\ttotal: 776ms\tremaining: 10.9s\n",
      "2:\tlearn: 0.5391895\ttotal: 1.08s\tremaining: 9.7s\n",
      "3:\tlearn: 0.5074801\ttotal: 1.32s\tremaining: 8.59s\n",
      "4:\tlearn: 0.4841833\ttotal: 1.7s\tremaining: 8.48s\n",
      "5:\tlearn: 0.4649059\ttotal: 1.97s\tremaining: 7.9s\n",
      "6:\tlearn: 0.4499408\ttotal: 2.33s\tremaining: 7.66s\n",
      "7:\tlearn: 0.4383843\ttotal: 2.64s\tremaining: 7.25s\n",
      "8:\tlearn: 0.4289788\ttotal: 3.04s\tremaining: 7.09s\n",
      "9:\tlearn: 0.4215312\ttotal: 3.31s\tremaining: 6.62s\n",
      "10:\tlearn: 0.4147850\ttotal: 3.72s\tremaining: 6.43s\n",
      "11:\tlearn: 0.4099286\ttotal: 4s\tremaining: 6s\n",
      "12:\tlearn: 0.4057987\ttotal: 4.37s\tremaining: 5.71s\n",
      "13:\tlearn: 0.4028970\ttotal: 4.66s\tremaining: 5.33s\n",
      "14:\tlearn: 0.4000474\ttotal: 4.94s\tremaining: 4.94s\n",
      "15:\tlearn: 0.3978067\ttotal: 5.24s\tremaining: 4.58s\n",
      "16:\tlearn: 0.3960823\ttotal: 5.57s\tremaining: 4.26s\n",
      "17:\tlearn: 0.3945651\ttotal: 5.86s\tremaining: 3.9s\n",
      "18:\tlearn: 0.3933462\ttotal: 6.16s\tremaining: 3.56s\n",
      "19:\tlearn: 0.3922043\ttotal: 6.41s\tremaining: 3.21s\n",
      "20:\tlearn: 0.3904045\ttotal: 6.79s\tremaining: 2.91s\n",
      "21:\tlearn: 0.3888541\ttotal: 7.1s\tremaining: 2.58s\n",
      "22:\tlearn: 0.3875854\ttotal: 7.36s\tremaining: 2.24s\n",
      "23:\tlearn: 0.3863685\ttotal: 7.66s\tremaining: 1.92s\n",
      "24:\tlearn: 0.3853665\ttotal: 7.96s\tremaining: 1.59s\n",
      "25:\tlearn: 0.3845997\ttotal: 8.29s\tremaining: 1.28s\n",
      "26:\tlearn: 0.3839117\ttotal: 8.63s\tremaining: 959ms\n"
     ]
    },
    {
     "name": "stdout",
     "output_type": "stream",
     "text": [
      "27:\tlearn: 0.3833654\ttotal: 8.95s\tremaining: 639ms\n",
      "28:\tlearn: 0.3829140\ttotal: 9.21s\tremaining: 318ms\n",
      "29:\tlearn: 0.3825207\ttotal: 9.49s\tremaining: 0us\n",
      "0:\tlearn: 0.6285318\ttotal: 279ms\tremaining: 8.09s\n",
      "1:\tlearn: 0.5790730\ttotal: 573ms\tremaining: 8.02s\n",
      "2:\tlearn: 0.5396664\ttotal: 900ms\tremaining: 8.1s\n",
      "3:\tlearn: 0.5077284\ttotal: 1.19s\tremaining: 7.75s\n",
      "4:\tlearn: 0.4839071\ttotal: 1.48s\tremaining: 7.41s\n",
      "5:\tlearn: 0.4661769\ttotal: 1.64s\tremaining: 6.56s\n",
      "6:\tlearn: 0.4506240\ttotal: 1.94s\tremaining: 6.37s\n",
      "7:\tlearn: 0.4382620\ttotal: 2.26s\tremaining: 6.22s\n",
      "8:\tlearn: 0.4282846\ttotal: 2.65s\tremaining: 6.18s\n",
      "9:\tlearn: 0.4209614\ttotal: 2.95s\tremaining: 5.9s\n",
      "10:\tlearn: 0.4146022\ttotal: 3.26s\tremaining: 5.64s\n",
      "11:\tlearn: 0.4097607\ttotal: 3.59s\tremaining: 5.38s\n",
      "12:\tlearn: 0.4059734\ttotal: 3.91s\tremaining: 5.12s\n",
      "13:\tlearn: 0.4025196\ttotal: 4.21s\tremaining: 4.81s\n",
      "14:\tlearn: 0.3999562\ttotal: 4.52s\tremaining: 4.52s\n",
      "15:\tlearn: 0.3977431\ttotal: 4.83s\tremaining: 4.22s\n",
      "16:\tlearn: 0.3960170\ttotal: 5.12s\tremaining: 3.91s\n",
      "17:\tlearn: 0.3945828\ttotal: 5.41s\tremaining: 3.61s\n",
      "18:\tlearn: 0.3934370\ttotal: 5.72s\tremaining: 3.31s\n",
      "19:\tlearn: 0.3920986\ttotal: 6s\tremaining: 3s\n",
      "20:\tlearn: 0.3900217\ttotal: 6.35s\tremaining: 2.72s\n",
      "21:\tlearn: 0.3883837\ttotal: 6.62s\tremaining: 2.41s\n",
      "22:\tlearn: 0.3871096\ttotal: 6.93s\tremaining: 2.11s\n",
      "23:\tlearn: 0.3859343\ttotal: 7.24s\tremaining: 1.81s\n",
      "24:\tlearn: 0.3850220\ttotal: 7.51s\tremaining: 1.5s\n",
      "25:\tlearn: 0.3842169\ttotal: 7.83s\tremaining: 1.21s\n",
      "26:\tlearn: 0.3835865\ttotal: 8.13s\tremaining: 903ms\n",
      "27:\tlearn: 0.3830245\ttotal: 8.45s\tremaining: 603ms\n",
      "28:\tlearn: 0.3825967\ttotal: 8.78s\tremaining: 303ms\n",
      "29:\tlearn: 0.3822093\ttotal: 9.09s\tremaining: 0us\n",
      "0:\tlearn: 0.5985423\ttotal: 682ms\tremaining: 19.8s\n",
      "1:\tlearn: 0.5347848\ttotal: 1.11s\tremaining: 15.5s\n",
      "2:\tlearn: 0.4893162\ttotal: 1.79s\tremaining: 16.1s\n",
      "3:\tlearn: 0.4614214\ttotal: 2.08s\tremaining: 13.6s\n",
      "4:\tlearn: 0.4394036\ttotal: 2.74s\tremaining: 13.7s\n",
      "5:\tlearn: 0.4241771\ttotal: 3.38s\tremaining: 13.5s\n",
      "6:\tlearn: 0.4143565\ttotal: 3.96s\tremaining: 13s\n",
      "7:\tlearn: 0.4060042\ttotal: 4.5s\tremaining: 12.4s\n",
      "8:\tlearn: 0.4004149\ttotal: 5.13s\tremaining: 12s\n",
      "9:\tlearn: 0.3965106\ttotal: 5.71s\tremaining: 11.4s\n",
      "10:\tlearn: 0.3934938\ttotal: 6.35s\tremaining: 11s\n",
      "11:\tlearn: 0.3915131\ttotal: 6.85s\tremaining: 10.3s\n",
      "12:\tlearn: 0.3899192\ttotal: 7.41s\tremaining: 9.69s\n",
      "13:\tlearn: 0.3870002\ttotal: 7.95s\tremaining: 9.09s\n",
      "14:\tlearn: 0.3848169\ttotal: 8.51s\tremaining: 8.51s\n",
      "15:\tlearn: 0.3829318\ttotal: 9.09s\tremaining: 7.95s\n",
      "16:\tlearn: 0.3816540\ttotal: 9.65s\tremaining: 7.38s\n",
      "17:\tlearn: 0.3805419\ttotal: 10.2s\tremaining: 6.82s\n",
      "18:\tlearn: 0.3797557\ttotal: 10.8s\tremaining: 6.25s\n",
      "19:\tlearn: 0.3790890\ttotal: 11.3s\tremaining: 5.67s\n",
      "20:\tlearn: 0.3785740\ttotal: 11.9s\tremaining: 5.08s\n",
      "21:\tlearn: 0.3781338\ttotal: 12.4s\tremaining: 4.5s\n",
      "22:\tlearn: 0.3774576\ttotal: 12.9s\tremaining: 3.94s\n",
      "23:\tlearn: 0.3769661\ttotal: 13.6s\tremaining: 3.39s\n",
      "24:\tlearn: 0.3765538\ttotal: 14.2s\tremaining: 2.84s\n",
      "25:\tlearn: 0.3762350\ttotal: 14.8s\tremaining: 2.27s\n",
      "26:\tlearn: 0.3759805\ttotal: 15.3s\tremaining: 1.7s\n",
      "27:\tlearn: 0.3757651\ttotal: 15.9s\tremaining: 1.14s\n",
      "28:\tlearn: 0.3754893\ttotal: 16.6s\tremaining: 571ms\n",
      "29:\tlearn: 0.3752762\ttotal: 17.2s\tremaining: 0us\n",
      "{'learning_rate': 0.15000000000000002, 'max_depth': 9}\n",
      "0.7058680834462991\n"
     ]
    }
   ],
   "source": [
    "rscv = RandomizedSearchCV(cbc , param_dist, scoring='roc_auc', cv=5)\n",
    "\n",
    "rscv.fit(TRAIN,y)\n",
    "\n",
    "print(rscv.best_params_)\n",
    "print(rscv.best_score_)"
   ]
  },
  {
   "cell_type": "markdown",
   "id": "584d03bc",
   "metadata": {},
   "source": [
    "# Prediction"
   ]
  },
  {
   "cell_type": "code",
   "execution_count": 10,
   "id": "c9059738",
   "metadata": {},
   "outputs": [],
   "source": [
    "params = {\n",
    "    'iterations': 1000,\n",
    "    'loss_function': \"Logloss\",\n",
    "    'thread_count': 8, \n",
    "    'learning_rate': 0.15, \n",
    "    'max_depth': 9,\n",
    "    'random_state': 0,\n",
    "    'eval_metric': 'AUC',\n",
    "}"
   ]
  },
  {
   "cell_type": "code",
   "execution_count": 11,
   "id": "964f3583",
   "metadata": {},
   "outputs": [],
   "source": [
    "train_pool = catboost.Pool(\n",
    "    df_train,\n",
    "    label=y,\n",
    "    cat_features=cat_features\n",
    ")"
   ]
  },
  {
   "cell_type": "code",
   "execution_count": 12,
   "id": "db5a40ad",
   "metadata": {},
   "outputs": [
    {
     "name": "stdout",
     "output_type": "stream",
     "text": [
      "0:\ttest: 0.6471197\tbest: 0.6471197 (0)\ttotal: 2.4s\tremaining: 39m 58s\n",
      "100:\ttest: 0.8339197\tbest: 0.8339197 (100)\ttotal: 3m 57s\tremaining: 35m 17s\n",
      "200:\ttest: 0.8438880\tbest: 0.8440547 (199)\ttotal: 8m 5s\tremaining: 32m 8s\n",
      "300:\ttest: 0.8501926\tbest: 0.8502804 (292)\ttotal: 12m 21s\tremaining: 28m 42s\n",
      "400:\ttest: 0.8542775\tbest: 0.8542775 (400)\ttotal: 16m 33s\tremaining: 24m 44s\n",
      "500:\ttest: 0.8541304\tbest: 0.8545709 (417)\ttotal: 20m 36s\tremaining: 20m 31s\n",
      "600:\ttest: 0.8551361\tbest: 0.8551361 (600)\ttotal: 24m 45s\tremaining: 16m 26s\n",
      "700:\ttest: 0.8575017\tbest: 0.8575017 (700)\ttotal: 28m 54s\tremaining: 12m 19s\n",
      "800:\ttest: 0.8586600\tbest: 0.8589426 (779)\ttotal: 33m\tremaining: 8m 11s\n",
      "900:\ttest: 0.8600187\tbest: 0.8600349 (899)\ttotal: 37m 10s\tremaining: 4m 5s\n",
      "999:\ttest: 0.8610973\tbest: 0.8612330 (965)\ttotal: 41m 13s\tremaining: 0us\n",
      "\n",
      "bestTest = 0.8612329798\n",
      "bestIteration = 965\n",
      "\n",
      "Shrink model to first 966 iterations.\n",
      "0.15000000596046448\n"
     ]
    },
    {
     "data": {
      "text/html": [
       "<div>\n",
       "<style scoped>\n",
       "    .dataframe tbody tr th:only-of-type {\n",
       "        vertical-align: middle;\n",
       "    }\n",
       "\n",
       "    .dataframe tbody tr th {\n",
       "        vertical-align: top;\n",
       "    }\n",
       "\n",
       "    .dataframe thead th {\n",
       "        text-align: right;\n",
       "    }\n",
       "</style>\n",
       "<table border=\"1\" class=\"dataframe\">\n",
       "  <thead>\n",
       "    <tr style=\"text-align: right;\">\n",
       "      <th></th>\n",
       "      <th>Feature Id</th>\n",
       "      <th>Importances</th>\n",
       "    </tr>\n",
       "  </thead>\n",
       "  <tbody>\n",
       "    <tr>\n",
       "      <th>0</th>\n",
       "      <td>point</td>\n",
       "      <td>10.264925</td>\n",
       "    </tr>\n",
       "    <tr>\n",
       "      <th>1</th>\n",
       "      <td>dist_to_nearest_city_m</td>\n",
       "      <td>4.657687</td>\n",
       "    </tr>\n",
       "    <tr>\n",
       "      <th>2</th>\n",
       "      <td>number_of_orders_from_city_same_ranked_dist_fr...</td>\n",
       "      <td>4.359921</td>\n",
       "    </tr>\n",
       "    <tr>\n",
       "      <th>3</th>\n",
       "      <td>due</td>\n",
       "      <td>4.356049</td>\n",
       "    </tr>\n",
       "    <tr>\n",
       "      <th>4</th>\n",
       "      <td>hour</td>\n",
       "      <td>4.333476</td>\n",
       "    </tr>\n",
       "    <tr>\n",
       "      <th>5</th>\n",
       "      <td>last_order2</td>\n",
       "      <td>4.208343</td>\n",
       "    </tr>\n",
       "    <tr>\n",
       "      <th>6</th>\n",
       "      <td>dist_to_voronezh</td>\n",
       "      <td>3.475390</td>\n",
       "    </tr>\n",
       "    <tr>\n",
       "      <th>7</th>\n",
       "      <td>weekday</td>\n",
       "      <td>3.321982</td>\n",
       "    </tr>\n",
       "    <tr>\n",
       "      <th>8</th>\n",
       "      <td>minute</td>\n",
       "      <td>3.171472</td>\n",
       "    </tr>\n",
       "    <tr>\n",
       "      <th>9</th>\n",
       "      <td>time_of_day</td>\n",
       "      <td>2.925532</td>\n",
       "    </tr>\n",
       "    <tr>\n",
       "      <th>10</th>\n",
       "      <td>dist_to_nnovgorod</td>\n",
       "      <td>2.817737</td>\n",
       "    </tr>\n",
       "    <tr>\n",
       "      <th>11</th>\n",
       "      <td>dist_to_nearest_city</td>\n",
       "      <td>2.788062</td>\n",
       "    </tr>\n",
       "    <tr>\n",
       "      <th>12</th>\n",
       "      <td>dist_to_spb</td>\n",
       "      <td>2.756296</td>\n",
       "    </tr>\n",
       "    <tr>\n",
       "      <th>13</th>\n",
       "      <td>several_orders_to_this_point</td>\n",
       "      <td>2.649836</td>\n",
       "    </tr>\n",
       "    <tr>\n",
       "      <th>14</th>\n",
       "      <td>number_of_orders_same_ranked_dist_all</td>\n",
       "      <td>2.573157</td>\n",
       "    </tr>\n",
       "    <tr>\n",
       "      <th>15</th>\n",
       "      <td>dist_to_moscow</td>\n",
       "      <td>2.436132</td>\n",
       "    </tr>\n",
       "    <tr>\n",
       "      <th>16</th>\n",
       "      <td>cuted_dist_from_city</td>\n",
       "      <td>2.398784</td>\n",
       "    </tr>\n",
       "    <tr>\n",
       "      <th>17</th>\n",
       "      <td>ranked_dist_from_city</td>\n",
       "      <td>1.966463</td>\n",
       "    </tr>\n",
       "    <tr>\n",
       "      <th>18</th>\n",
       "      <td>number_of_orders_to_city_same_ranked_dist_to_city</td>\n",
       "      <td>1.966198</td>\n",
       "    </tr>\n",
       "    <tr>\n",
       "      <th>19</th>\n",
       "      <td>num_orders_from_city_same_class_rating_ratio_now</td>\n",
       "      <td>1.928371</td>\n",
       "    </tr>\n",
       "    <tr>\n",
       "      <th>20</th>\n",
       "      <td>dist_to_kazan</td>\n",
       "      <td>1.747165</td>\n",
       "    </tr>\n",
       "    <tr>\n",
       "      <th>21</th>\n",
       "      <td>last_order1</td>\n",
       "      <td>1.683924</td>\n",
       "    </tr>\n",
       "    <tr>\n",
       "      <th>22</th>\n",
       "      <td>from_city</td>\n",
       "      <td>1.652838</td>\n",
       "    </tr>\n",
       "    <tr>\n",
       "      <th>23</th>\n",
       "      <td>num_orders_to_city_same_class_rating_ratio_now</td>\n",
       "      <td>1.641564</td>\n",
       "    </tr>\n",
       "    <tr>\n",
       "      <th>24</th>\n",
       "      <td>dist</td>\n",
       "      <td>1.579380</td>\n",
       "    </tr>\n",
       "    <tr>\n",
       "      <th>25</th>\n",
       "      <td>ranked_dist_all</td>\n",
       "      <td>1.554079</td>\n",
       "    </tr>\n",
       "    <tr>\n",
       "      <th>26</th>\n",
       "      <td>s_class</td>\n",
       "      <td>1.531784</td>\n",
       "    </tr>\n",
       "    <tr>\n",
       "      <th>27</th>\n",
       "      <td>last_order3</td>\n",
       "      <td>1.334520</td>\n",
       "    </tr>\n",
       "    <tr>\n",
       "      <th>28</th>\n",
       "      <td>ranked_dist_to_city</td>\n",
       "      <td>1.272750</td>\n",
       "    </tr>\n",
       "    <tr>\n",
       "      <th>29</th>\n",
       "      <td>f_class</td>\n",
       "      <td>1.264738</td>\n",
       "    </tr>\n",
       "    <tr>\n",
       "      <th>30</th>\n",
       "      <td>number_of_orders_to_city_same_s_class_now</td>\n",
       "      <td>1.187947</td>\n",
       "    </tr>\n",
       "    <tr>\n",
       "      <th>31</th>\n",
       "      <td>number_of_orders_to_city_now</td>\n",
       "      <td>1.100400</td>\n",
       "    </tr>\n",
       "    <tr>\n",
       "      <th>32</th>\n",
       "      <td>number_of_orders_from_city_same_class_rating_now</td>\n",
       "      <td>1.042711</td>\n",
       "    </tr>\n",
       "    <tr>\n",
       "      <th>33</th>\n",
       "      <td>number_of_orders_to_city_same_t_class_now</td>\n",
       "      <td>1.028821</td>\n",
       "    </tr>\n",
       "    <tr>\n",
       "      <th>34</th>\n",
       "      <td>cuted_dist_to_city</td>\n",
       "      <td>0.987056</td>\n",
       "    </tr>\n",
       "    <tr>\n",
       "      <th>35</th>\n",
       "      <td>number_of_orders_to_city_same_f_class_now</td>\n",
       "      <td>0.979188</td>\n",
       "    </tr>\n",
       "    <tr>\n",
       "      <th>36</th>\n",
       "      <td>number_of_orders_from_city_same_s_class_now</td>\n",
       "      <td>0.842024</td>\n",
       "    </tr>\n",
       "    <tr>\n",
       "      <th>37</th>\n",
       "      <td>number_of_orders_to_city_same_class_rating_now</td>\n",
       "      <td>0.737208</td>\n",
       "    </tr>\n",
       "    <tr>\n",
       "      <th>38</th>\n",
       "      <td>number_of_orders_from_city_same_t_class_now</td>\n",
       "      <td>0.696680</td>\n",
       "    </tr>\n",
       "    <tr>\n",
       "      <th>39</th>\n",
       "      <td>number_of_orders_from_city_same_f_class_now</td>\n",
       "      <td>0.582210</td>\n",
       "    </tr>\n",
       "    <tr>\n",
       "      <th>40</th>\n",
       "      <td>num_orders_to_city_same_class_rating_ratio</td>\n",
       "      <td>0.471397</td>\n",
       "    </tr>\n",
       "    <tr>\n",
       "      <th>41</th>\n",
       "      <td>number_of_orders_from_city_better_class_rating</td>\n",
       "      <td>0.455589</td>\n",
       "    </tr>\n",
       "    <tr>\n",
       "      <th>42</th>\n",
       "      <td>num_orders_from_city_better_class_rating_ratio</td>\n",
       "      <td>0.448930</td>\n",
       "    </tr>\n",
       "    <tr>\n",
       "      <th>43</th>\n",
       "      <td>num_orders_from_city_same_class_rating_ratio</td>\n",
       "      <td>0.434377</td>\n",
       "    </tr>\n",
       "    <tr>\n",
       "      <th>44</th>\n",
       "      <td>number_of_orders_to_city_to_another_city_now</td>\n",
       "      <td>0.425188</td>\n",
       "    </tr>\n",
       "    <tr>\n",
       "      <th>45</th>\n",
       "      <td>peak_hour</td>\n",
       "      <td>0.418567</td>\n",
       "    </tr>\n",
       "    <tr>\n",
       "      <th>46</th>\n",
       "      <td>is_weekend</td>\n",
       "      <td>0.391000</td>\n",
       "    </tr>\n",
       "    <tr>\n",
       "      <th>47</th>\n",
       "      <td>num_orders_to_city_better_class_rating_ratio</td>\n",
       "      <td>0.349345</td>\n",
       "    </tr>\n",
       "    <tr>\n",
       "      <th>48</th>\n",
       "      <td>t_class</td>\n",
       "      <td>0.343741</td>\n",
       "    </tr>\n",
       "    <tr>\n",
       "      <th>49</th>\n",
       "      <td>number_of_orders_from_city_to_another_city_now</td>\n",
       "      <td>0.339014</td>\n",
       "    </tr>\n",
       "  </tbody>\n",
       "</table>\n",
       "</div>"
      ],
      "text/plain": [
       "                                           Feature Id  Importances\n",
       "0                                               point    10.264925\n",
       "1                              dist_to_nearest_city_m     4.657687\n",
       "2   number_of_orders_from_city_same_ranked_dist_fr...     4.359921\n",
       "3                                                 due     4.356049\n",
       "4                                                hour     4.333476\n",
       "5                                         last_order2     4.208343\n",
       "6                                    dist_to_voronezh     3.475390\n",
       "7                                             weekday     3.321982\n",
       "8                                              minute     3.171472\n",
       "9                                         time_of_day     2.925532\n",
       "10                                  dist_to_nnovgorod     2.817737\n",
       "11                               dist_to_nearest_city     2.788062\n",
       "12                                        dist_to_spb     2.756296\n",
       "13                       several_orders_to_this_point     2.649836\n",
       "14              number_of_orders_same_ranked_dist_all     2.573157\n",
       "15                                     dist_to_moscow     2.436132\n",
       "16                               cuted_dist_from_city     2.398784\n",
       "17                              ranked_dist_from_city     1.966463\n",
       "18  number_of_orders_to_city_same_ranked_dist_to_city     1.966198\n",
       "19   num_orders_from_city_same_class_rating_ratio_now     1.928371\n",
       "20                                      dist_to_kazan     1.747165\n",
       "21                                        last_order1     1.683924\n",
       "22                                          from_city     1.652838\n",
       "23     num_orders_to_city_same_class_rating_ratio_now     1.641564\n",
       "24                                               dist     1.579380\n",
       "25                                    ranked_dist_all     1.554079\n",
       "26                                            s_class     1.531784\n",
       "27                                        last_order3     1.334520\n",
       "28                                ranked_dist_to_city     1.272750\n",
       "29                                            f_class     1.264738\n",
       "30          number_of_orders_to_city_same_s_class_now     1.187947\n",
       "31                       number_of_orders_to_city_now     1.100400\n",
       "32   number_of_orders_from_city_same_class_rating_now     1.042711\n",
       "33          number_of_orders_to_city_same_t_class_now     1.028821\n",
       "34                                 cuted_dist_to_city     0.987056\n",
       "35          number_of_orders_to_city_same_f_class_now     0.979188\n",
       "36        number_of_orders_from_city_same_s_class_now     0.842024\n",
       "37     number_of_orders_to_city_same_class_rating_now     0.737208\n",
       "38        number_of_orders_from_city_same_t_class_now     0.696680\n",
       "39        number_of_orders_from_city_same_f_class_now     0.582210\n",
       "40         num_orders_to_city_same_class_rating_ratio     0.471397\n",
       "41     number_of_orders_from_city_better_class_rating     0.455589\n",
       "42     num_orders_from_city_better_class_rating_ratio     0.448930\n",
       "43       num_orders_from_city_same_class_rating_ratio     0.434377\n",
       "44       number_of_orders_to_city_to_another_city_now     0.425188\n",
       "45                                          peak_hour     0.418567\n",
       "46                                         is_weekend     0.391000\n",
       "47       num_orders_to_city_better_class_rating_ratio     0.349345\n",
       "48                                            t_class     0.343741\n",
       "49     number_of_orders_from_city_to_another_city_now     0.339014"
      ]
     },
     "execution_count": 12,
     "metadata": {},
     "output_type": "execute_result"
    }
   ],
   "source": [
    "model = catboost.CatBoost(params)\n",
    "model.fit(\n",
    "    train_pool, \n",
    "    eval_set=train_pool,\n",
    "    verbose=100,\n",
    ")\n",
    "\n",
    "print(model.learning_rate_)\n",
    "model.get_feature_importance(train_pool, prettified=True).head(50)"
   ]
  },
  {
   "cell_type": "code",
   "execution_count": 14,
   "id": "fb897fac",
   "metadata": {},
   "outputs": [],
   "source": [
    "test_pool = catboost.Pool(\n",
    "    df_test,\n",
    "    cat_features=cat_features)"
   ]
  },
  {
   "cell_type": "code",
   "execution_count": 15,
   "id": "d5e21659",
   "metadata": {},
   "outputs": [],
   "source": [
    "sub = pd.read_csv('1_data/sample_submission.csv')"
   ]
  },
  {
   "cell_type": "code",
   "execution_count": 16,
   "id": "ee29041c",
   "metadata": {},
   "outputs": [],
   "source": [
    "sub.target = model.predict(test_pool, prediction_type='Probability')[:, 1]"
   ]
  },
  {
   "cell_type": "code",
   "execution_count": 17,
   "id": "e0bb166f",
   "metadata": {},
   "outputs": [],
   "source": [
    "sub.to_csv('submission8.csv', index=False)"
   ]
  },
  {
   "cell_type": "code",
   "execution_count": null,
   "id": "4d76ca38",
   "metadata": {},
   "outputs": [],
   "source": []
  },
  {
   "cell_type": "code",
   "execution_count": null,
   "id": "316924e5",
   "metadata": {},
   "outputs": [],
   "source": []
  }
 ],
 "metadata": {
  "kernelspec": {
   "display_name": "Python 3 (ipykernel)",
   "language": "python",
   "name": "python3"
  },
  "language_info": {
   "codemirror_mode": {
    "name": "ipython",
    "version": 3
   },
   "file_extension": ".py",
   "mimetype": "text/x-python",
   "name": "python",
   "nbconvert_exporter": "python",
   "pygments_lexer": "ipython3",
   "version": "3.9.7"
  }
 },
 "nbformat": 4,
 "nbformat_minor": 5
}
